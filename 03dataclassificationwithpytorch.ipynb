{
  "nbformat": 4,
  "nbformat_minor": 0,
  "metadata": {
    "colab": {
      "provenance": [],
      "gpuType": "T4",
      "authorship_tag": "ABX9TyO7QzhvdfiL5iUDUIaGLltW",
      "include_colab_link": true
    },
    "kernelspec": {
      "name": "python3",
      "display_name": "Python 3"
    },
    "language_info": {
      "name": "python"
    },
    "accelerator": "GPU"
  },
  "cells": [
    {
      "cell_type": "markdown",
      "metadata": {
        "id": "view-in-github",
        "colab_type": "text"
      },
      "source": [
        "<a href=\"https://colab.research.google.com/github/Xalphanos/Pytorch_Basics/blob/main/03dataclassificationwithpytorch.ipynb\" target=\"_parent\"><img src=\"https://colab.research.google.com/assets/colab-badge.svg\" alt=\"Open In Colab\"/></a>"
      ]
    },
    {
      "cell_type": "markdown",
      "source": [
        "# Make data classification and get it ready"
      ],
      "metadata": {
        "id": "379axFhE1u31"
      }
    },
    {
      "cell_type": "code",
      "source": [
        "import sklearn"
      ],
      "metadata": {
        "id": "xR9EvOhk11ul"
      },
      "execution_count": 186,
      "outputs": []
    },
    {
      "cell_type": "code",
      "source": [
        "from sklearn.datasets import make_circles\n",
        "\n",
        "\n",
        "# make 1000 samples\n",
        "n_samples= 1000\n",
        "\n",
        "# create circles with some random noise\n",
        "x,y = make_circles(n_samples,\n",
        "                   noise=0.03,\n",
        "                   random_state=42)"
      ],
      "metadata": {
        "id": "ih0gP0j42R_U"
      },
      "execution_count": 187,
      "outputs": []
    },
    {
      "cell_type": "code",
      "source": [
        "len(x), len(y)"
      ],
      "metadata": {
        "colab": {
          "base_uri": "https://localhost:8080/"
        },
        "id": "RTjxefPUJDX2",
        "outputId": "5e52d768-ed35-4dea-87ca-8268b4c342cf"
      },
      "execution_count": 188,
      "outputs": [
        {
          "output_type": "execute_result",
          "data": {
            "text/plain": [
              "(1000, 1000)"
            ]
          },
          "metadata": {},
          "execution_count": 188
        }
      ]
    },
    {
      "cell_type": "code",
      "source": [
        "print(f\"first 5 samples of x{x[:5]}\")\n",
        "print(f\"first 5 samples of y{y[:5]}\")# 2 featues of x with one result of y\n",
        "y"
      ],
      "metadata": {
        "colab": {
          "base_uri": "https://localhost:8080/"
        },
        "id": "7wtXrelOJFVr",
        "outputId": "0cedc2b8-dae0-4737-e5dc-4733c3085820"
      },
      "execution_count": 189,
      "outputs": [
        {
          "output_type": "stream",
          "name": "stdout",
          "text": [
            "first 5 samples of x[[ 0.75424625  0.23148074]\n",
            " [-0.75615888  0.15325888]\n",
            " [-0.81539193  0.17328203]\n",
            " [-0.39373073  0.69288277]\n",
            " [ 0.44220765 -0.89672343]]\n",
            "first 5 samples of y[1 1 1 1 0]\n"
          ]
        },
        {
          "output_type": "execute_result",
          "data": {
            "text/plain": [
              "array([1, 1, 1, 1, 0, 1, 1, 1, 1, 0, 1, 0, 1, 1, 1, 1, 0, 1, 1, 0, 1, 0,\n",
              "       0, 1, 0, 0, 0, 1, 1, 1, 0, 0, 1, 0, 0, 0, 1, 1, 1, 0, 0, 0, 0, 1,\n",
              "       0, 0, 1, 1, 0, 1, 1, 1, 0, 1, 0, 0, 1, 0, 0, 1, 0, 0, 1, 0, 1, 1,\n",
              "       1, 1, 0, 1, 0, 0, 1, 1, 0, 0, 1, 0, 1, 0, 1, 0, 0, 0, 0, 1, 1, 1,\n",
              "       1, 0, 0, 0, 1, 0, 1, 0, 1, 0, 0, 1, 1, 0, 1, 0, 1, 1, 1, 1, 0, 1,\n",
              "       1, 1, 1, 1, 0, 0, 0, 1, 1, 0, 1, 0, 1, 0, 0, 1, 1, 0, 1, 1, 1, 1,\n",
              "       0, 1, 1, 0, 0, 0, 0, 0, 0, 0, 1, 0, 1, 1, 1, 0, 1, 0, 1, 0, 1, 0,\n",
              "       1, 0, 0, 1, 0, 1, 1, 1, 1, 1, 1, 1, 0, 1, 0, 0, 0, 0, 0, 1, 0, 0,\n",
              "       0, 0, 1, 1, 0, 1, 0, 1, 1, 0, 0, 0, 1, 1, 1, 1, 1, 0, 0, 0, 0, 0,\n",
              "       1, 0, 0, 1, 1, 1, 1, 1, 0, 1, 0, 1, 0, 0, 1, 1, 1, 0, 1, 0, 1, 1,\n",
              "       0, 1, 1, 0, 1, 0, 1, 0, 1, 1, 0, 1, 0, 1, 0, 0, 0, 1, 0, 0, 0, 0,\n",
              "       1, 1, 0, 0, 0, 0, 0, 0, 0, 1, 1, 1, 0, 0, 1, 1, 1, 0, 1, 0, 0, 0,\n",
              "       0, 1, 1, 0, 1, 0, 0, 0, 1, 0, 1, 0, 0, 1, 0, 1, 1, 1, 0, 0, 0, 1,\n",
              "       0, 0, 0, 1, 1, 1, 1, 0, 0, 0, 1, 0, 0, 0, 1, 0, 0, 0, 1, 1, 0, 1,\n",
              "       1, 1, 1, 1, 1, 1, 0, 0, 0, 0, 1, 0, 0, 0, 0, 1, 1, 1, 0, 0, 1, 0,\n",
              "       1, 0, 1, 1, 0, 0, 1, 1, 1, 1, 0, 0, 0, 0, 0, 0, 1, 1, 0, 1, 0, 0,\n",
              "       1, 0, 0, 0, 0, 0, 0, 0, 0, 1, 0, 0, 0, 0, 1, 0, 0, 1, 0, 1, 0, 0,\n",
              "       0, 1, 0, 0, 1, 1, 0, 0, 1, 0, 0, 1, 1, 0, 1, 1, 0, 0, 1, 0, 1, 0,\n",
              "       0, 0, 1, 1, 0, 0, 1, 1, 1, 1, 1, 0, 0, 1, 1, 1, 1, 0, 1, 1, 1, 1,\n",
              "       1, 0, 0, 1, 0, 1, 0, 0, 0, 0, 1, 0, 0, 0, 0, 0, 0, 0, 0, 0, 1, 1,\n",
              "       0, 1, 1, 1, 1, 1, 1, 0, 1, 1, 1, 1, 0, 0, 0, 1, 1, 1, 0, 0, 0, 0,\n",
              "       1, 1, 0, 0, 0, 0, 1, 0, 0, 0, 1, 0, 0, 1, 1, 1, 1, 1, 1, 0, 0, 0,\n",
              "       1, 0, 0, 0, 0, 0, 1, 1, 1, 0, 0, 0, 0, 0, 1, 1, 1, 0, 0, 1, 1, 1,\n",
              "       1, 0, 1, 1, 0, 1, 0, 0, 0, 1, 0, 0, 1, 0, 0, 1, 1, 0, 0, 1, 1, 0,\n",
              "       1, 0, 1, 0, 1, 0, 1, 0, 0, 0, 1, 0, 0, 0, 0, 0, 0, 1, 1, 1, 1, 0,\n",
              "       0, 0, 1, 0, 1, 1, 0, 0, 0, 0, 0, 1, 1, 1, 0, 0, 1, 0, 0, 1, 0, 0,\n",
              "       1, 0, 0, 1, 0, 0, 0, 1, 0, 0, 1, 1, 1, 0, 1, 1, 0, 0, 0, 1, 1, 1,\n",
              "       1, 0, 0, 1, 1, 1, 0, 0, 0, 0, 1, 1, 0, 0, 1, 1, 0, 0, 1, 1, 1, 1,\n",
              "       1, 1, 1, 0, 1, 0, 1, 0, 0, 1, 0, 1, 1, 1, 1, 0, 0, 1, 1, 0, 0, 1,\n",
              "       0, 1, 0, 0, 0, 1, 0, 0, 1, 1, 1, 1, 0, 1, 1, 1, 1, 1, 1, 1, 0, 1,\n",
              "       0, 1, 1, 1, 0, 0, 1, 0, 0, 0, 1, 1, 1, 1, 0, 0, 0, 0, 1, 0, 1, 1,\n",
              "       1, 0, 1, 0, 0, 1, 0, 0, 1, 1, 1, 1, 1, 0, 1, 0, 0, 0, 1, 1, 1, 1,\n",
              "       1, 0, 0, 0, 1, 1, 1, 1, 0, 0, 0, 0, 0, 1, 1, 0, 1, 0, 1, 0, 0, 0,\n",
              "       0, 0, 0, 0, 0, 0, 1, 1, 1, 1, 1, 0, 1, 0, 1, 1, 1, 1, 0, 1, 1, 1,\n",
              "       1, 1, 1, 1, 1, 0, 1, 1, 0, 1, 0, 0, 0, 1, 0, 1, 1, 1, 0, 1, 1, 0,\n",
              "       1, 1, 0, 1, 0, 1, 1, 0, 0, 1, 1, 1, 0, 0, 0, 0, 1, 1, 0, 0, 1, 1,\n",
              "       1, 1, 1, 1, 1, 1, 1, 1, 1, 1, 1, 1, 0, 0, 1, 0, 1, 0, 1, 0, 1, 1,\n",
              "       1, 1, 1, 1, 0, 1, 0, 1, 1, 1, 0, 1, 1, 0, 0, 1, 0, 1, 1, 0, 0, 1,\n",
              "       1, 1, 1, 1, 1, 1, 1, 0, 1, 1, 1, 0, 1, 0, 0, 1, 1, 0, 0, 0, 1, 0,\n",
              "       0, 1, 0, 0, 0, 1, 0, 1, 0, 0, 0, 0, 1, 0, 1, 1, 1, 1, 0, 1, 0, 0,\n",
              "       0, 0, 0, 0, 1, 0, 1, 0, 1, 0, 1, 1, 1, 0, 1, 0, 1, 0, 0, 1, 1, 1,\n",
              "       0, 0, 0, 1, 1, 0, 1, 0, 1, 1, 0, 1, 0, 0, 1, 1, 1, 0, 0, 0, 1, 1,\n",
              "       0, 0, 0, 0, 0, 1, 1, 0, 1, 0, 0, 0, 1, 0, 0, 0, 1, 1, 1, 1, 0, 1,\n",
              "       1, 1, 0, 1, 1, 1, 1, 0, 1, 1, 0, 1, 1, 0, 0, 1, 1, 1, 0, 0, 0, 0,\n",
              "       0, 0, 1, 0, 0, 1, 0, 0, 0, 1, 0, 1, 0, 1, 1, 0, 0, 0, 0, 0, 0, 0,\n",
              "       0, 1, 0, 1, 0, 0, 0, 1, 0, 0])"
            ]
          },
          "metadata": {},
          "execution_count": 189
        }
      ]
    },
    {
      "cell_type": "code",
      "source": [
        "# make a dataframe of circle data\n",
        "import pandas as pd\n",
        "circles=pd.DataFrame({\"X1\": x[:,0],\n",
        "                      \"X2\": x[:,1],\n",
        "                      \"label\":y\n",
        "\n",
        "})\n",
        "circles.head(10)"
      ],
      "metadata": {
        "colab": {
          "base_uri": "https://localhost:8080/",
          "height": 363
        },
        "id": "3jFvcvk3JQAz",
        "outputId": "bf96bfe5-64a0-4bab-df6a-68798975eec8"
      },
      "execution_count": 190,
      "outputs": [
        {
          "output_type": "execute_result",
          "data": {
            "text/plain": [
              "         X1        X2  label\n",
              "0  0.754246  0.231481      1\n",
              "1 -0.756159  0.153259      1\n",
              "2 -0.815392  0.173282      1\n",
              "3 -0.393731  0.692883      1\n",
              "4  0.442208 -0.896723      0\n",
              "5 -0.479646  0.676435      1\n",
              "6 -0.013648  0.803349      1\n",
              "7  0.771513  0.147760      1\n",
              "8 -0.169322 -0.793456      1\n",
              "9 -0.121486  1.021509      0"
            ],
            "text/html": [
              "\n",
              "  <div id=\"df-b5677452-cca5-45b2-a34e-9fb235bde827\" class=\"colab-df-container\">\n",
              "    <div>\n",
              "<style scoped>\n",
              "    .dataframe tbody tr th:only-of-type {\n",
              "        vertical-align: middle;\n",
              "    }\n",
              "\n",
              "    .dataframe tbody tr th {\n",
              "        vertical-align: top;\n",
              "    }\n",
              "\n",
              "    .dataframe thead th {\n",
              "        text-align: right;\n",
              "    }\n",
              "</style>\n",
              "<table border=\"1\" class=\"dataframe\">\n",
              "  <thead>\n",
              "    <tr style=\"text-align: right;\">\n",
              "      <th></th>\n",
              "      <th>X1</th>\n",
              "      <th>X2</th>\n",
              "      <th>label</th>\n",
              "    </tr>\n",
              "  </thead>\n",
              "  <tbody>\n",
              "    <tr>\n",
              "      <th>0</th>\n",
              "      <td>0.754246</td>\n",
              "      <td>0.231481</td>\n",
              "      <td>1</td>\n",
              "    </tr>\n",
              "    <tr>\n",
              "      <th>1</th>\n",
              "      <td>-0.756159</td>\n",
              "      <td>0.153259</td>\n",
              "      <td>1</td>\n",
              "    </tr>\n",
              "    <tr>\n",
              "      <th>2</th>\n",
              "      <td>-0.815392</td>\n",
              "      <td>0.173282</td>\n",
              "      <td>1</td>\n",
              "    </tr>\n",
              "    <tr>\n",
              "      <th>3</th>\n",
              "      <td>-0.393731</td>\n",
              "      <td>0.692883</td>\n",
              "      <td>1</td>\n",
              "    </tr>\n",
              "    <tr>\n",
              "      <th>4</th>\n",
              "      <td>0.442208</td>\n",
              "      <td>-0.896723</td>\n",
              "      <td>0</td>\n",
              "    </tr>\n",
              "    <tr>\n",
              "      <th>5</th>\n",
              "      <td>-0.479646</td>\n",
              "      <td>0.676435</td>\n",
              "      <td>1</td>\n",
              "    </tr>\n",
              "    <tr>\n",
              "      <th>6</th>\n",
              "      <td>-0.013648</td>\n",
              "      <td>0.803349</td>\n",
              "      <td>1</td>\n",
              "    </tr>\n",
              "    <tr>\n",
              "      <th>7</th>\n",
              "      <td>0.771513</td>\n",
              "      <td>0.147760</td>\n",
              "      <td>1</td>\n",
              "    </tr>\n",
              "    <tr>\n",
              "      <th>8</th>\n",
              "      <td>-0.169322</td>\n",
              "      <td>-0.793456</td>\n",
              "      <td>1</td>\n",
              "    </tr>\n",
              "    <tr>\n",
              "      <th>9</th>\n",
              "      <td>-0.121486</td>\n",
              "      <td>1.021509</td>\n",
              "      <td>0</td>\n",
              "    </tr>\n",
              "  </tbody>\n",
              "</table>\n",
              "</div>\n",
              "    <div class=\"colab-df-buttons\">\n",
              "\n",
              "  <div class=\"colab-df-container\">\n",
              "    <button class=\"colab-df-convert\" onclick=\"convertToInteractive('df-b5677452-cca5-45b2-a34e-9fb235bde827')\"\n",
              "            title=\"Convert this dataframe to an interactive table.\"\n",
              "            style=\"display:none;\">\n",
              "\n",
              "  <svg xmlns=\"http://www.w3.org/2000/svg\" height=\"24px\" viewBox=\"0 -960 960 960\">\n",
              "    <path d=\"M120-120v-720h720v720H120Zm60-500h600v-160H180v160Zm220 220h160v-160H400v160Zm0 220h160v-160H400v160ZM180-400h160v-160H180v160Zm440 0h160v-160H620v160ZM180-180h160v-160H180v160Zm440 0h160v-160H620v160Z\"/>\n",
              "  </svg>\n",
              "    </button>\n",
              "\n",
              "  <style>\n",
              "    .colab-df-container {\n",
              "      display:flex;\n",
              "      gap: 12px;\n",
              "    }\n",
              "\n",
              "    .colab-df-convert {\n",
              "      background-color: #E8F0FE;\n",
              "      border: none;\n",
              "      border-radius: 50%;\n",
              "      cursor: pointer;\n",
              "      display: none;\n",
              "      fill: #1967D2;\n",
              "      height: 32px;\n",
              "      padding: 0 0 0 0;\n",
              "      width: 32px;\n",
              "    }\n",
              "\n",
              "    .colab-df-convert:hover {\n",
              "      background-color: #E2EBFA;\n",
              "      box-shadow: 0px 1px 2px rgba(60, 64, 67, 0.3), 0px 1px 3px 1px rgba(60, 64, 67, 0.15);\n",
              "      fill: #174EA6;\n",
              "    }\n",
              "\n",
              "    .colab-df-buttons div {\n",
              "      margin-bottom: 4px;\n",
              "    }\n",
              "\n",
              "    [theme=dark] .colab-df-convert {\n",
              "      background-color: #3B4455;\n",
              "      fill: #D2E3FC;\n",
              "    }\n",
              "\n",
              "    [theme=dark] .colab-df-convert:hover {\n",
              "      background-color: #434B5C;\n",
              "      box-shadow: 0px 1px 3px 1px rgba(0, 0, 0, 0.15);\n",
              "      filter: drop-shadow(0px 1px 2px rgba(0, 0, 0, 0.3));\n",
              "      fill: #FFFFFF;\n",
              "    }\n",
              "  </style>\n",
              "\n",
              "    <script>\n",
              "      const buttonEl =\n",
              "        document.querySelector('#df-b5677452-cca5-45b2-a34e-9fb235bde827 button.colab-df-convert');\n",
              "      buttonEl.style.display =\n",
              "        google.colab.kernel.accessAllowed ? 'block' : 'none';\n",
              "\n",
              "      async function convertToInteractive(key) {\n",
              "        const element = document.querySelector('#df-b5677452-cca5-45b2-a34e-9fb235bde827');\n",
              "        const dataTable =\n",
              "          await google.colab.kernel.invokeFunction('convertToInteractive',\n",
              "                                                    [key], {});\n",
              "        if (!dataTable) return;\n",
              "\n",
              "        const docLinkHtml = 'Like what you see? Visit the ' +\n",
              "          '<a target=\"_blank\" href=https://colab.research.google.com/notebooks/data_table.ipynb>data table notebook</a>'\n",
              "          + ' to learn more about interactive tables.';\n",
              "        element.innerHTML = '';\n",
              "        dataTable['output_type'] = 'display_data';\n",
              "        await google.colab.output.renderOutput(dataTable, element);\n",
              "        const docLink = document.createElement('div');\n",
              "        docLink.innerHTML = docLinkHtml;\n",
              "        element.appendChild(docLink);\n",
              "      }\n",
              "    </script>\n",
              "  </div>\n",
              "\n",
              "\n",
              "    <div id=\"df-dacdcbe1-7014-4839-ab12-88c81071db7d\">\n",
              "      <button class=\"colab-df-quickchart\" onclick=\"quickchart('df-dacdcbe1-7014-4839-ab12-88c81071db7d')\"\n",
              "                title=\"Suggest charts\"\n",
              "                style=\"display:none;\">\n",
              "\n",
              "<svg xmlns=\"http://www.w3.org/2000/svg\" height=\"24px\"viewBox=\"0 0 24 24\"\n",
              "     width=\"24px\">\n",
              "    <g>\n",
              "        <path d=\"M19 3H5c-1.1 0-2 .9-2 2v14c0 1.1.9 2 2 2h14c1.1 0 2-.9 2-2V5c0-1.1-.9-2-2-2zM9 17H7v-7h2v7zm4 0h-2V7h2v10zm4 0h-2v-4h2v4z\"/>\n",
              "    </g>\n",
              "</svg>\n",
              "      </button>\n",
              "\n",
              "<style>\n",
              "  .colab-df-quickchart {\n",
              "      --bg-color: #E8F0FE;\n",
              "      --fill-color: #1967D2;\n",
              "      --hover-bg-color: #E2EBFA;\n",
              "      --hover-fill-color: #174EA6;\n",
              "      --disabled-fill-color: #AAA;\n",
              "      --disabled-bg-color: #DDD;\n",
              "  }\n",
              "\n",
              "  [theme=dark] .colab-df-quickchart {\n",
              "      --bg-color: #3B4455;\n",
              "      --fill-color: #D2E3FC;\n",
              "      --hover-bg-color: #434B5C;\n",
              "      --hover-fill-color: #FFFFFF;\n",
              "      --disabled-bg-color: #3B4455;\n",
              "      --disabled-fill-color: #666;\n",
              "  }\n",
              "\n",
              "  .colab-df-quickchart {\n",
              "    background-color: var(--bg-color);\n",
              "    border: none;\n",
              "    border-radius: 50%;\n",
              "    cursor: pointer;\n",
              "    display: none;\n",
              "    fill: var(--fill-color);\n",
              "    height: 32px;\n",
              "    padding: 0;\n",
              "    width: 32px;\n",
              "  }\n",
              "\n",
              "  .colab-df-quickchart:hover {\n",
              "    background-color: var(--hover-bg-color);\n",
              "    box-shadow: 0 1px 2px rgba(60, 64, 67, 0.3), 0 1px 3px 1px rgba(60, 64, 67, 0.15);\n",
              "    fill: var(--button-hover-fill-color);\n",
              "  }\n",
              "\n",
              "  .colab-df-quickchart-complete:disabled,\n",
              "  .colab-df-quickchart-complete:disabled:hover {\n",
              "    background-color: var(--disabled-bg-color);\n",
              "    fill: var(--disabled-fill-color);\n",
              "    box-shadow: none;\n",
              "  }\n",
              "\n",
              "  .colab-df-spinner {\n",
              "    border: 2px solid var(--fill-color);\n",
              "    border-color: transparent;\n",
              "    border-bottom-color: var(--fill-color);\n",
              "    animation:\n",
              "      spin 1s steps(1) infinite;\n",
              "  }\n",
              "\n",
              "  @keyframes spin {\n",
              "    0% {\n",
              "      border-color: transparent;\n",
              "      border-bottom-color: var(--fill-color);\n",
              "      border-left-color: var(--fill-color);\n",
              "    }\n",
              "    20% {\n",
              "      border-color: transparent;\n",
              "      border-left-color: var(--fill-color);\n",
              "      border-top-color: var(--fill-color);\n",
              "    }\n",
              "    30% {\n",
              "      border-color: transparent;\n",
              "      border-left-color: var(--fill-color);\n",
              "      border-top-color: var(--fill-color);\n",
              "      border-right-color: var(--fill-color);\n",
              "    }\n",
              "    40% {\n",
              "      border-color: transparent;\n",
              "      border-right-color: var(--fill-color);\n",
              "      border-top-color: var(--fill-color);\n",
              "    }\n",
              "    60% {\n",
              "      border-color: transparent;\n",
              "      border-right-color: var(--fill-color);\n",
              "    }\n",
              "    80% {\n",
              "      border-color: transparent;\n",
              "      border-right-color: var(--fill-color);\n",
              "      border-bottom-color: var(--fill-color);\n",
              "    }\n",
              "    90% {\n",
              "      border-color: transparent;\n",
              "      border-bottom-color: var(--fill-color);\n",
              "    }\n",
              "  }\n",
              "</style>\n",
              "\n",
              "      <script>\n",
              "        async function quickchart(key) {\n",
              "          const quickchartButtonEl =\n",
              "            document.querySelector('#' + key + ' button');\n",
              "          quickchartButtonEl.disabled = true;  // To prevent multiple clicks.\n",
              "          quickchartButtonEl.classList.add('colab-df-spinner');\n",
              "          try {\n",
              "            const charts = await google.colab.kernel.invokeFunction(\n",
              "                'suggestCharts', [key], {});\n",
              "          } catch (error) {\n",
              "            console.error('Error during call to suggestCharts:', error);\n",
              "          }\n",
              "          quickchartButtonEl.classList.remove('colab-df-spinner');\n",
              "          quickchartButtonEl.classList.add('colab-df-quickchart-complete');\n",
              "        }\n",
              "        (() => {\n",
              "          let quickchartButtonEl =\n",
              "            document.querySelector('#df-dacdcbe1-7014-4839-ab12-88c81071db7d button');\n",
              "          quickchartButtonEl.style.display =\n",
              "            google.colab.kernel.accessAllowed ? 'block' : 'none';\n",
              "        })();\n",
              "      </script>\n",
              "    </div>\n",
              "\n",
              "    </div>\n",
              "  </div>\n"
            ],
            "application/vnd.google.colaboratory.intrinsic+json": {
              "type": "dataframe",
              "variable_name": "circles",
              "summary": "{\n  \"name\": \"circles\",\n  \"rows\": 1000,\n  \"fields\": [\n    {\n      \"column\": \"X1\",\n      \"properties\": {\n        \"dtype\": \"number\",\n        \"std\": 0.6398365674574611,\n        \"min\": -1.0595024599098635,\n        \"max\": 1.0337117525463373,\n        \"num_unique_values\": 1000,\n        \"samples\": [\n          -0.3751930206933384,\n          0.015380346701456493,\n          -0.7027835978832848\n        ],\n        \"semantic_type\": \"\",\n        \"description\": \"\"\n      }\n    },\n    {\n      \"column\": \"X2\",\n      \"properties\": {\n        \"dtype\": \"number\",\n        \"std\": 0.6411559581015379,\n        \"min\": -1.0677683182718436,\n        \"max\": 1.0360036756154805,\n        \"num_unique_values\": 1000,\n        \"samples\": [\n          0.6826597225888621,\n          0.9600260220697324,\n          -0.3147169925147762\n        ],\n        \"semantic_type\": \"\",\n        \"description\": \"\"\n      }\n    },\n    {\n      \"column\": \"label\",\n      \"properties\": {\n        \"dtype\": \"number\",\n        \"std\": 0,\n        \"min\": 0,\n        \"max\": 1,\n        \"num_unique_values\": 2,\n        \"samples\": [\n          0,\n          1\n        ],\n        \"semantic_type\": \"\",\n        \"description\": \"\"\n      }\n    }\n  ]\n}"
            }
          },
          "metadata": {},
          "execution_count": 190
        }
      ]
    },
    {
      "cell_type": "code",
      "source": [
        "# viasualize and do it again\n",
        "import matplotlib.pyplot as plt\n",
        "plt.scatter(x=x[:,0],\n",
        "            y=x[:,1],\n",
        "            c=y,\n",
        "            cmap=plt.cm.RdYlBu);\n"
      ],
      "metadata": {
        "colab": {
          "base_uri": "https://localhost:8080/",
          "height": 430
        },
        "id": "sp31RLpQJhMM",
        "outputId": "da5032de-22f9-4474-f1b4-37b457e0d9f0"
      },
      "execution_count": 191,
      "outputs": [
        {
          "output_type": "display_data",
          "data": {
            "text/plain": [
              "<Figure size 640x480 with 1 Axes>"
            ],
            "image/png": "[encoded data removed]"
          },
          "metadata": {}
        }
      ]
    },
    {
      "cell_type": "markdown",
      "source": [
        "# data we are working on is called is called toy dataset: data which is small enough to experiement but sizeable enough for learking ai and ml learning\n"
      ],
      "metadata": {
        "id": "i1kdwZ8qpLjc"
      }
    },
    {
      "cell_type": "markdown",
      "source": [
        "# 1.1 Check input and output datasets, (as dataset mismatch is one of the most common errors)"
      ],
      "metadata": {
        "id": "uFbq5H8LpqMx"
      }
    },
    {
      "cell_type": "code",
      "source": [
        "x.shape,y.shape"
      ],
      "metadata": {
        "colab": {
          "base_uri": "https://localhost:8080/"
        },
        "id": "hs-vdusCpyeh",
        "outputId": "038d5819-0c3f-49e2-c51a-ee4ebe45df84"
      },
      "execution_count": 192,
      "outputs": [
        {
          "output_type": "execute_result",
          "data": {
            "text/plain": [
              "((1000, 2), (1000,))"
            ]
          },
          "metadata": {},
          "execution_count": 192
        }
      ]
    },
    {
      "cell_type": "code",
      "source": [
        "# view the first example of featues and labels\n",
        "x_sample=x[0]\n",
        "y_sample=y[0]\n",
        "print(f\"Value for one sample of x: {x_sample} and the same for y: {y_sample}\")\n",
        "print(f\"Shapes for one sample of x:{x_sample.shape} and similarly for y {y_sample.shape}\")"
      ],
      "metadata": {
        "colab": {
          "base_uri": "https://localhost:8080/"
        },
        "id": "r1BJZt8Ap1uL",
        "outputId": "3ade53bf-fdca-4113-b36f-c4a4d447b116"
      },
      "execution_count": 193,
      "outputs": [
        {
          "output_type": "stream",
          "name": "stdout",
          "text": [
            "Value for one sample of x: [0.75424625 0.23148074] and the same for y: 1\n",
            "Shapes for one sample of x:(2,) and similarly for y ()\n"
          ]
        }
      ]
    },
    {
      "cell_type": "markdown",
      "source": [
        "# turning data into tensors and create train and test splits"
      ],
      "metadata": {
        "id": "8uOnhgDythK9"
      }
    },
    {
      "cell_type": "code",
      "source": [
        "import torch\n",
        "\n",
        "torch.__version__"
      ],
      "metadata": {
        "colab": {
          "base_uri": "https://localhost:8080/",
          "height": 36
        },
        "id": "Q8MOUmShtip_",
        "outputId": "054c6587-47be-4619-82d2-0fb23fb0bdcd"
      },
      "execution_count": 194,
      "outputs": [
        {
          "output_type": "execute_result",
          "data": {
            "text/plain": [
              "'2.8.0+cu126'"
            ],
            "application/vnd.google.colaboratory.intrinsic+json": {
              "type": "string"
            }
          },
          "metadata": {},
          "execution_count": 194
        }
      ]
    },
    {
      "cell_type": "code",
      "source": [
        "# turn data into tensors\n",
        "X=torch.from_numpy(x).type(torch.float)\n",
        "y=torch.from_numpy(y).type(torch.float)\n",
        "X[:5],y[:5]"
      ],
      "metadata": {
        "colab": {
          "base_uri": "https://localhost:8080/"
        },
        "id": "Lk0oKud_tlna",
        "outputId": "69cfb6b3-1eab-4219-f6d6-dcb9583c85f7"
      },
      "execution_count": 195,
      "outputs": [
        {
          "output_type": "execute_result",
          "data": {
            "text/plain": [
              "(tensor([[ 0.7542,  0.2315],\n",
              "         [-0.7562,  0.1533],\n",
              "         [-0.8154,  0.1733],\n",
              "         [-0.3937,  0.6929],\n",
              "         [ 0.4422, -0.8967]]),\n",
              " tensor([1., 1., 1., 1., 0.]))"
            ]
          },
          "metadata": {},
          "execution_count": 195
        }
      ]
    },
    {
      "cell_type": "code",
      "source": [
        "X.dtype,y.dtype, type(X)"
      ],
      "metadata": {
        "colab": {
          "base_uri": "https://localhost:8080/"
        },
        "id": "caSr19PMt64o",
        "outputId": "81c3631a-e289-46ee-cdc4-02e35bb236b5"
      },
      "execution_count": 196,
      "outputs": [
        {
          "output_type": "execute_result",
          "data": {
            "text/plain": [
              "(torch.float32, torch.float32, torch.Tensor)"
            ]
          },
          "metadata": {},
          "execution_count": 196
        }
      ]
    },
    {
      "cell_type": "code",
      "source": [
        "# splitting data into training and tests sets\n",
        "\n",
        "from sklearn.model_selection import train_test_split # this is what randomly\n",
        "\n",
        "X_train,X_test, y_train,y_test= train_test_split(X,\n",
        "                                                 y,\n",
        "                                                 test_size=0.2,\n",
        "                                                 random_state=42)\n",
        "# 20 percent of the data will be test and rest 80 percent will bhe train )\n",
        "len(X_train),len(X_test),len(y_train), len(  y_test)"
      ],
      "metadata": {
        "id": "Swj1YB4Nvyp_",
        "colab": {
          "base_uri": "https://localhost:8080/"
        },
        "outputId": "7989af70-a2e8-48bf-ec62-af236acbc137"
      },
      "execution_count": 197,
      "outputs": [
        {
          "output_type": "execute_result",
          "data": {
            "text/plain": [
              "(800, 200, 800, 200)"
            ]
          },
          "metadata": {},
          "execution_count": 197
        }
      ]
    },
    {
      "cell_type": "markdown",
      "source": [
        "## Now we are attempting to build the model\n",
        "steps are:\n",
        "1. setup device agonstic code\n",
        "2. contruct a model by subcalssing nn.module\n",
        "3. define loss function and optimiser\n",
        "4. create a training and test loop\n",
        "\n"
      ],
      "metadata": {
        "id": "oicuBcSAbvpu"
      }
    },
    {
      "cell_type": "code",
      "source": [
        " # import Pytorch and nn\n",
        " import torch\n",
        " from torch import nn\n",
        "\n",
        " # make device agostic code\n",
        " device = 'cuda' if torch.cuda.is_available() else \"cpu\"\n",
        "\n"
      ],
      "metadata": {
        "id": "QGllVOmvcF-0"
      },
      "execution_count": 198,
      "outputs": []
    },
    {
      "cell_type": "code",
      "source": [
        "X_train"
      ],
      "metadata": {
        "colab": {
          "base_uri": "https://localhost:8080/"
        },
        "id": "HsJ9cNKXeV5v",
        "outputId": "ce0b18ad-4164-40f7-9c5e-0e03e981c634"
      },
      "execution_count": 199,
      "outputs": [
        {
          "output_type": "execute_result",
          "data": {
            "text/plain": [
              "tensor([[ 0.6579, -0.4651],\n",
              "        [ 0.6319, -0.7347],\n",
              "        [-1.0086, -0.1240],\n",
              "        ...,\n",
              "        [ 0.0157, -1.0300],\n",
              "        [ 1.0110,  0.1680],\n",
              "        [ 0.5578, -0.5709]])"
            ]
          },
          "metadata": {},
          "execution_count": 199
        }
      ]
    },
    {
      "cell_type": "markdown",
      "source": [
        "# Creating the model\n",
        "1. Subclasses nn.moudle (almost all models in pytorch subclasses nn.module\n",
        "2. create 2 nn.Linear() ' layers that are capable of handling the shapes of our data\n",
        "3. Defines a forward method that outlines the forward pass(for forward computation)\n",
        "4. Instantiate an instance of our model class and send it to the target device\n"
      ],
      "metadata": {
        "id": "XEvepV2dex4j"
      }
    },
    {
      "cell_type": "code",
      "source": [
        "# construct a model that subclasses nn.Module\n",
        "\n",
        "class CircleModelPrototype(nn.Module):\n",
        "  def __init__(self):\n",
        "    super().__init__()\n",
        "    #2. create the linear layers instead of the properites we did at the prototyp(e\n",
        "    # self.layer_1=nn.Linear(in_features=2,out_features=5)# takes in 2 featues and outputs 5 to the second layer\n",
        "    # self.layer_2=nn.Linear(in_features=5,out_features=1)# takes in 5 featues and outputs a single feature\n",
        "\n",
        "    self.two_linear_layers= nn.Sequential(\n",
        "        nn.Linear(in_features=2,out_features=5),\n",
        "        nn.Linear(in_features=5,out_features=1)\n",
        "    )\n",
        "  def forward(self,x):\n",
        "    #return self.layer_2(self.layer(_1(x)) # x -> layer_1 -> layer 2 -> output\n",
        "    return self.two_linear_layers(x)\n",
        "# instantiate a instance of the model class\n",
        "\n",
        "model_0= CircleModelPrototype().to(device)\n",
        "model_0\n",
        "\n"
      ],
      "metadata": {
        "colab": {
          "base_uri": "https://localhost:8080/"
        },
        "id": "pH1B03gbfQYW",
        "outputId": "c8c5ef06-1ee6-4503-9ba2-4cab46f176a9"
      },
      "execution_count": 200,
      "outputs": [
        {
          "output_type": "execute_result",
          "data": {
            "text/plain": [
              "CircleModelPrototype(\n",
              "  (two_linear_layers): Sequential(\n",
              "    (0): Linear(in_features=2, out_features=5, bias=True)\n",
              "    (1): Linear(in_features=5, out_features=1, bias=True)\n",
              "  )\n",
              ")"
            ]
          },
          "metadata": {},
          "execution_count": 200
        }
      ]
    },
    {
      "cell_type": "markdown",
      "source": [
        "Subclassing is bette rwith larger models\n"
      ],
      "metadata": {
        "id": "rSJAEJHBzZ_n"
      }
    },
    {
      "cell_type": "code",
      "source": [
        " next(model_0.parameters()).device"
      ],
      "metadata": {
        "colab": {
          "base_uri": "https://localhost:8080/"
        },
        "id": "-UDSaRzrpGtm",
        "outputId": "75440342-bd79-4fa4-f3ed-3c35df7cac4d"
      },
      "execution_count": 201,
      "outputs": [
        {
          "output_type": "execute_result",
          "data": {
            "text/plain": [
              "device(type='cpu')"
            ]
          },
          "metadata": {},
          "execution_count": 201
        }
      ]
    },
    {
      "cell_type": "code",
      "source": [
        "# replicating the mdoel with nn.sequential\n",
        "model_1=nn.Sequential(\n",
        "    nn.Linear(in_features=2,out_features=5),\n",
        "    nn.Linear(in_features=5,out_features=1)\n",
        ").to(device)"
      ],
      "metadata": {
        "id": "lU8CyFgJrCre"
      },
      "execution_count": 202,
      "outputs": []
    },
    {
      "cell_type": "code",
      "source": [
        "model_0.state_dict()"
      ],
      "metadata": {
        "colab": {
          "base_uri": "https://localhost:8080/"
        },
        "id": "bnKPNQIiwCSM",
        "outputId": "ea1f011a-f8dc-4072-ded6-fcc703ee5443"
      },
      "execution_count": 203,
      "outputs": [
        {
          "output_type": "execute_result",
          "data": {
            "text/plain": [
              "OrderedDict([('two_linear_layers.0.weight',\n",
              "              tensor([[ 0.5406,  0.5869],\n",
              "                      [-0.1657,  0.6496],\n",
              "                      [-0.1549,  0.1427],\n",
              "                      [-0.3443,  0.4153],\n",
              "                      [ 0.6233, -0.5188]])),\n",
              "             ('two_linear_layers.0.bias',\n",
              "              tensor([0.6146, 0.1323, 0.5224, 0.0958, 0.3410])),\n",
              "             ('two_linear_layers.1.weight',\n",
              "              tensor([[-0.0631,  0.3448,  0.0661, -0.2088,  0.1140]])),\n",
              "             ('two_linear_layers.1.bias', tensor([-0.2060]))])"
            ]
          },
          "metadata": {},
          "execution_count": 203
        }
      ]
    },
    {
      "cell_type": "code",
      "source": [
        "# make predictions\n",
        "with torch.inference_mode():\n",
        "  untrained_preds=model_0(X_test.to(device))\n",
        "print(f\"length of the predictions : {len(untrained_preds)}, shape: {untrained_preds.shape}\")\n",
        "print(f\"length of the test samples: {len(X_test)}, shape of the same {X_test.shape}\")\n",
        "\n",
        "print(f\"\\n first 10 predictions :\\n{untrained_preds[:10]}\")\n",
        "print(f\"\\n first ten labels\\n {y_test[:10]}\")"
      ],
      "metadata": {
        "id": "2Y50t8n04-hM",
        "colab": {
          "base_uri": "https://localhost:8080/"
        },
        "outputId": "aa0ee02e-ce0a-42ec-f183-29de05255459"
      },
      "execution_count": 204,
      "outputs": [
        {
          "output_type": "stream",
          "name": "stdout",
          "text": [
            "length of the predictions : 200, shape: torch.Size([200, 1])\n",
            "length of the test samples: 200, shape of the same torch.Size([200, 2])\n",
            "\n",
            " first 10 predictions :\n",
            "tensor([[-0.1269],\n",
            "        [-0.0967],\n",
            "        [-0.1908],\n",
            "        [-0.1089],\n",
            "        [-0.1667],\n",
            "        [-0.1484],\n",
            "        [-0.0826],\n",
            "        [-0.0946],\n",
            "        [-0.1918],\n",
            "        [-0.0944]])\n",
            "\n",
            " first ten labels\n",
            " tensor([1., 0., 1., 0., 1., 1., 0., 0., 1., 0.])\n"
          ]
        }
      ]
    },
    {
      "cell_type": "code",
      "source": [
        "X_test[:10], y_test[:10]"
      ],
      "metadata": {
        "colab": {
          "base_uri": "https://localhost:8080/"
        },
        "id": "FBBUzEIky4tU",
        "outputId": "6f0a4949-da01-4acf-91f6-a53c73f08f7b"
      },
      "execution_count": 205,
      "outputs": [
        {
          "output_type": "execute_result",
          "data": {
            "text/plain": [
              "(tensor([[-0.3752,  0.6827],\n",
              "         [ 0.0154,  0.9600],\n",
              "         [-0.7028, -0.3147],\n",
              "         [-0.2853,  0.9664],\n",
              "         [ 0.4024, -0.7438],\n",
              "         [ 0.6323, -0.5711],\n",
              "         [ 0.8561,  0.5499],\n",
              "         [ 1.0034,  0.1903],\n",
              "         [-0.7489, -0.2951],\n",
              "         [ 0.0538,  0.9739]]),\n",
              " tensor([1., 0., 1., 0., 1., 1., 0., 0., 1., 0.]))"
            ]
          },
          "metadata": {},
          "execution_count": 205
        }
      ]
    },
    {
      "cell_type": "markdown",
      "source": [
        "### setup loss fucntion and optimiser\n",
        "which loss function should we use?\n",
        "\n",
        "Problem specific loss function and optimiser\n",
        "\n",
        "for regression you might want to use Mean Absolute Error (MAE) or Mean squared error(MSE)\n",
        "\n",
        "for classification you want binary cross entropy or categorical cross entropy(cross entropy)\n",
        "\n",
        "reminder the loss function measures how wrong your predictions are\n",
        "And for optimisers , two of the common and useful are SGD and Adam, however there are many options to choose from\n",
        "\n",
        "* For the loss fucntion we are going to use 'torch.nn.BECWithLogitsLoss(), check out binary cross entropy\n",
        "\n",
        "* search for logit in deep learning\n",
        "\n",
        "* for different optimisers use torch.optim\n",
        "\n",
        "\n"
      ],
      "metadata": {
        "id": "t4zBweDtzDj3"
      }
    },
    {
      "cell_type": "code",
      "source": [
        "# we are setting up the loss funcition\n",
        "\n",
        "#loss_fn=nn.BCELoss() one problem is that it requires the input to go through the sigmoid function\n",
        "\n",
        "''' nn.Sequential(\n",
        "    nn.Sigmoid(),\n",
        "    nn.BCELoss() something like this is equivalent to the downpart\n",
        ") '''\n",
        "loss_fn=nn.BCEWithLogitsLoss()# this combined from is used for numerical stability\n",
        "\n",
        "optimiser=torch.optim.SGD(params=model_0.parameters(),\n",
        "                          lr=.001)"
      ],
      "metadata": {
        "id": "W-y8SQNEzd3u"
      },
      "execution_count": 206,
      "outputs": []
    },
    {
      "cell_type": "code",
      "source": [
        "# we now have to calcualte the accracy of the model like out of 100 tries how much does it get right>?\n",
        "\n",
        "def accuracy_fn(y_true, y_pred):\n",
        "  correct= torch.eq(y_true, y_pred).sum().item()\n",
        "  acc=(correct/len(y_pred))*100 # this will give a percentage of the accuracy that out model performs\n",
        "  return acc\n"
      ],
      "metadata": {
        "id": "ub0uZgZjJv2H"
      },
      "execution_count": 207,
      "outputs": []
    },
    {
      "cell_type": "markdown",
      "source": [
        "#Now we should train the model\n",
        "\n",
        "to train the model we should the training loop\n",
        "\n",
        "* first we dpo the forward pass\n",
        "\n",
        "* we calculate the loss\n",
        "\n",
        "* optimiser zero grad for resetting the gradients\n",
        "\n",
        "* backpropagation for knowing the gradients of the loss like how much does each variable has on the actual result of the program\n",
        "\n",
        "* then optimiser step function to multiply the learning rate and then subtracting the gradients"
      ],
      "metadata": {
        "id": "JzfJSCzSKwxD"
      }
    },
    {
      "cell_type": "code",
      "source": [
        "# we will see what the model outputs when in absence of any activation fucntion\n",
        "\n",
        "model_0.eval()\n",
        "with torch.inference_mode():\n",
        "  y_logits=model_0(X_test.to(device))[:5]# logits is defined here as anything that is the output without running it through an activation function\n",
        "y_logits\n"
      ],
      "metadata": {
        "colab": {
          "base_uri": "https://localhost:8080/"
        },
        "id": "uYDtBGr_LcFU",
        "outputId": "910f7814-2cd9-4735-99c8-9d9efe84f605"
      },
      "execution_count": 208,
      "outputs": [
        {
          "output_type": "execute_result",
          "data": {
            "text/plain": [
              "tensor([[-0.1269],\n",
              "        [-0.0967],\n",
              "        [-0.1908],\n",
              "        [-0.1089],\n",
              "        [-0.1667]])"
            ]
          },
          "metadata": {},
          "execution_count": 208
        }
      ]
    },
    {
      "cell_type": "code",
      "source": [
        "y_test[:5]# see the output of the model and the training data actually do not match thats why we need an activation function to solve that to keep them in the same dimension"
      ],
      "metadata": {
        "colab": {
          "base_uri": "https://localhost:8080/"
        },
        "id": "54t-5LdGPNos",
        "outputId": "755982d8-27a1-4acd-9673-3b67753d81b7"
      },
      "execution_count": 209,
      "outputs": [
        {
          "output_type": "execute_result",
          "data": {
            "text/plain": [
              "tensor([1., 0., 1., 0., 1.])"
            ]
          },
          "metadata": {},
          "execution_count": 209
        }
      ]
    },
    {
      "cell_type": "code",
      "source": [
        "#using the sigmoid function as the activation here\n",
        "y_pred_probs=torch.sigmoid(y_logits)\n",
        "y_pred_probs"
      ],
      "metadata": {
        "colab": {
          "base_uri": "https://localhost:8080/"
        },
        "id": "1X6dh7BlPT8j",
        "outputId": "d2bb3f6f-14ff-4301-994b-c2a76c68627e"
      },
      "execution_count": 210,
      "outputs": [
        {
          "output_type": "execute_result",
          "data": {
            "text/plain": [
              "tensor([[0.4683],\n",
              "        [0.4758],\n",
              "        [0.4524],\n",
              "        [0.4728],\n",
              "        [0.4584]])"
            ]
          },
          "metadata": {},
          "execution_count": 210
        }
      ]
    },
    {
      "cell_type": "markdown",
      "source": [
        "people might want to know we we are using the sigmoid activation function instead of just rounding it? it is to get a value between 0 and 1, like the sigmoid fucntion actually normalises the input vlaues to denote how much a value is closer to other to tell how close it is to the activation, like closer to 1 its pretty confident and closer to 0 its pretty confident that it is wrong so thats why we use the round function after it"
      ],
      "metadata": {
        "id": "ppAU8iMDP8hB"
      }
    },
    {
      "cell_type": "code",
      "source": [
        "#find the predicted labels\n",
        "y_pred=torch.round(y_pred_probs)\n",
        "\n",
        "#in full\n",
        "y_pred_labels=torch.round(torch.sigmoid(model_0(X_test.to(device))[:5]))\n",
        "\n",
        "#check for equality\n",
        "print(torch.eq(y_pred.squeeze(),y_pred_labels.squeeze()))\n",
        "\n",
        "#get rid of the extra dimension\n",
        "y_pred.squeeze()\n"
      ],
      "metadata": {
        "colab": {
          "base_uri": "https://localhost:8080/"
        },
        "id": "mCg1ej0SPsIk",
        "outputId": "73dd06e2-f7e2-4da1-9170-d6ad3cff20d3"
      },
      "execution_count": 211,
      "outputs": [
        {
          "output_type": "stream",
          "name": "stdout",
          "text": [
            "tensor([True, True, True, True, True])\n"
          ]
        },
        {
          "output_type": "execute_result",
          "data": {
            "text/plain": [
              "tensor([0., 0., 0., 0., 0.])"
            ]
          },
          "metadata": {},
          "execution_count": 211
        }
      ]
    },
    {
      "cell_type": "markdown",
      "source": [
        "# creating the forward pass and training loop\n"
      ],
      "metadata": {
        "id": "IslEpO3fSDfd"
      }
    },
    {
      "cell_type": "code",
      "source": [
        "torch.manual_seed(42)\n",
        "\n",
        "epochs=10000\n",
        "\n",
        "X_train,y_train=X_train.to(device),y_train.to(device)\n",
        "X_test,y_test=X_test.to(device),y_test.to(device)\n",
        "\n",
        "for epoch in range(epochs):\n",
        "\n",
        "  model_0.train()\n",
        "\n",
        "  y_logits=model_0(X_train).squeeze()\n",
        "  y_pred=torch.round(torch.sigmoid(y_logits))#turning logits -> pred probls -pred labels\n",
        "\n",
        "  #calculate accuracy\n",
        "  #loss = loss_fn(torch.sigmoid(y_logits)) ##nn.BCELoss expects prediction probabilities as input\n",
        "  loss=loss_fn(y_logits,\n",
        "                  y_train)#nn.BCEWithLogitsLoss expects raw logits as inputs\n",
        "  acc=accuracy_fn(y_true=y_train,\n",
        "                  y_pred=y_pred)\n",
        "\n",
        "  # optimiser zero grad\n",
        "  optimiser.zero_grad()\n",
        "\n",
        "  #backpropagation\n",
        "  loss.backward()\n",
        "\n",
        "  #optimiser ste[(gradient descent)]\n",
        "  optimiser.step()\n",
        "\n",
        "  model_0.eval()\n",
        "  with torch.inference_mode():\n",
        "    #forward pass\n",
        "    test_logits=model_0(X_test).squeeze()\n",
        "    test_pred = torch.round(torch.sigmoid(test_logits))\n",
        "\n",
        "    #calcualte the test loss / accuracy\n",
        "    test_loss=loss_fn(test_logits,y_test)\n",
        "\n",
        "    test_acc=accuracy_fn(y_true=y_test,\n",
        "                         y_pred=test_pred)\n",
        "  if epoch %10 ==0:\n",
        "    print(f\"epoch {epoch}| loss:{loss:.5f},acc:{acc:.5f}% Test_loss:{test_loss:.5f}, test acc:{test_acc:.5f}\")\n"
      ],
      "metadata": {
        "colab": {
          "base_uri": "https://localhost:8080/"
        },
        "id": "u1oL7LgPTIay",
        "outputId": "53cd5d39-73e8-4d7d-dcd0-8ae118898956"
      },
      "execution_count": 215,
      "outputs": [
        {
          "output_type": "stream",
          "name": "stdout",
          "text": [
            "epoch 0| loss:0.69569,acc:50.00000% Test_loss:0.69740, test acc:50.00000\n",
            "epoch 10| loss:0.69566,acc:50.00000% Test_loss:0.69738, test acc:50.00000\n",
            "epoch 20| loss:0.69563,acc:50.00000% Test_loss:0.69736, test acc:50.00000\n",
            "epoch 30| loss:0.69561,acc:50.00000% Test_loss:0.69734, test acc:50.00000\n",
            "epoch 40| loss:0.69558,acc:50.00000% Test_loss:0.69733, test acc:50.00000\n",
            "epoch 50| loss:0.69556,acc:50.00000% Test_loss:0.69731, test acc:50.00000\n",
            "epoch 60| loss:0.69553,acc:50.00000% Test_loss:0.69729, test acc:50.00000\n",
            "epoch 70| loss:0.69551,acc:50.00000% Test_loss:0.69727, test acc:50.00000\n",
            "epoch 80| loss:0.69549,acc:50.00000% Test_loss:0.69725, test acc:50.00000\n",
            "epoch 90| loss:0.69546,acc:50.00000% Test_loss:0.69723, test acc:50.00000\n",
            "epoch 100| loss:0.69544,acc:50.00000% Test_loss:0.69721, test acc:50.00000\n",
            "epoch 110| loss:0.69542,acc:50.00000% Test_loss:0.69720, test acc:50.00000\n",
            "epoch 120| loss:0.69539,acc:50.00000% Test_loss:0.69718, test acc:50.00000\n",
            "epoch 130| loss:0.69537,acc:50.00000% Test_loss:0.69716, test acc:50.00000\n",
            "epoch 140| loss:0.69535,acc:50.00000% Test_loss:0.69714, test acc:50.00000\n",
            "epoch 150| loss:0.69533,acc:50.00000% Test_loss:0.69713, test acc:50.00000\n",
            "epoch 160| loss:0.69530,acc:50.00000% Test_loss:0.69711, test acc:50.00000\n",
            "epoch 170| loss:0.69528,acc:50.00000% Test_loss:0.69709, test acc:50.00000\n",
            "epoch 180| loss:0.69526,acc:50.00000% Test_loss:0.69708, test acc:50.00000\n",
            "epoch 190| loss:0.69524,acc:50.00000% Test_loss:0.69706, test acc:50.00000\n",
            "epoch 200| loss:0.69522,acc:50.00000% Test_loss:0.69705, test acc:50.00000\n",
            "epoch 210| loss:0.69520,acc:50.00000% Test_loss:0.69703, test acc:50.00000\n",
            "epoch 220| loss:0.69517,acc:50.00000% Test_loss:0.69701, test acc:50.00000\n",
            "epoch 230| loss:0.69515,acc:50.00000% Test_loss:0.69700, test acc:50.00000\n",
            "epoch 240| loss:0.69513,acc:50.00000% Test_loss:0.69698, test acc:50.00000\n",
            "epoch 250| loss:0.69511,acc:50.00000% Test_loss:0.69697, test acc:50.00000\n",
            "epoch 260| loss:0.69509,acc:50.00000% Test_loss:0.69695, test acc:50.00000\n",
            "epoch 270| loss:0.69507,acc:50.00000% Test_loss:0.69694, test acc:50.00000\n",
            "epoch 280| loss:0.69505,acc:50.00000% Test_loss:0.69692, test acc:50.00000\n",
            "epoch 290| loss:0.69503,acc:50.00000% Test_loss:0.69691, test acc:50.00000\n",
            "epoch 300| loss:0.69501,acc:50.00000% Test_loss:0.69690, test acc:50.00000\n",
            "epoch 310| loss:0.69500,acc:50.00000% Test_loss:0.69688, test acc:50.00000\n",
            "epoch 320| loss:0.69498,acc:50.00000% Test_loss:0.69687, test acc:50.00000\n",
            "epoch 330| loss:0.69496,acc:50.00000% Test_loss:0.69685, test acc:50.00000\n",
            "epoch 340| loss:0.69494,acc:50.00000% Test_loss:0.69684, test acc:50.00000\n",
            "epoch 350| loss:0.69492,acc:50.00000% Test_loss:0.69683, test acc:50.00000\n",
            "epoch 360| loss:0.69490,acc:50.00000% Test_loss:0.69681, test acc:50.00000\n",
            "epoch 370| loss:0.69489,acc:50.00000% Test_loss:0.69680, test acc:50.00000\n",
            "epoch 380| loss:0.69487,acc:50.00000% Test_loss:0.69679, test acc:50.00000\n",
            "epoch 390| loss:0.69485,acc:50.00000% Test_loss:0.69677, test acc:50.00000\n",
            "epoch 400| loss:0.69483,acc:50.00000% Test_loss:0.69676, test acc:50.00000\n",
            "epoch 410| loss:0.69482,acc:50.00000% Test_loss:0.69675, test acc:50.00000\n",
            "epoch 420| loss:0.69480,acc:50.00000% Test_loss:0.69674, test acc:50.00000\n",
            "epoch 430| loss:0.69478,acc:50.00000% Test_loss:0.69673, test acc:50.00000\n",
            "epoch 440| loss:0.69476,acc:50.00000% Test_loss:0.69671, test acc:50.00000\n",
            "epoch 450| loss:0.69475,acc:50.00000% Test_loss:0.69670, test acc:50.00000\n",
            "epoch 460| loss:0.69473,acc:50.00000% Test_loss:0.69669, test acc:50.00000\n",
            "epoch 470| loss:0.69472,acc:50.00000% Test_loss:0.69668, test acc:50.00000\n",
            "epoch 480| loss:0.69470,acc:50.00000% Test_loss:0.69667, test acc:50.00000\n",
            "epoch 490| loss:0.69468,acc:50.00000% Test_loss:0.69665, test acc:50.00000\n",
            "epoch 500| loss:0.69467,acc:50.00000% Test_loss:0.69664, test acc:50.00000\n",
            "epoch 510| loss:0.69465,acc:50.00000% Test_loss:0.69663, test acc:50.00000\n",
            "epoch 520| loss:0.69464,acc:50.00000% Test_loss:0.69662, test acc:50.00000\n",
            "epoch 530| loss:0.69462,acc:50.00000% Test_loss:0.69661, test acc:50.00000\n",
            "epoch 540| loss:0.69461,acc:50.00000% Test_loss:0.69660, test acc:50.00000\n",
            "epoch 550| loss:0.69459,acc:50.00000% Test_loss:0.69659, test acc:50.00000\n",
            "epoch 560| loss:0.69458,acc:50.00000% Test_loss:0.69658, test acc:50.00000\n",
            "epoch 570| loss:0.69456,acc:50.00000% Test_loss:0.69657, test acc:50.00000\n",
            "epoch 580| loss:0.69455,acc:50.00000% Test_loss:0.69656, test acc:50.00000\n",
            "epoch 590| loss:0.69453,acc:50.00000% Test_loss:0.69655, test acc:50.00000\n",
            "epoch 600| loss:0.69452,acc:50.00000% Test_loss:0.69654, test acc:50.00000\n",
            "epoch 610| loss:0.69450,acc:50.00000% Test_loss:0.69653, test acc:50.00000\n",
            "epoch 620| loss:0.69449,acc:50.00000% Test_loss:0.69652, test acc:50.00000\n",
            "epoch 630| loss:0.69448,acc:50.00000% Test_loss:0.69651, test acc:50.00000\n",
            "epoch 640| loss:0.69446,acc:50.00000% Test_loss:0.69650, test acc:50.00000\n",
            "epoch 650| loss:0.69445,acc:50.00000% Test_loss:0.69649, test acc:50.00000\n",
            "epoch 660| loss:0.69444,acc:50.00000% Test_loss:0.69648, test acc:50.00000\n",
            "epoch 670| loss:0.69442,acc:50.00000% Test_loss:0.69647, test acc:50.00000\n",
            "epoch 680| loss:0.69441,acc:50.00000% Test_loss:0.69646, test acc:50.00000\n",
            "epoch 690| loss:0.69440,acc:50.00000% Test_loss:0.69645, test acc:50.00000\n",
            "epoch 700| loss:0.69438,acc:50.00000% Test_loss:0.69644, test acc:50.00000\n",
            "epoch 710| loss:0.69437,acc:50.00000% Test_loss:0.69644, test acc:50.00000\n",
            "epoch 720| loss:0.69436,acc:50.00000% Test_loss:0.69643, test acc:50.00000\n",
            "epoch 730| loss:0.69434,acc:50.00000% Test_loss:0.69642, test acc:50.00000\n",
            "epoch 740| loss:0.69433,acc:50.00000% Test_loss:0.69641, test acc:50.00000\n",
            "epoch 750| loss:0.69432,acc:50.00000% Test_loss:0.69640, test acc:50.00000\n",
            "epoch 760| loss:0.69431,acc:50.00000% Test_loss:0.69639, test acc:50.00000\n",
            "epoch 770| loss:0.69430,acc:50.00000% Test_loss:0.69639, test acc:50.00000\n",
            "epoch 780| loss:0.69428,acc:50.00000% Test_loss:0.69638, test acc:50.00000\n",
            "epoch 790| loss:0.69427,acc:50.00000% Test_loss:0.69637, test acc:50.00000\n",
            "epoch 800| loss:0.69426,acc:50.00000% Test_loss:0.69636, test acc:50.00000\n",
            "epoch 810| loss:0.69425,acc:50.00000% Test_loss:0.69635, test acc:50.00000\n",
            "epoch 820| loss:0.69424,acc:50.00000% Test_loss:0.69635, test acc:50.00000\n",
            "epoch 830| loss:0.69423,acc:50.00000% Test_loss:0.69634, test acc:50.00000\n",
            "epoch 840| loss:0.69421,acc:50.00000% Test_loss:0.69633, test acc:50.00000\n",
            "epoch 850| loss:0.69420,acc:50.00000% Test_loss:0.69632, test acc:50.00000\n",
            "epoch 860| loss:0.69419,acc:50.00000% Test_loss:0.69632, test acc:50.00000\n",
            "epoch 870| loss:0.69418,acc:50.00000% Test_loss:0.69631, test acc:50.00000\n",
            "epoch 880| loss:0.69417,acc:50.00000% Test_loss:0.69630, test acc:50.00000\n",
            "epoch 890| loss:0.69416,acc:50.00000% Test_loss:0.69630, test acc:50.00000\n",
            "epoch 900| loss:0.69415,acc:50.00000% Test_loss:0.69629, test acc:50.00000\n",
            "epoch 910| loss:0.69414,acc:50.00000% Test_loss:0.69628, test acc:50.00000\n",
            "epoch 920| loss:0.69413,acc:50.00000% Test_loss:0.69627, test acc:50.00000\n",
            "epoch 930| loss:0.69412,acc:50.00000% Test_loss:0.69627, test acc:50.00000\n",
            "epoch 940| loss:0.69411,acc:50.00000% Test_loss:0.69626, test acc:50.00000\n",
            "epoch 950| loss:0.69410,acc:50.00000% Test_loss:0.69625, test acc:50.00000\n",
            "epoch 960| loss:0.69409,acc:50.00000% Test_loss:0.69625, test acc:50.00000\n",
            "epoch 970| loss:0.69408,acc:50.00000% Test_loss:0.69624, test acc:50.00000\n",
            "epoch 980| loss:0.69407,acc:50.00000% Test_loss:0.69624, test acc:50.00000\n",
            "epoch 990| loss:0.69406,acc:50.00000% Test_loss:0.69623, test acc:50.00000\n",
            "epoch 1000| loss:0.69405,acc:50.00000% Test_loss:0.69622, test acc:50.00000\n",
            "epoch 1010| loss:0.69404,acc:50.00000% Test_loss:0.69622, test acc:50.00000\n",
            "epoch 1020| loss:0.69403,acc:50.00000% Test_loss:0.69621, test acc:50.00000\n",
            "epoch 1030| loss:0.69402,acc:50.00000% Test_loss:0.69621, test acc:50.00000\n",
            "epoch 1040| loss:0.69401,acc:50.00000% Test_loss:0.69620, test acc:50.00000\n",
            "epoch 1050| loss:0.69400,acc:50.00000% Test_loss:0.69619, test acc:50.00000\n",
            "epoch 1060| loss:0.69399,acc:50.00000% Test_loss:0.69619, test acc:50.00000\n",
            "epoch 1070| loss:0.69399,acc:50.00000% Test_loss:0.69618, test acc:50.00000\n",
            "epoch 1080| loss:0.69398,acc:50.00000% Test_loss:0.69618, test acc:50.00000\n",
            "epoch 1090| loss:0.69397,acc:50.00000% Test_loss:0.69617, test acc:50.00000\n",
            "epoch 1100| loss:0.69396,acc:49.87500% Test_loss:0.69617, test acc:50.00000\n",
            "epoch 1110| loss:0.69395,acc:49.87500% Test_loss:0.69616, test acc:50.00000\n",
            "epoch 1120| loss:0.69394,acc:49.87500% Test_loss:0.69616, test acc:50.00000\n",
            "epoch 1130| loss:0.69393,acc:49.75000% Test_loss:0.69615, test acc:50.00000\n",
            "epoch 1140| loss:0.69392,acc:49.62500% Test_loss:0.69614, test acc:50.00000\n",
            "epoch 1150| loss:0.69392,acc:49.62500% Test_loss:0.69614, test acc:50.00000\n",
            "epoch 1160| loss:0.69391,acc:49.62500% Test_loss:0.69613, test acc:50.00000\n",
            "epoch 1170| loss:0.69390,acc:49.62500% Test_loss:0.69613, test acc:49.50000\n",
            "epoch 1180| loss:0.69389,acc:49.25000% Test_loss:0.69612, test acc:49.00000\n",
            "epoch 1190| loss:0.69388,acc:49.00000% Test_loss:0.69612, test acc:48.00000\n",
            "epoch 1200| loss:0.69388,acc:48.75000% Test_loss:0.69611, test acc:48.00000\n",
            "epoch 1210| loss:0.69387,acc:48.50000% Test_loss:0.69611, test acc:47.50000\n",
            "epoch 1220| loss:0.69386,acc:48.00000% Test_loss:0.69611, test acc:47.50000\n",
            "epoch 1230| loss:0.69385,acc:47.25000% Test_loss:0.69610, test acc:47.00000\n",
            "epoch 1240| loss:0.69385,acc:46.87500% Test_loss:0.69610, test acc:46.50000\n",
            "epoch 1250| loss:0.69384,acc:46.62500% Test_loss:0.69609, test acc:45.50000\n",
            "epoch 1260| loss:0.69383,acc:46.37500% Test_loss:0.69609, test acc:45.00000\n",
            "epoch 1270| loss:0.69382,acc:46.12500% Test_loss:0.69608, test acc:44.50000\n",
            "epoch 1280| loss:0.69382,acc:45.50000% Test_loss:0.69608, test acc:44.50000\n",
            "epoch 1290| loss:0.69381,acc:44.87500% Test_loss:0.69607, test acc:43.50000\n",
            "epoch 1300| loss:0.69380,acc:44.87500% Test_loss:0.69607, test acc:43.50000\n",
            "epoch 1310| loss:0.69380,acc:44.50000% Test_loss:0.69607, test acc:42.50000\n",
            "epoch 1320| loss:0.69379,acc:44.37500% Test_loss:0.69606, test acc:42.50000\n",
            "epoch 1330| loss:0.69378,acc:44.25000% Test_loss:0.69606, test acc:42.50000\n",
            "epoch 1340| loss:0.69377,acc:43.75000% Test_loss:0.69605, test acc:42.50000\n",
            "epoch 1350| loss:0.69377,acc:43.62500% Test_loss:0.69605, test acc:42.50000\n",
            "epoch 1360| loss:0.69376,acc:43.37500% Test_loss:0.69605, test acc:42.50000\n",
            "epoch 1370| loss:0.69375,acc:43.37500% Test_loss:0.69604, test acc:42.00000\n",
            "epoch 1380| loss:0.69375,acc:43.25000% Test_loss:0.69604, test acc:42.00000\n",
            "epoch 1390| loss:0.69374,acc:42.87500% Test_loss:0.69603, test acc:42.00000\n",
            "epoch 1400| loss:0.69373,acc:42.62500% Test_loss:0.69603, test acc:42.00000\n",
            "epoch 1410| loss:0.69373,acc:42.50000% Test_loss:0.69603, test acc:41.50000\n",
            "epoch 1420| loss:0.69372,acc:42.12500% Test_loss:0.69602, test acc:41.50000\n",
            "epoch 1430| loss:0.69372,acc:42.12500% Test_loss:0.69602, test acc:41.50000\n",
            "epoch 1440| loss:0.69371,acc:41.87500% Test_loss:0.69602, test acc:41.50000\n",
            "epoch 1450| loss:0.69370,acc:41.62500% Test_loss:0.69601, test acc:41.00000\n",
            "epoch 1460| loss:0.69370,acc:41.62500% Test_loss:0.69601, test acc:41.00000\n",
            "epoch 1470| loss:0.69369,acc:41.37500% Test_loss:0.69601, test acc:40.50000\n",
            "epoch 1480| loss:0.69369,acc:41.37500% Test_loss:0.69600, test acc:40.50000\n",
            "epoch 1490| loss:0.69368,acc:41.37500% Test_loss:0.69600, test acc:40.50000\n",
            "epoch 1500| loss:0.69367,acc:41.12500% Test_loss:0.69600, test acc:40.50000\n",
            "epoch 1510| loss:0.69367,acc:41.25000% Test_loss:0.69599, test acc:40.50000\n",
            "epoch 1520| loss:0.69366,acc:41.25000% Test_loss:0.69599, test acc:40.50000\n",
            "epoch 1530| loss:0.69366,acc:41.12500% Test_loss:0.69599, test acc:39.00000\n",
            "epoch 1540| loss:0.69365,acc:41.37500% Test_loss:0.69598, test acc:40.00000\n",
            "epoch 1550| loss:0.69365,acc:41.50000% Test_loss:0.69598, test acc:40.00000\n",
            "epoch 1560| loss:0.69364,acc:41.75000% Test_loss:0.69598, test acc:40.00000\n",
            "epoch 1570| loss:0.69363,acc:41.87500% Test_loss:0.69597, test acc:40.50000\n",
            "epoch 1580| loss:0.69363,acc:41.87500% Test_loss:0.69597, test acc:41.00000\n",
            "epoch 1590| loss:0.69362,acc:41.87500% Test_loss:0.69597, test acc:42.50000\n",
            "epoch 1600| loss:0.69362,acc:42.12500% Test_loss:0.69596, test acc:43.00000\n",
            "epoch 1610| loss:0.69361,acc:42.12500% Test_loss:0.69596, test acc:43.00000\n",
            "epoch 1620| loss:0.69361,acc:42.50000% Test_loss:0.69596, test acc:44.00000\n",
            "epoch 1630| loss:0.69360,acc:42.50000% Test_loss:0.69596, test acc:43.00000\n",
            "epoch 1640| loss:0.69360,acc:42.50000% Test_loss:0.69595, test acc:43.00000\n",
            "epoch 1650| loss:0.69359,acc:42.75000% Test_loss:0.69595, test acc:44.00000\n",
            "epoch 1660| loss:0.69359,acc:42.50000% Test_loss:0.69595, test acc:43.50000\n",
            "epoch 1670| loss:0.69358,acc:42.50000% Test_loss:0.69595, test acc:44.50000\n",
            "epoch 1680| loss:0.69358,acc:42.62500% Test_loss:0.69594, test acc:45.00000\n",
            "epoch 1690| loss:0.69357,acc:43.00000% Test_loss:0.69594, test acc:45.00000\n",
            "epoch 1700| loss:0.69357,acc:43.25000% Test_loss:0.69594, test acc:45.00000\n",
            "epoch 1710| loss:0.69356,acc:43.37500% Test_loss:0.69593, test acc:45.00000\n",
            "epoch 1720| loss:0.69356,acc:43.62500% Test_loss:0.69593, test acc:45.00000\n",
            "epoch 1730| loss:0.69355,acc:44.00000% Test_loss:0.69593, test acc:45.00000\n",
            "epoch 1740| loss:0.69355,acc:44.25000% Test_loss:0.69593, test acc:45.00000\n",
            "epoch 1750| loss:0.69355,acc:44.37500% Test_loss:0.69592, test acc:45.00000\n",
            "epoch 1760| loss:0.69354,acc:44.62500% Test_loss:0.69592, test acc:45.50000\n",
            "epoch 1770| loss:0.69354,acc:44.62500% Test_loss:0.69592, test acc:46.00000\n",
            "epoch 1780| loss:0.69353,acc:44.87500% Test_loss:0.69592, test acc:46.00000\n",
            "epoch 1790| loss:0.69353,acc:44.75000% Test_loss:0.69592, test acc:46.00000\n",
            "epoch 1800| loss:0.69352,acc:44.75000% Test_loss:0.69591, test acc:46.00000\n",
            "epoch 1810| loss:0.69352,acc:44.62500% Test_loss:0.69591, test acc:46.00000\n",
            "epoch 1820| loss:0.69351,acc:44.50000% Test_loss:0.69591, test acc:46.00000\n",
            "epoch 1830| loss:0.69351,acc:44.75000% Test_loss:0.69591, test acc:46.00000\n",
            "epoch 1840| loss:0.69351,acc:44.75000% Test_loss:0.69590, test acc:46.00000\n",
            "epoch 1850| loss:0.69350,acc:44.62500% Test_loss:0.69590, test acc:46.00000\n",
            "epoch 1860| loss:0.69350,acc:44.87500% Test_loss:0.69590, test acc:46.50000\n",
            "epoch 1870| loss:0.69349,acc:45.12500% Test_loss:0.69590, test acc:46.50000\n",
            "epoch 1880| loss:0.69349,acc:45.37500% Test_loss:0.69590, test acc:47.00000\n",
            "epoch 1890| loss:0.69349,acc:45.50000% Test_loss:0.69589, test acc:47.00000\n",
            "epoch 1900| loss:0.69348,acc:45.50000% Test_loss:0.69589, test acc:47.00000\n",
            "epoch 1910| loss:0.69348,acc:45.50000% Test_loss:0.69589, test acc:47.00000\n",
            "epoch 1920| loss:0.69347,acc:45.75000% Test_loss:0.69589, test acc:46.50000\n",
            "epoch 1930| loss:0.69347,acc:45.87500% Test_loss:0.69589, test acc:46.50000\n",
            "epoch 1940| loss:0.69347,acc:45.87500% Test_loss:0.69588, test acc:46.50000\n",
            "epoch 1950| loss:0.69346,acc:46.00000% Test_loss:0.69588, test acc:47.00000\n",
            "epoch 1960| loss:0.69346,acc:45.87500% Test_loss:0.69588, test acc:47.00000\n",
            "epoch 1970| loss:0.69346,acc:46.00000% Test_loss:0.69588, test acc:47.00000\n",
            "epoch 1980| loss:0.69345,acc:46.00000% Test_loss:0.69588, test acc:47.00000\n",
            "epoch 1990| loss:0.69345,acc:46.00000% Test_loss:0.69588, test acc:47.00000\n",
            "epoch 2000| loss:0.69344,acc:45.87500% Test_loss:0.69587, test acc:47.00000\n",
            "epoch 2010| loss:0.69344,acc:45.87500% Test_loss:0.69587, test acc:47.00000\n",
            "epoch 2020| loss:0.69344,acc:45.87500% Test_loss:0.69587, test acc:47.00000\n",
            "epoch 2030| loss:0.69343,acc:46.00000% Test_loss:0.69587, test acc:47.00000\n",
            "epoch 2040| loss:0.69343,acc:46.00000% Test_loss:0.69587, test acc:47.00000\n",
            "epoch 2050| loss:0.69343,acc:46.00000% Test_loss:0.69587, test acc:47.00000\n",
            "epoch 2060| loss:0.69342,acc:46.00000% Test_loss:0.69586, test acc:47.00000\n",
            "epoch 2070| loss:0.69342,acc:46.12500% Test_loss:0.69586, test acc:47.00000\n",
            "epoch 2080| loss:0.69342,acc:46.12500% Test_loss:0.69586, test acc:47.00000\n",
            "epoch 2090| loss:0.69341,acc:46.62500% Test_loss:0.69586, test acc:47.00000\n",
            "epoch 2100| loss:0.69341,acc:46.62500% Test_loss:0.69586, test acc:47.50000\n",
            "epoch 2110| loss:0.69341,acc:46.87500% Test_loss:0.69586, test acc:47.50000\n",
            "epoch 2120| loss:0.69340,acc:46.87500% Test_loss:0.69585, test acc:47.50000\n",
            "epoch 2130| loss:0.69340,acc:46.87500% Test_loss:0.69585, test acc:48.00000\n",
            "epoch 2140| loss:0.69340,acc:46.87500% Test_loss:0.69585, test acc:48.50000\n",
            "epoch 2150| loss:0.69339,acc:46.75000% Test_loss:0.69585, test acc:48.50000\n",
            "epoch 2160| loss:0.69339,acc:46.50000% Test_loss:0.69585, test acc:48.50000\n",
            "epoch 2170| loss:0.69339,acc:46.62500% Test_loss:0.69585, test acc:48.00000\n",
            "epoch 2180| loss:0.69339,acc:46.75000% Test_loss:0.69585, test acc:47.50000\n",
            "epoch 2190| loss:0.69338,acc:46.87500% Test_loss:0.69584, test acc:47.50000\n",
            "epoch 2200| loss:0.69338,acc:46.87500% Test_loss:0.69584, test acc:47.50000\n",
            "epoch 2210| loss:0.69338,acc:46.87500% Test_loss:0.69584, test acc:47.50000\n",
            "epoch 2220| loss:0.69337,acc:47.00000% Test_loss:0.69584, test acc:47.50000\n",
            "epoch 2230| loss:0.69337,acc:47.00000% Test_loss:0.69584, test acc:47.50000\n",
            "epoch 2240| loss:0.69337,acc:47.12500% Test_loss:0.69584, test acc:47.00000\n",
            "epoch 2250| loss:0.69337,acc:47.37500% Test_loss:0.69584, test acc:47.00000\n",
            "epoch 2260| loss:0.69336,acc:47.62500% Test_loss:0.69583, test acc:47.00000\n",
            "epoch 2270| loss:0.69336,acc:47.50000% Test_loss:0.69583, test acc:46.50000\n",
            "epoch 2280| loss:0.69336,acc:47.50000% Test_loss:0.69583, test acc:47.50000\n",
            "epoch 2290| loss:0.69335,acc:47.37500% Test_loss:0.69583, test acc:47.50000\n",
            "epoch 2300| loss:0.69335,acc:47.37500% Test_loss:0.69583, test acc:47.50000\n",
            "epoch 2310| loss:0.69335,acc:47.37500% Test_loss:0.69583, test acc:47.50000\n",
            "epoch 2320| loss:0.69335,acc:47.50000% Test_loss:0.69583, test acc:47.50000\n",
            "epoch 2330| loss:0.69334,acc:47.50000% Test_loss:0.69583, test acc:47.50000\n",
            "epoch 2340| loss:0.69334,acc:47.50000% Test_loss:0.69583, test acc:47.50000\n",
            "epoch 2350| loss:0.69334,acc:47.50000% Test_loss:0.69582, test acc:47.50000\n",
            "epoch 2360| loss:0.69334,acc:47.62500% Test_loss:0.69582, test acc:47.50000\n",
            "epoch 2370| loss:0.69333,acc:47.62500% Test_loss:0.69582, test acc:47.00000\n",
            "epoch 2380| loss:0.69333,acc:47.75000% Test_loss:0.69582, test acc:47.00000\n",
            "epoch 2390| loss:0.69333,acc:47.75000% Test_loss:0.69582, test acc:47.00000\n",
            "epoch 2400| loss:0.69333,acc:47.87500% Test_loss:0.69582, test acc:47.00000\n",
            "epoch 2410| loss:0.69332,acc:47.87500% Test_loss:0.69582, test acc:47.00000\n",
            "epoch 2420| loss:0.69332,acc:47.75000% Test_loss:0.69582, test acc:47.00000\n",
            "epoch 2430| loss:0.69332,acc:47.75000% Test_loss:0.69582, test acc:47.00000\n",
            "epoch 2440| loss:0.69332,acc:47.62500% Test_loss:0.69581, test acc:47.00000\n",
            "epoch 2450| loss:0.69331,acc:47.75000% Test_loss:0.69581, test acc:47.00000\n",
            "epoch 2460| loss:0.69331,acc:47.62500% Test_loss:0.69581, test acc:47.00000\n",
            "epoch 2470| loss:0.69331,acc:47.62500% Test_loss:0.69581, test acc:47.00000\n",
            "epoch 2480| loss:0.69331,acc:47.62500% Test_loss:0.69581, test acc:47.00000\n",
            "epoch 2490| loss:0.69331,acc:47.62500% Test_loss:0.69581, test acc:46.00000\n",
            "epoch 2500| loss:0.69330,acc:47.75000% Test_loss:0.69581, test acc:46.00000\n",
            "epoch 2510| loss:0.69330,acc:47.75000% Test_loss:0.69581, test acc:46.00000\n",
            "epoch 2520| loss:0.69330,acc:47.50000% Test_loss:0.69581, test acc:46.50000\n",
            "epoch 2530| loss:0.69330,acc:47.75000% Test_loss:0.69581, test acc:46.50000\n",
            "epoch 2540| loss:0.69330,acc:47.75000% Test_loss:0.69580, test acc:46.50000\n",
            "epoch 2550| loss:0.69329,acc:47.87500% Test_loss:0.69580, test acc:46.50000\n",
            "epoch 2560| loss:0.69329,acc:47.87500% Test_loss:0.69580, test acc:46.00000\n",
            "epoch 2570| loss:0.69329,acc:47.87500% Test_loss:0.69580, test acc:46.00000\n",
            "epoch 2580| loss:0.69329,acc:47.75000% Test_loss:0.69580, test acc:46.00000\n",
            "epoch 2590| loss:0.69328,acc:47.75000% Test_loss:0.69580, test acc:45.50000\n",
            "epoch 2600| loss:0.69328,acc:47.87500% Test_loss:0.69580, test acc:45.50000\n",
            "epoch 2610| loss:0.69328,acc:47.87500% Test_loss:0.69580, test acc:45.50000\n",
            "epoch 2620| loss:0.69328,acc:47.87500% Test_loss:0.69580, test acc:45.50000\n",
            "epoch 2630| loss:0.69328,acc:47.75000% Test_loss:0.69580, test acc:45.50000\n",
            "epoch 2640| loss:0.69327,acc:48.00000% Test_loss:0.69580, test acc:45.50000\n",
            "epoch 2650| loss:0.69327,acc:48.25000% Test_loss:0.69580, test acc:45.50000\n",
            "epoch 2660| loss:0.69327,acc:48.25000% Test_loss:0.69579, test acc:45.50000\n",
            "epoch 2670| loss:0.69327,acc:48.25000% Test_loss:0.69579, test acc:45.50000\n",
            "epoch 2680| loss:0.69327,acc:48.25000% Test_loss:0.69579, test acc:45.50000\n",
            "epoch 2690| loss:0.69327,acc:48.25000% Test_loss:0.69579, test acc:45.50000\n",
            "epoch 2700| loss:0.69326,acc:48.37500% Test_loss:0.69579, test acc:45.50000\n",
            "epoch 2710| loss:0.69326,acc:48.37500% Test_loss:0.69579, test acc:45.00000\n",
            "epoch 2720| loss:0.69326,acc:48.37500% Test_loss:0.69579, test acc:45.00000\n",
            "epoch 2730| loss:0.69326,acc:48.37500% Test_loss:0.69579, test acc:45.00000\n",
            "epoch 2740| loss:0.69326,acc:48.50000% Test_loss:0.69579, test acc:45.00000\n",
            "epoch 2750| loss:0.69325,acc:48.50000% Test_loss:0.69579, test acc:45.00000\n",
            "epoch 2760| loss:0.69325,acc:48.62500% Test_loss:0.69579, test acc:45.00000\n",
            "epoch 2770| loss:0.69325,acc:48.62500% Test_loss:0.69579, test acc:45.50000\n",
            "epoch 2780| loss:0.69325,acc:48.75000% Test_loss:0.69579, test acc:45.50000\n",
            "epoch 2790| loss:0.69325,acc:48.75000% Test_loss:0.69578, test acc:45.50000\n",
            "epoch 2800| loss:0.69325,acc:48.75000% Test_loss:0.69578, test acc:45.50000\n",
            "epoch 2810| loss:0.69324,acc:48.87500% Test_loss:0.69578, test acc:45.50000\n",
            "epoch 2820| loss:0.69324,acc:48.87500% Test_loss:0.69578, test acc:46.00000\n",
            "epoch 2830| loss:0.69324,acc:48.75000% Test_loss:0.69578, test acc:46.50000\n",
            "epoch 2840| loss:0.69324,acc:48.75000% Test_loss:0.69578, test acc:46.50000\n",
            "epoch 2850| loss:0.69324,acc:48.87500% Test_loss:0.69578, test acc:46.50000\n",
            "epoch 2860| loss:0.69324,acc:49.00000% Test_loss:0.69578, test acc:46.50000\n",
            "epoch 2870| loss:0.69324,acc:49.00000% Test_loss:0.69578, test acc:46.50000\n",
            "epoch 2880| loss:0.69323,acc:49.00000% Test_loss:0.69578, test acc:47.00000\n",
            "epoch 2890| loss:0.69323,acc:49.12500% Test_loss:0.69578, test acc:47.00000\n",
            "epoch 2900| loss:0.69323,acc:49.12500% Test_loss:0.69578, test acc:47.00000\n",
            "epoch 2910| loss:0.69323,acc:49.12500% Test_loss:0.69578, test acc:46.50000\n",
            "epoch 2920| loss:0.69323,acc:49.25000% Test_loss:0.69578, test acc:46.50000\n",
            "epoch 2930| loss:0.69323,acc:49.12500% Test_loss:0.69578, test acc:46.50000\n",
            "epoch 2940| loss:0.69322,acc:49.25000% Test_loss:0.69578, test acc:46.50000\n",
            "epoch 2950| loss:0.69322,acc:49.37500% Test_loss:0.69577, test acc:46.50000\n",
            "epoch 2960| loss:0.69322,acc:49.25000% Test_loss:0.69577, test acc:46.50000\n",
            "epoch 2970| loss:0.69322,acc:49.25000% Test_loss:0.69577, test acc:46.50000\n",
            "epoch 2980| loss:0.69322,acc:49.25000% Test_loss:0.69577, test acc:46.50000\n",
            "epoch 2990| loss:0.69322,acc:49.25000% Test_loss:0.69577, test acc:47.00000\n",
            "epoch 3000| loss:0.69322,acc:49.25000% Test_loss:0.69577, test acc:47.00000\n",
            "epoch 3010| loss:0.69321,acc:49.25000% Test_loss:0.69577, test acc:47.00000\n",
            "epoch 3020| loss:0.69321,acc:49.25000% Test_loss:0.69577, test acc:47.00000\n",
            "epoch 3030| loss:0.69321,acc:49.25000% Test_loss:0.69577, test acc:47.00000\n",
            "epoch 3040| loss:0.69321,acc:49.25000% Test_loss:0.69577, test acc:47.00000\n",
            "epoch 3050| loss:0.69321,acc:49.00000% Test_loss:0.69577, test acc:47.00000\n",
            "epoch 3060| loss:0.69321,acc:49.00000% Test_loss:0.69577, test acc:47.00000\n",
            "epoch 3070| loss:0.69321,acc:49.12500% Test_loss:0.69577, test acc:47.00000\n",
            "epoch 3080| loss:0.69321,acc:49.00000% Test_loss:0.69577, test acc:47.00000\n",
            "epoch 3090| loss:0.69320,acc:49.00000% Test_loss:0.69577, test acc:47.00000\n",
            "epoch 3100| loss:0.69320,acc:49.00000% Test_loss:0.69577, test acc:47.00000\n",
            "epoch 3110| loss:0.69320,acc:49.00000% Test_loss:0.69577, test acc:47.00000\n",
            "epoch 3120| loss:0.69320,acc:49.00000% Test_loss:0.69576, test acc:47.00000\n",
            "epoch 3130| loss:0.69320,acc:49.12500% Test_loss:0.69576, test acc:47.00000\n",
            "epoch 3140| loss:0.69320,acc:49.12500% Test_loss:0.69576, test acc:47.50000\n",
            "epoch 3150| loss:0.69320,acc:49.25000% Test_loss:0.69576, test acc:47.50000\n",
            "epoch 3160| loss:0.69320,acc:49.12500% Test_loss:0.69576, test acc:47.50000\n",
            "epoch 3170| loss:0.69319,acc:49.00000% Test_loss:0.69576, test acc:47.50000\n",
            "epoch 3180| loss:0.69319,acc:49.00000% Test_loss:0.69576, test acc:47.50000\n",
            "epoch 3190| loss:0.69319,acc:48.87500% Test_loss:0.69576, test acc:47.50000\n",
            "epoch 3200| loss:0.69319,acc:48.75000% Test_loss:0.69576, test acc:47.50000\n",
            "epoch 3210| loss:0.69319,acc:48.62500% Test_loss:0.69576, test acc:47.50000\n",
            "epoch 3220| loss:0.69319,acc:48.62500% Test_loss:0.69576, test acc:47.50000\n",
            "epoch 3230| loss:0.69319,acc:48.50000% Test_loss:0.69576, test acc:47.50000\n",
            "epoch 3240| loss:0.69319,acc:48.50000% Test_loss:0.69576, test acc:47.50000\n",
            "epoch 3250| loss:0.69319,acc:48.50000% Test_loss:0.69576, test acc:47.00000\n",
            "epoch 3260| loss:0.69318,acc:48.50000% Test_loss:0.69576, test acc:47.00000\n",
            "epoch 3270| loss:0.69318,acc:48.62500% Test_loss:0.69576, test acc:47.00000\n",
            "epoch 3280| loss:0.69318,acc:48.62500% Test_loss:0.69576, test acc:47.00000\n",
            "epoch 3290| loss:0.69318,acc:48.62500% Test_loss:0.69576, test acc:47.00000\n",
            "epoch 3300| loss:0.69318,acc:48.50000% Test_loss:0.69576, test acc:47.00000\n",
            "epoch 3310| loss:0.69318,acc:48.50000% Test_loss:0.69576, test acc:47.00000\n",
            "epoch 3320| loss:0.69318,acc:48.50000% Test_loss:0.69576, test acc:47.00000\n",
            "epoch 3330| loss:0.69318,acc:48.50000% Test_loss:0.69575, test acc:47.00000\n",
            "epoch 3340| loss:0.69318,acc:48.62500% Test_loss:0.69575, test acc:47.00000\n",
            "epoch 3350| loss:0.69317,acc:48.62500% Test_loss:0.69575, test acc:47.00000\n",
            "epoch 3360| loss:0.69317,acc:48.75000% Test_loss:0.69575, test acc:47.00000\n",
            "epoch 3370| loss:0.69317,acc:48.75000% Test_loss:0.69575, test acc:47.00000\n",
            "epoch 3380| loss:0.69317,acc:48.87500% Test_loss:0.69575, test acc:47.00000\n",
            "epoch 3390| loss:0.69317,acc:49.00000% Test_loss:0.69575, test acc:47.00000\n",
            "epoch 3400| loss:0.69317,acc:49.00000% Test_loss:0.69575, test acc:47.00000\n",
            "epoch 3410| loss:0.69317,acc:49.00000% Test_loss:0.69575, test acc:47.00000\n",
            "epoch 3420| loss:0.69317,acc:49.00000% Test_loss:0.69575, test acc:47.00000\n",
            "epoch 3430| loss:0.69317,acc:49.00000% Test_loss:0.69575, test acc:47.50000\n",
            "epoch 3440| loss:0.69317,acc:48.87500% Test_loss:0.69575, test acc:47.50000\n",
            "epoch 3450| loss:0.69316,acc:49.00000% Test_loss:0.69575, test acc:47.50000\n",
            "epoch 3460| loss:0.69316,acc:48.87500% Test_loss:0.69575, test acc:47.50000\n",
            "epoch 3470| loss:0.69316,acc:48.87500% Test_loss:0.69575, test acc:47.50000\n",
            "epoch 3480| loss:0.69316,acc:48.87500% Test_loss:0.69575, test acc:47.50000\n",
            "epoch 3490| loss:0.69316,acc:48.75000% Test_loss:0.69575, test acc:47.50000\n",
            "epoch 3500| loss:0.69316,acc:48.75000% Test_loss:0.69575, test acc:47.50000\n",
            "epoch 3510| loss:0.69316,acc:48.87500% Test_loss:0.69575, test acc:47.50000\n",
            "epoch 3520| loss:0.69316,acc:48.87500% Test_loss:0.69575, test acc:47.50000\n",
            "epoch 3530| loss:0.69316,acc:48.87500% Test_loss:0.69575, test acc:47.50000\n",
            "epoch 3540| loss:0.69316,acc:48.87500% Test_loss:0.69575, test acc:47.50000\n",
            "epoch 3550| loss:0.69316,acc:48.87500% Test_loss:0.69575, test acc:47.50000\n",
            "epoch 3560| loss:0.69316,acc:48.75000% Test_loss:0.69574, test acc:47.50000\n",
            "epoch 3570| loss:0.69315,acc:48.62500% Test_loss:0.69574, test acc:47.50000\n",
            "epoch 3580| loss:0.69315,acc:48.62500% Test_loss:0.69574, test acc:47.50000\n",
            "epoch 3590| loss:0.69315,acc:48.75000% Test_loss:0.69574, test acc:47.50000\n",
            "epoch 3600| loss:0.69315,acc:48.87500% Test_loss:0.69574, test acc:48.00000\n",
            "epoch 3610| loss:0.69315,acc:49.00000% Test_loss:0.69574, test acc:48.00000\n",
            "epoch 3620| loss:0.69315,acc:49.25000% Test_loss:0.69574, test acc:48.00000\n",
            "epoch 3630| loss:0.69315,acc:49.25000% Test_loss:0.69574, test acc:48.00000\n",
            "epoch 3640| loss:0.69315,acc:49.25000% Test_loss:0.69574, test acc:48.00000\n",
            "epoch 3650| loss:0.69315,acc:49.25000% Test_loss:0.69574, test acc:48.00000\n",
            "epoch 3660| loss:0.69315,acc:49.25000% Test_loss:0.69574, test acc:48.00000\n",
            "epoch 3670| loss:0.69315,acc:49.25000% Test_loss:0.69574, test acc:48.00000\n",
            "epoch 3680| loss:0.69315,acc:49.25000% Test_loss:0.69574, test acc:48.00000\n",
            "epoch 3690| loss:0.69314,acc:49.25000% Test_loss:0.69574, test acc:48.00000\n",
            "epoch 3700| loss:0.69314,acc:49.25000% Test_loss:0.69574, test acc:48.00000\n",
            "epoch 3710| loss:0.69314,acc:49.25000% Test_loss:0.69574, test acc:48.00000\n",
            "epoch 3720| loss:0.69314,acc:49.25000% Test_loss:0.69574, test acc:48.00000\n",
            "epoch 3730| loss:0.69314,acc:49.25000% Test_loss:0.69574, test acc:48.00000\n",
            "epoch 3740| loss:0.69314,acc:49.25000% Test_loss:0.69574, test acc:48.00000\n",
            "epoch 3750| loss:0.69314,acc:49.25000% Test_loss:0.69574, test acc:48.00000\n",
            "epoch 3760| loss:0.69314,acc:49.25000% Test_loss:0.69574, test acc:48.00000\n",
            "epoch 3770| loss:0.69314,acc:49.25000% Test_loss:0.69574, test acc:48.00000\n",
            "epoch 3780| loss:0.69314,acc:49.12500% Test_loss:0.69574, test acc:48.00000\n",
            "epoch 3790| loss:0.69314,acc:49.12500% Test_loss:0.69574, test acc:48.00000\n",
            "epoch 3800| loss:0.69314,acc:49.12500% Test_loss:0.69574, test acc:48.00000\n",
            "epoch 3810| loss:0.69314,acc:49.12500% Test_loss:0.69574, test acc:48.00000\n",
            "epoch 3820| loss:0.69314,acc:49.12500% Test_loss:0.69573, test acc:48.00000\n",
            "epoch 3830| loss:0.69313,acc:49.12500% Test_loss:0.69573, test acc:48.00000\n",
            "epoch 3840| loss:0.69313,acc:49.12500% Test_loss:0.69573, test acc:47.50000\n",
            "epoch 3850| loss:0.69313,acc:49.37500% Test_loss:0.69573, test acc:47.50000\n",
            "epoch 3860| loss:0.69313,acc:49.37500% Test_loss:0.69573, test acc:47.00000\n",
            "epoch 3870| loss:0.69313,acc:49.37500% Test_loss:0.69573, test acc:47.00000\n",
            "epoch 3880| loss:0.69313,acc:49.37500% Test_loss:0.69573, test acc:47.00000\n",
            "epoch 3890| loss:0.69313,acc:49.37500% Test_loss:0.69573, test acc:47.00000\n",
            "epoch 3900| loss:0.69313,acc:49.37500% Test_loss:0.69573, test acc:47.00000\n",
            "epoch 3910| loss:0.69313,acc:49.37500% Test_loss:0.69573, test acc:47.00000\n",
            "epoch 3920| loss:0.69313,acc:49.25000% Test_loss:0.69573, test acc:47.00000\n",
            "epoch 3930| loss:0.69313,acc:49.12500% Test_loss:0.69573, test acc:47.00000\n",
            "epoch 3940| loss:0.69313,acc:49.12500% Test_loss:0.69573, test acc:47.00000\n",
            "epoch 3950| loss:0.69313,acc:49.00000% Test_loss:0.69573, test acc:47.00000\n",
            "epoch 3960| loss:0.69313,acc:49.00000% Test_loss:0.69573, test acc:47.00000\n",
            "epoch 3970| loss:0.69313,acc:49.00000% Test_loss:0.69573, test acc:47.00000\n",
            "epoch 3980| loss:0.69313,acc:49.00000% Test_loss:0.69573, test acc:47.00000\n",
            "epoch 3990| loss:0.69312,acc:49.00000% Test_loss:0.69573, test acc:47.00000\n",
            "epoch 4000| loss:0.69312,acc:48.87500% Test_loss:0.69573, test acc:47.00000\n",
            "epoch 4010| loss:0.69312,acc:49.00000% Test_loss:0.69573, test acc:47.00000\n",
            "epoch 4020| loss:0.69312,acc:48.87500% Test_loss:0.69573, test acc:47.00000\n",
            "epoch 4030| loss:0.69312,acc:49.00000% Test_loss:0.69573, test acc:47.00000\n",
            "epoch 4040| loss:0.69312,acc:49.00000% Test_loss:0.69573, test acc:46.50000\n",
            "epoch 4050| loss:0.69312,acc:49.12500% Test_loss:0.69573, test acc:46.50000\n",
            "epoch 4060| loss:0.69312,acc:49.12500% Test_loss:0.69573, test acc:46.50000\n",
            "epoch 4070| loss:0.69312,acc:49.12500% Test_loss:0.69573, test acc:46.50000\n",
            "epoch 4080| loss:0.69312,acc:49.25000% Test_loss:0.69573, test acc:46.50000\n",
            "epoch 4090| loss:0.69312,acc:49.37500% Test_loss:0.69572, test acc:46.50000\n",
            "epoch 4100| loss:0.69312,acc:49.50000% Test_loss:0.69572, test acc:46.50000\n",
            "epoch 4110| loss:0.69312,acc:49.50000% Test_loss:0.69572, test acc:46.50000\n",
            "epoch 4120| loss:0.69312,acc:49.50000% Test_loss:0.69572, test acc:46.50000\n",
            "epoch 4130| loss:0.69312,acc:49.50000% Test_loss:0.69572, test acc:46.50000\n",
            "epoch 4140| loss:0.69312,acc:49.50000% Test_loss:0.69572, test acc:46.50000\n",
            "epoch 4150| loss:0.69312,acc:49.50000% Test_loss:0.69572, test acc:46.50000\n",
            "epoch 4160| loss:0.69312,acc:49.62500% Test_loss:0.69572, test acc:46.50000\n",
            "epoch 4170| loss:0.69312,acc:49.62500% Test_loss:0.69572, test acc:46.50000\n",
            "epoch 4180| loss:0.69311,acc:49.75000% Test_loss:0.69572, test acc:46.50000\n",
            "epoch 4190| loss:0.69311,acc:49.75000% Test_loss:0.69572, test acc:46.50000\n",
            "epoch 4200| loss:0.69311,acc:49.75000% Test_loss:0.69572, test acc:46.50000\n",
            "epoch 4210| loss:0.69311,acc:49.75000% Test_loss:0.69572, test acc:46.50000\n",
            "epoch 4220| loss:0.69311,acc:49.75000% Test_loss:0.69572, test acc:46.50000\n",
            "epoch 4230| loss:0.69311,acc:49.75000% Test_loss:0.69572, test acc:46.50000\n",
            "epoch 4240| loss:0.69311,acc:49.62500% Test_loss:0.69572, test acc:46.50000\n",
            "epoch 4250| loss:0.69311,acc:49.62500% Test_loss:0.69572, test acc:47.00000\n",
            "epoch 4260| loss:0.69311,acc:49.62500% Test_loss:0.69572, test acc:46.50000\n",
            "epoch 4270| loss:0.69311,acc:49.62500% Test_loss:0.69572, test acc:46.50000\n",
            "epoch 4280| loss:0.69311,acc:49.62500% Test_loss:0.69572, test acc:46.50000\n",
            "epoch 4290| loss:0.69311,acc:49.62500% Test_loss:0.69572, test acc:46.50000\n",
            "epoch 4300| loss:0.69311,acc:49.62500% Test_loss:0.69572, test acc:46.50000\n",
            "epoch 4310| loss:0.69311,acc:49.62500% Test_loss:0.69572, test acc:46.50000\n",
            "epoch 4320| loss:0.69311,acc:49.62500% Test_loss:0.69572, test acc:46.50000\n",
            "epoch 4330| loss:0.69311,acc:49.62500% Test_loss:0.69572, test acc:46.50000\n",
            "epoch 4340| loss:0.69311,acc:49.62500% Test_loss:0.69572, test acc:46.50000\n",
            "epoch 4350| loss:0.69311,acc:49.62500% Test_loss:0.69571, test acc:46.50000\n",
            "epoch 4360| loss:0.69311,acc:49.75000% Test_loss:0.69571, test acc:46.50000\n",
            "epoch 4370| loss:0.69311,acc:49.75000% Test_loss:0.69571, test acc:46.50000\n",
            "epoch 4380| loss:0.69311,acc:49.75000% Test_loss:0.69571, test acc:46.50000\n",
            "epoch 4390| loss:0.69310,acc:49.75000% Test_loss:0.69571, test acc:46.50000\n",
            "epoch 4400| loss:0.69310,acc:49.75000% Test_loss:0.69571, test acc:46.50000\n",
            "epoch 4410| loss:0.69310,acc:49.75000% Test_loss:0.69571, test acc:46.50000\n",
            "epoch 4420| loss:0.69310,acc:49.75000% Test_loss:0.69571, test acc:46.50000\n",
            "epoch 4430| loss:0.69310,acc:49.75000% Test_loss:0.69571, test acc:46.50000\n",
            "epoch 4440| loss:0.69310,acc:49.87500% Test_loss:0.69571, test acc:46.50000\n",
            "epoch 4450| loss:0.69310,acc:49.75000% Test_loss:0.69571, test acc:46.50000\n",
            "epoch 4460| loss:0.69310,acc:49.75000% Test_loss:0.69571, test acc:46.50000\n",
            "epoch 4470| loss:0.69310,acc:49.75000% Test_loss:0.69571, test acc:46.50000\n",
            "epoch 4480| loss:0.69310,acc:49.75000% Test_loss:0.69571, test acc:46.50000\n",
            "epoch 4490| loss:0.69310,acc:49.75000% Test_loss:0.69571, test acc:46.50000\n",
            "epoch 4500| loss:0.69310,acc:49.87500% Test_loss:0.69571, test acc:46.50000\n",
            "epoch 4510| loss:0.69310,acc:49.87500% Test_loss:0.69571, test acc:46.50000\n",
            "epoch 4520| loss:0.69310,acc:50.00000% Test_loss:0.69571, test acc:46.50000\n",
            "epoch 4530| loss:0.69310,acc:50.00000% Test_loss:0.69571, test acc:46.50000\n",
            "epoch 4540| loss:0.69310,acc:50.00000% Test_loss:0.69571, test acc:46.50000\n",
            "epoch 4550| loss:0.69310,acc:50.00000% Test_loss:0.69571, test acc:46.50000\n",
            "epoch 4560| loss:0.69310,acc:50.00000% Test_loss:0.69571, test acc:46.50000\n",
            "epoch 4570| loss:0.69310,acc:50.12500% Test_loss:0.69571, test acc:46.50000\n",
            "epoch 4580| loss:0.69310,acc:50.12500% Test_loss:0.69571, test acc:46.50000\n",
            "epoch 4590| loss:0.69310,acc:50.12500% Test_loss:0.69571, test acc:46.50000\n",
            "epoch 4600| loss:0.69310,acc:50.12500% Test_loss:0.69571, test acc:46.50000\n",
            "epoch 4610| loss:0.69310,acc:50.12500% Test_loss:0.69571, test acc:47.00000\n",
            "epoch 4620| loss:0.69310,acc:50.12500% Test_loss:0.69570, test acc:47.00000\n",
            "epoch 4630| loss:0.69310,acc:50.12500% Test_loss:0.69570, test acc:47.00000\n",
            "epoch 4640| loss:0.69310,acc:50.12500% Test_loss:0.69570, test acc:47.00000\n",
            "epoch 4650| loss:0.69309,acc:50.12500% Test_loss:0.69570, test acc:47.00000\n",
            "epoch 4660| loss:0.69309,acc:50.12500% Test_loss:0.69570, test acc:47.00000\n",
            "epoch 4670| loss:0.69309,acc:50.12500% Test_loss:0.69570, test acc:47.00000\n",
            "epoch 4680| loss:0.69309,acc:50.12500% Test_loss:0.69570, test acc:47.00000\n",
            "epoch 4690| loss:0.69309,acc:50.25000% Test_loss:0.69570, test acc:47.00000\n",
            "epoch 4700| loss:0.69309,acc:50.25000% Test_loss:0.69570, test acc:47.00000\n",
            "epoch 4710| loss:0.69309,acc:50.25000% Test_loss:0.69570, test acc:47.00000\n",
            "epoch 4720| loss:0.69309,acc:50.25000% Test_loss:0.69570, test acc:47.00000\n",
            "epoch 4730| loss:0.69309,acc:50.25000% Test_loss:0.69570, test acc:47.00000\n",
            "epoch 4740| loss:0.69309,acc:50.25000% Test_loss:0.69570, test acc:47.00000\n",
            "epoch 4750| loss:0.69309,acc:50.25000% Test_loss:0.69570, test acc:47.00000\n",
            "epoch 4760| loss:0.69309,acc:50.12500% Test_loss:0.69570, test acc:47.00000\n",
            "epoch 4770| loss:0.69309,acc:50.12500% Test_loss:0.69570, test acc:47.00000\n",
            "epoch 4780| loss:0.69309,acc:50.12500% Test_loss:0.69570, test acc:47.00000\n",
            "epoch 4790| loss:0.69309,acc:50.12500% Test_loss:0.69570, test acc:47.00000\n",
            "epoch 4800| loss:0.69309,acc:50.12500% Test_loss:0.69570, test acc:47.00000\n",
            "epoch 4810| loss:0.69309,acc:50.12500% Test_loss:0.69570, test acc:46.50000\n",
            "epoch 4820| loss:0.69309,acc:50.12500% Test_loss:0.69570, test acc:46.50000\n",
            "epoch 4830| loss:0.69309,acc:50.12500% Test_loss:0.69570, test acc:46.50000\n",
            "epoch 4840| loss:0.69309,acc:50.12500% Test_loss:0.69570, test acc:46.50000\n",
            "epoch 4850| loss:0.69309,acc:50.12500% Test_loss:0.69570, test acc:46.50000\n",
            "epoch 4860| loss:0.69309,acc:50.12500% Test_loss:0.69570, test acc:46.50000\n",
            "epoch 4870| loss:0.69309,acc:50.12500% Test_loss:0.69569, test acc:46.50000\n",
            "epoch 4880| loss:0.69309,acc:50.12500% Test_loss:0.69569, test acc:46.50000\n",
            "epoch 4890| loss:0.69309,acc:50.12500% Test_loss:0.69569, test acc:46.50000\n",
            "epoch 4900| loss:0.69309,acc:50.12500% Test_loss:0.69569, test acc:46.50000\n",
            "epoch 4910| loss:0.69309,acc:50.12500% Test_loss:0.69569, test acc:46.50000\n",
            "epoch 4920| loss:0.69309,acc:50.12500% Test_loss:0.69569, test acc:46.50000\n",
            "epoch 4930| loss:0.69309,acc:50.12500% Test_loss:0.69569, test acc:46.50000\n",
            "epoch 4940| loss:0.69309,acc:50.12500% Test_loss:0.69569, test acc:46.50000\n",
            "epoch 4950| loss:0.69308,acc:50.12500% Test_loss:0.69569, test acc:46.50000\n",
            "epoch 4960| loss:0.69308,acc:50.12500% Test_loss:0.69569, test acc:46.50000\n",
            "epoch 4970| loss:0.69308,acc:50.12500% Test_loss:0.69569, test acc:46.50000\n",
            "epoch 4980| loss:0.69308,acc:50.12500% Test_loss:0.69569, test acc:46.50000\n",
            "epoch 4990| loss:0.69308,acc:50.12500% Test_loss:0.69569, test acc:46.50000\n",
            "epoch 5000| loss:0.69308,acc:50.12500% Test_loss:0.69569, test acc:46.50000\n",
            "epoch 5010| loss:0.69308,acc:50.12500% Test_loss:0.69569, test acc:46.50000\n",
            "epoch 5020| loss:0.69308,acc:50.12500% Test_loss:0.69569, test acc:46.50000\n",
            "epoch 5030| loss:0.69308,acc:50.25000% Test_loss:0.69569, test acc:46.50000\n",
            "epoch 5040| loss:0.69308,acc:50.25000% Test_loss:0.69569, test acc:46.50000\n",
            "epoch 5050| loss:0.69308,acc:50.25000% Test_loss:0.69569, test acc:46.50000\n",
            "epoch 5060| loss:0.69308,acc:50.25000% Test_loss:0.69569, test acc:46.50000\n",
            "epoch 5070| loss:0.69308,acc:50.37500% Test_loss:0.69569, test acc:46.50000\n",
            "epoch 5080| loss:0.69308,acc:50.37500% Test_loss:0.69569, test acc:46.50000\n",
            "epoch 5090| loss:0.69308,acc:50.37500% Test_loss:0.69569, test acc:46.50000\n",
            "epoch 5100| loss:0.69308,acc:50.37500% Test_loss:0.69568, test acc:46.50000\n",
            "epoch 5110| loss:0.69308,acc:50.37500% Test_loss:0.69568, test acc:46.50000\n",
            "epoch 5120| loss:0.69308,acc:50.37500% Test_loss:0.69568, test acc:46.50000\n",
            "epoch 5130| loss:0.69308,acc:50.37500% Test_loss:0.69568, test acc:46.50000\n",
            "epoch 5140| loss:0.69308,acc:50.25000% Test_loss:0.69568, test acc:46.50000\n",
            "epoch 5150| loss:0.69308,acc:50.25000% Test_loss:0.69568, test acc:46.50000\n",
            "epoch 5160| loss:0.69308,acc:50.25000% Test_loss:0.69568, test acc:46.50000\n",
            "epoch 5170| loss:0.69308,acc:50.25000% Test_loss:0.69568, test acc:46.50000\n",
            "epoch 5180| loss:0.69308,acc:50.25000% Test_loss:0.69568, test acc:46.50000\n",
            "epoch 5190| loss:0.69308,acc:50.25000% Test_loss:0.69568, test acc:46.50000\n",
            "epoch 5200| loss:0.69308,acc:50.25000% Test_loss:0.69568, test acc:46.50000\n",
            "epoch 5210| loss:0.69308,acc:50.25000% Test_loss:0.69568, test acc:46.50000\n",
            "epoch 5220| loss:0.69308,acc:50.25000% Test_loss:0.69568, test acc:46.50000\n",
            "epoch 5230| loss:0.69308,acc:50.25000% Test_loss:0.69568, test acc:46.50000\n",
            "epoch 5240| loss:0.69308,acc:50.25000% Test_loss:0.69568, test acc:46.50000\n",
            "epoch 5250| loss:0.69308,acc:50.25000% Test_loss:0.69568, test acc:46.50000\n",
            "epoch 5260| loss:0.69308,acc:50.25000% Test_loss:0.69568, test acc:46.50000\n",
            "epoch 5270| loss:0.69308,acc:50.25000% Test_loss:0.69568, test acc:46.50000\n",
            "epoch 5280| loss:0.69308,acc:50.37500% Test_loss:0.69568, test acc:46.50000\n",
            "epoch 5290| loss:0.69308,acc:50.37500% Test_loss:0.69568, test acc:46.50000\n",
            "epoch 5300| loss:0.69308,acc:50.37500% Test_loss:0.69568, test acc:46.50000\n",
            "epoch 5310| loss:0.69308,acc:50.37500% Test_loss:0.69568, test acc:46.50000\n",
            "epoch 5320| loss:0.69308,acc:50.25000% Test_loss:0.69568, test acc:46.50000\n",
            "epoch 5330| loss:0.69307,acc:50.25000% Test_loss:0.69567, test acc:46.50000\n",
            "epoch 5340| loss:0.69307,acc:50.25000% Test_loss:0.69567, test acc:46.50000\n",
            "epoch 5350| loss:0.69307,acc:50.25000% Test_loss:0.69567, test acc:46.50000\n",
            "epoch 5360| loss:0.69307,acc:50.25000% Test_loss:0.69567, test acc:46.50000\n",
            "epoch 5370| loss:0.69307,acc:50.25000% Test_loss:0.69567, test acc:46.50000\n",
            "epoch 5380| loss:0.69307,acc:50.25000% Test_loss:0.69567, test acc:46.50000\n",
            "epoch 5390| loss:0.69307,acc:50.37500% Test_loss:0.69567, test acc:46.00000\n",
            "epoch 5400| loss:0.69307,acc:50.37500% Test_loss:0.69567, test acc:46.00000\n",
            "epoch 5410| loss:0.69307,acc:50.37500% Test_loss:0.69567, test acc:46.00000\n",
            "epoch 5420| loss:0.69307,acc:50.37500% Test_loss:0.69567, test acc:46.00000\n",
            "epoch 5430| loss:0.69307,acc:50.37500% Test_loss:0.69567, test acc:46.00000\n",
            "epoch 5440| loss:0.69307,acc:50.25000% Test_loss:0.69567, test acc:46.00000\n",
            "epoch 5450| loss:0.69307,acc:50.12500% Test_loss:0.69567, test acc:46.00000\n",
            "epoch 5460| loss:0.69307,acc:50.12500% Test_loss:0.69567, test acc:46.00000\n",
            "epoch 5470| loss:0.69307,acc:50.12500% Test_loss:0.69567, test acc:46.00000\n",
            "epoch 5480| loss:0.69307,acc:50.12500% Test_loss:0.69567, test acc:46.00000\n",
            "epoch 5490| loss:0.69307,acc:50.12500% Test_loss:0.69567, test acc:46.00000\n",
            "epoch 5500| loss:0.69307,acc:50.12500% Test_loss:0.69567, test acc:46.00000\n",
            "epoch 5510| loss:0.69307,acc:50.12500% Test_loss:0.69567, test acc:46.00000\n",
            "epoch 5520| loss:0.69307,acc:50.00000% Test_loss:0.69567, test acc:46.00000\n",
            "epoch 5530| loss:0.69307,acc:50.12500% Test_loss:0.69567, test acc:46.00000\n",
            "epoch 5540| loss:0.69307,acc:50.12500% Test_loss:0.69567, test acc:46.00000\n",
            "epoch 5550| loss:0.69307,acc:50.12500% Test_loss:0.69567, test acc:46.00000\n",
            "epoch 5560| loss:0.69307,acc:50.12500% Test_loss:0.69566, test acc:46.00000\n",
            "epoch 5570| loss:0.69307,acc:50.12500% Test_loss:0.69566, test acc:46.00000\n",
            "epoch 5580| loss:0.69307,acc:50.12500% Test_loss:0.69566, test acc:46.00000\n",
            "epoch 5590| loss:0.69307,acc:50.12500% Test_loss:0.69566, test acc:46.00000\n",
            "epoch 5600| loss:0.69307,acc:50.12500% Test_loss:0.69566, test acc:46.00000\n",
            "epoch 5610| loss:0.69307,acc:50.12500% Test_loss:0.69566, test acc:46.00000\n",
            "epoch 5620| loss:0.69307,acc:50.12500% Test_loss:0.69566, test acc:46.00000\n",
            "epoch 5630| loss:0.69307,acc:50.12500% Test_loss:0.69566, test acc:46.00000\n",
            "epoch 5640| loss:0.69307,acc:50.12500% Test_loss:0.69566, test acc:46.00000\n",
            "epoch 5650| loss:0.69307,acc:50.12500% Test_loss:0.69566, test acc:46.00000\n",
            "epoch 5660| loss:0.69307,acc:50.12500% Test_loss:0.69566, test acc:46.50000\n",
            "epoch 5670| loss:0.69307,acc:50.12500% Test_loss:0.69566, test acc:46.50000\n",
            "epoch 5680| loss:0.69307,acc:50.00000% Test_loss:0.69566, test acc:46.50000\n",
            "epoch 5690| loss:0.69307,acc:49.87500% Test_loss:0.69566, test acc:46.50000\n",
            "epoch 5700| loss:0.69307,acc:49.87500% Test_loss:0.69566, test acc:46.50000\n",
            "epoch 5710| loss:0.69307,acc:49.87500% Test_loss:0.69566, test acc:46.50000\n",
            "epoch 5720| loss:0.69307,acc:49.87500% Test_loss:0.69566, test acc:46.50000\n",
            "epoch 5730| loss:0.69307,acc:49.87500% Test_loss:0.69566, test acc:46.50000\n",
            "epoch 5740| loss:0.69307,acc:49.87500% Test_loss:0.69566, test acc:46.50000\n",
            "epoch 5750| loss:0.69307,acc:49.87500% Test_loss:0.69566, test acc:46.50000\n",
            "epoch 5760| loss:0.69307,acc:49.87500% Test_loss:0.69566, test acc:46.50000\n",
            "epoch 5770| loss:0.69307,acc:49.87500% Test_loss:0.69565, test acc:46.50000\n",
            "epoch 5780| loss:0.69307,acc:49.87500% Test_loss:0.69565, test acc:46.50000\n",
            "epoch 5790| loss:0.69307,acc:49.87500% Test_loss:0.69565, test acc:46.50000\n",
            "epoch 5800| loss:0.69307,acc:49.87500% Test_loss:0.69565, test acc:46.50000\n",
            "epoch 5810| loss:0.69307,acc:49.87500% Test_loss:0.69565, test acc:46.50000\n",
            "epoch 5820| loss:0.69306,acc:49.87500% Test_loss:0.69565, test acc:46.50000\n",
            "epoch 5830| loss:0.69306,acc:49.87500% Test_loss:0.69565, test acc:46.50000\n",
            "epoch 5840| loss:0.69306,acc:49.87500% Test_loss:0.69565, test acc:46.50000\n",
            "epoch 5850| loss:0.69306,acc:49.87500% Test_loss:0.69565, test acc:46.50000\n",
            "epoch 5860| loss:0.69306,acc:49.87500% Test_loss:0.69565, test acc:46.50000\n",
            "epoch 5870| loss:0.69306,acc:50.00000% Test_loss:0.69565, test acc:46.50000\n",
            "epoch 5880| loss:0.69306,acc:50.00000% Test_loss:0.69565, test acc:46.50000\n",
            "epoch 5890| loss:0.69306,acc:50.12500% Test_loss:0.69565, test acc:46.50000\n",
            "epoch 5900| loss:0.69306,acc:50.12500% Test_loss:0.69565, test acc:46.50000\n",
            "epoch 5910| loss:0.69306,acc:50.12500% Test_loss:0.69565, test acc:46.50000\n",
            "epoch 5920| loss:0.69306,acc:50.12500% Test_loss:0.69565, test acc:46.50000\n",
            "epoch 5930| loss:0.69306,acc:50.12500% Test_loss:0.69565, test acc:46.50000\n",
            "epoch 5940| loss:0.69306,acc:50.12500% Test_loss:0.69565, test acc:46.50000\n",
            "epoch 5950| loss:0.69306,acc:50.12500% Test_loss:0.69565, test acc:46.00000\n",
            "epoch 5960| loss:0.69306,acc:50.25000% Test_loss:0.69565, test acc:46.00000\n",
            "epoch 5970| loss:0.69306,acc:50.25000% Test_loss:0.69564, test acc:46.00000\n",
            "epoch 5980| loss:0.69306,acc:50.25000% Test_loss:0.69564, test acc:46.00000\n",
            "epoch 5990| loss:0.69306,acc:50.25000% Test_loss:0.69564, test acc:46.00000\n",
            "epoch 6000| loss:0.69306,acc:50.25000% Test_loss:0.69564, test acc:46.00000\n",
            "epoch 6010| loss:0.69306,acc:50.25000% Test_loss:0.69564, test acc:46.00000\n",
            "epoch 6020| loss:0.69306,acc:50.25000% Test_loss:0.69564, test acc:46.00000\n",
            "epoch 6030| loss:0.69306,acc:50.25000% Test_loss:0.69564, test acc:46.00000\n",
            "epoch 6040| loss:0.69306,acc:50.25000% Test_loss:0.69564, test acc:46.00000\n",
            "epoch 6050| loss:0.69306,acc:50.25000% Test_loss:0.69564, test acc:46.00000\n",
            "epoch 6060| loss:0.69306,acc:50.25000% Test_loss:0.69564, test acc:46.00000\n",
            "epoch 6070| loss:0.69306,acc:50.25000% Test_loss:0.69564, test acc:46.00000\n",
            "epoch 6080| loss:0.69306,acc:50.37500% Test_loss:0.69564, test acc:46.00000\n",
            "epoch 6090| loss:0.69306,acc:50.37500% Test_loss:0.69564, test acc:46.50000\n",
            "epoch 6100| loss:0.69306,acc:50.37500% Test_loss:0.69564, test acc:46.50000\n",
            "epoch 6110| loss:0.69306,acc:50.37500% Test_loss:0.69564, test acc:46.50000\n",
            "epoch 6120| loss:0.69306,acc:50.37500% Test_loss:0.69564, test acc:46.50000\n",
            "epoch 6130| loss:0.69306,acc:50.37500% Test_loss:0.69564, test acc:46.50000\n",
            "epoch 6140| loss:0.69306,acc:50.37500% Test_loss:0.69564, test acc:46.50000\n",
            "epoch 6150| loss:0.69306,acc:50.50000% Test_loss:0.69564, test acc:46.50000\n",
            "epoch 6160| loss:0.69306,acc:50.50000% Test_loss:0.69564, test acc:46.50000\n",
            "epoch 6170| loss:0.69306,acc:50.50000% Test_loss:0.69564, test acc:46.50000\n",
            "epoch 6180| loss:0.69306,acc:50.50000% Test_loss:0.69563, test acc:46.50000\n",
            "epoch 6190| loss:0.69306,acc:50.50000% Test_loss:0.69563, test acc:46.50000\n",
            "epoch 6200| loss:0.69306,acc:50.62500% Test_loss:0.69563, test acc:46.50000\n",
            "epoch 6210| loss:0.69306,acc:50.62500% Test_loss:0.69563, test acc:46.50000\n",
            "epoch 6220| loss:0.69306,acc:50.50000% Test_loss:0.69563, test acc:46.50000\n",
            "epoch 6230| loss:0.69306,acc:50.50000% Test_loss:0.69563, test acc:46.50000\n",
            "epoch 6240| loss:0.69306,acc:50.62500% Test_loss:0.69563, test acc:46.50000\n",
            "epoch 6250| loss:0.69306,acc:50.62500% Test_loss:0.69563, test acc:46.50000\n",
            "epoch 6260| loss:0.69306,acc:50.62500% Test_loss:0.69563, test acc:46.50000\n",
            "epoch 6270| loss:0.69306,acc:50.50000% Test_loss:0.69563, test acc:46.50000\n",
            "epoch 6280| loss:0.69306,acc:50.50000% Test_loss:0.69563, test acc:46.50000\n",
            "epoch 6290| loss:0.69306,acc:50.50000% Test_loss:0.69563, test acc:46.50000\n",
            "epoch 6300| loss:0.69306,acc:50.50000% Test_loss:0.69563, test acc:46.50000\n",
            "epoch 6310| loss:0.69306,acc:50.50000% Test_loss:0.69563, test acc:46.50000\n",
            "epoch 6320| loss:0.69306,acc:50.50000% Test_loss:0.69563, test acc:46.50000\n",
            "epoch 6330| loss:0.69306,acc:50.50000% Test_loss:0.69563, test acc:46.50000\n",
            "epoch 6340| loss:0.69306,acc:50.50000% Test_loss:0.69563, test acc:46.50000\n",
            "epoch 6350| loss:0.69306,acc:50.50000% Test_loss:0.69563, test acc:46.50000\n",
            "epoch 6360| loss:0.69306,acc:50.50000% Test_loss:0.69563, test acc:46.50000\n",
            "epoch 6370| loss:0.69306,acc:50.50000% Test_loss:0.69562, test acc:46.50000\n",
            "epoch 6380| loss:0.69306,acc:50.50000% Test_loss:0.69562, test acc:46.50000\n",
            "epoch 6390| loss:0.69306,acc:50.50000% Test_loss:0.69562, test acc:46.50000\n",
            "epoch 6400| loss:0.69306,acc:50.50000% Test_loss:0.69562, test acc:46.50000\n",
            "epoch 6410| loss:0.69306,acc:50.50000% Test_loss:0.69562, test acc:46.50000\n",
            "epoch 6420| loss:0.69306,acc:50.50000% Test_loss:0.69562, test acc:46.50000\n",
            "epoch 6430| loss:0.69306,acc:50.50000% Test_loss:0.69562, test acc:46.50000\n",
            "epoch 6440| loss:0.69306,acc:50.50000% Test_loss:0.69562, test acc:46.50000\n",
            "epoch 6450| loss:0.69305,acc:50.50000% Test_loss:0.69562, test acc:46.50000\n",
            "epoch 6460| loss:0.69305,acc:50.50000% Test_loss:0.69562, test acc:46.50000\n",
            "epoch 6470| loss:0.69305,acc:50.50000% Test_loss:0.69562, test acc:46.50000\n",
            "epoch 6480| loss:0.69305,acc:50.50000% Test_loss:0.69562, test acc:46.50000\n",
            "epoch 6490| loss:0.69305,acc:50.50000% Test_loss:0.69562, test acc:46.50000\n",
            "epoch 6500| loss:0.69305,acc:50.50000% Test_loss:0.69562, test acc:46.50000\n",
            "epoch 6510| loss:0.69305,acc:50.50000% Test_loss:0.69562, test acc:46.50000\n",
            "epoch 6520| loss:0.69305,acc:50.50000% Test_loss:0.69562, test acc:46.50000\n",
            "epoch 6530| loss:0.69305,acc:50.50000% Test_loss:0.69562, test acc:46.50000\n",
            "epoch 6540| loss:0.69305,acc:50.50000% Test_loss:0.69562, test acc:46.50000\n",
            "epoch 6550| loss:0.69305,acc:50.50000% Test_loss:0.69562, test acc:46.50000\n",
            "epoch 6560| loss:0.69305,acc:50.50000% Test_loss:0.69561, test acc:46.50000\n",
            "epoch 6570| loss:0.69305,acc:50.50000% Test_loss:0.69561, test acc:46.50000\n",
            "epoch 6580| loss:0.69305,acc:50.50000% Test_loss:0.69561, test acc:46.50000\n",
            "epoch 6590| loss:0.69305,acc:50.50000% Test_loss:0.69561, test acc:46.50000\n",
            "epoch 6600| loss:0.69305,acc:50.50000% Test_loss:0.69561, test acc:46.50000\n",
            "epoch 6610| loss:0.69305,acc:50.50000% Test_loss:0.69561, test acc:46.50000\n",
            "epoch 6620| loss:0.69305,acc:50.50000% Test_loss:0.69561, test acc:46.50000\n",
            "epoch 6630| loss:0.69305,acc:50.50000% Test_loss:0.69561, test acc:46.50000\n",
            "epoch 6640| loss:0.69305,acc:50.50000% Test_loss:0.69561, test acc:46.50000\n",
            "epoch 6650| loss:0.69305,acc:50.50000% Test_loss:0.69561, test acc:46.50000\n",
            "epoch 6660| loss:0.69305,acc:50.50000% Test_loss:0.69561, test acc:46.50000\n",
            "epoch 6670| loss:0.69305,acc:50.50000% Test_loss:0.69561, test acc:46.50000\n",
            "epoch 6680| loss:0.69305,acc:50.50000% Test_loss:0.69561, test acc:46.50000\n",
            "epoch 6690| loss:0.69305,acc:50.50000% Test_loss:0.69561, test acc:46.50000\n",
            "epoch 6700| loss:0.69305,acc:50.50000% Test_loss:0.69561, test acc:46.00000\n",
            "epoch 6710| loss:0.69305,acc:50.50000% Test_loss:0.69561, test acc:46.00000\n",
            "epoch 6720| loss:0.69305,acc:50.37500% Test_loss:0.69561, test acc:46.00000\n",
            "epoch 6730| loss:0.69305,acc:50.37500% Test_loss:0.69561, test acc:46.00000\n",
            "epoch 6740| loss:0.69305,acc:50.37500% Test_loss:0.69561, test acc:46.00000\n",
            "epoch 6750| loss:0.69305,acc:50.37500% Test_loss:0.69560, test acc:46.00000\n",
            "epoch 6760| loss:0.69305,acc:50.37500% Test_loss:0.69560, test acc:46.00000\n",
            "epoch 6770| loss:0.69305,acc:50.37500% Test_loss:0.69560, test acc:46.00000\n",
            "epoch 6780| loss:0.69305,acc:50.37500% Test_loss:0.69560, test acc:46.00000\n",
            "epoch 6790| loss:0.69305,acc:50.37500% Test_loss:0.69560, test acc:46.00000\n",
            "epoch 6800| loss:0.69305,acc:50.37500% Test_loss:0.69560, test acc:46.00000\n",
            "epoch 6810| loss:0.69305,acc:50.37500% Test_loss:0.69560, test acc:46.00000\n",
            "epoch 6820| loss:0.69305,acc:50.37500% Test_loss:0.69560, test acc:46.00000\n",
            "epoch 6830| loss:0.69305,acc:50.37500% Test_loss:0.69560, test acc:46.00000\n",
            "epoch 6840| loss:0.69305,acc:50.37500% Test_loss:0.69560, test acc:46.00000\n",
            "epoch 6850| loss:0.69305,acc:50.37500% Test_loss:0.69560, test acc:46.00000\n",
            "epoch 6860| loss:0.69305,acc:50.25000% Test_loss:0.69560, test acc:46.00000\n",
            "epoch 6870| loss:0.69305,acc:50.25000% Test_loss:0.69560, test acc:46.00000\n",
            "epoch 6880| loss:0.69305,acc:50.25000% Test_loss:0.69560, test acc:46.00000\n",
            "epoch 6890| loss:0.69305,acc:50.25000% Test_loss:0.69560, test acc:46.00000\n",
            "epoch 6900| loss:0.69305,acc:50.25000% Test_loss:0.69560, test acc:46.00000\n",
            "epoch 6910| loss:0.69305,acc:50.37500% Test_loss:0.69560, test acc:46.00000\n",
            "epoch 6920| loss:0.69305,acc:50.37500% Test_loss:0.69560, test acc:46.00000\n",
            "epoch 6930| loss:0.69305,acc:50.37500% Test_loss:0.69560, test acc:46.00000\n",
            "epoch 6940| loss:0.69305,acc:50.37500% Test_loss:0.69559, test acc:46.00000\n",
            "epoch 6950| loss:0.69305,acc:50.37500% Test_loss:0.69559, test acc:46.00000\n",
            "epoch 6960| loss:0.69305,acc:50.37500% Test_loss:0.69559, test acc:46.00000\n",
            "epoch 6970| loss:0.69305,acc:50.37500% Test_loss:0.69559, test acc:46.00000\n",
            "epoch 6980| loss:0.69305,acc:50.37500% Test_loss:0.69559, test acc:46.00000\n",
            "epoch 6990| loss:0.69305,acc:50.37500% Test_loss:0.69559, test acc:46.00000\n",
            "epoch 7000| loss:0.69305,acc:50.25000% Test_loss:0.69559, test acc:46.00000\n",
            "epoch 7010| loss:0.69305,acc:50.25000% Test_loss:0.69559, test acc:46.00000\n",
            "epoch 7020| loss:0.69305,acc:50.25000% Test_loss:0.69559, test acc:46.00000\n",
            "epoch 7030| loss:0.69305,acc:50.25000% Test_loss:0.69559, test acc:46.00000\n",
            "epoch 7040| loss:0.69305,acc:50.25000% Test_loss:0.69559, test acc:46.00000\n",
            "epoch 7050| loss:0.69305,acc:50.25000% Test_loss:0.69559, test acc:46.00000\n",
            "epoch 7060| loss:0.69305,acc:50.25000% Test_loss:0.69559, test acc:46.00000\n",
            "epoch 7070| loss:0.69305,acc:50.25000% Test_loss:0.69559, test acc:46.00000\n",
            "epoch 7080| loss:0.69305,acc:50.25000% Test_loss:0.69559, test acc:46.50000\n",
            "epoch 7090| loss:0.69305,acc:50.25000% Test_loss:0.69559, test acc:46.50000\n",
            "epoch 7100| loss:0.69305,acc:50.25000% Test_loss:0.69559, test acc:46.50000\n",
            "epoch 7110| loss:0.69305,acc:50.37500% Test_loss:0.69559, test acc:46.50000\n",
            "epoch 7120| loss:0.69305,acc:50.37500% Test_loss:0.69559, test acc:46.50000\n",
            "epoch 7130| loss:0.69305,acc:50.37500% Test_loss:0.69558, test acc:46.50000\n",
            "epoch 7140| loss:0.69305,acc:50.37500% Test_loss:0.69558, test acc:46.50000\n",
            "epoch 7150| loss:0.69305,acc:50.37500% Test_loss:0.69558, test acc:46.50000\n",
            "epoch 7160| loss:0.69305,acc:50.37500% Test_loss:0.69558, test acc:46.50000\n",
            "epoch 7170| loss:0.69305,acc:50.37500% Test_loss:0.69558, test acc:46.50000\n",
            "epoch 7180| loss:0.69305,acc:50.37500% Test_loss:0.69558, test acc:46.50000\n",
            "epoch 7190| loss:0.69305,acc:50.37500% Test_loss:0.69558, test acc:46.50000\n",
            "epoch 7200| loss:0.69305,acc:50.50000% Test_loss:0.69558, test acc:46.50000\n",
            "epoch 7210| loss:0.69305,acc:50.50000% Test_loss:0.69558, test acc:46.50000\n",
            "epoch 7220| loss:0.69305,acc:50.62500% Test_loss:0.69558, test acc:46.50000\n",
            "epoch 7230| loss:0.69305,acc:50.62500% Test_loss:0.69558, test acc:46.50000\n",
            "epoch 7240| loss:0.69305,acc:50.62500% Test_loss:0.69558, test acc:46.50000\n",
            "epoch 7250| loss:0.69305,acc:50.62500% Test_loss:0.69558, test acc:46.50000\n",
            "epoch 7260| loss:0.69304,acc:50.62500% Test_loss:0.69558, test acc:46.50000\n",
            "epoch 7270| loss:0.69304,acc:50.62500% Test_loss:0.69558, test acc:46.50000\n",
            "epoch 7280| loss:0.69304,acc:50.75000% Test_loss:0.69558, test acc:46.50000\n",
            "epoch 7290| loss:0.69304,acc:50.62500% Test_loss:0.69558, test acc:46.50000\n",
            "epoch 7300| loss:0.69304,acc:50.62500% Test_loss:0.69557, test acc:46.50000\n",
            "epoch 7310| loss:0.69304,acc:50.62500% Test_loss:0.69557, test acc:46.50000\n",
            "epoch 7320| loss:0.69304,acc:50.62500% Test_loss:0.69557, test acc:46.50000\n",
            "epoch 7330| loss:0.69304,acc:50.62500% Test_loss:0.69557, test acc:46.50000\n",
            "epoch 7340| loss:0.69304,acc:50.62500% Test_loss:0.69557, test acc:46.50000\n",
            "epoch 7350| loss:0.69304,acc:50.62500% Test_loss:0.69557, test acc:46.50000\n",
            "epoch 7360| loss:0.69304,acc:50.62500% Test_loss:0.69557, test acc:46.50000\n",
            "epoch 7370| loss:0.69304,acc:50.62500% Test_loss:0.69557, test acc:46.50000\n",
            "epoch 7380| loss:0.69304,acc:50.62500% Test_loss:0.69557, test acc:46.50000\n",
            "epoch 7390| loss:0.69304,acc:50.62500% Test_loss:0.69557, test acc:46.50000\n",
            "epoch 7400| loss:0.69304,acc:50.62500% Test_loss:0.69557, test acc:46.50000\n",
            "epoch 7410| loss:0.69304,acc:50.62500% Test_loss:0.69557, test acc:46.50000\n",
            "epoch 7420| loss:0.69304,acc:50.62500% Test_loss:0.69557, test acc:46.50000\n",
            "epoch 7430| loss:0.69304,acc:50.62500% Test_loss:0.69557, test acc:46.50000\n",
            "epoch 7440| loss:0.69304,acc:50.62500% Test_loss:0.69557, test acc:46.50000\n",
            "epoch 7450| loss:0.69304,acc:50.62500% Test_loss:0.69557, test acc:46.50000\n",
            "epoch 7460| loss:0.69304,acc:50.62500% Test_loss:0.69557, test acc:46.50000\n",
            "epoch 7470| loss:0.69304,acc:50.62500% Test_loss:0.69557, test acc:46.50000\n",
            "epoch 7480| loss:0.69304,acc:50.62500% Test_loss:0.69557, test acc:46.50000\n",
            "epoch 7490| loss:0.69304,acc:50.62500% Test_loss:0.69556, test acc:46.50000\n",
            "epoch 7500| loss:0.69304,acc:50.62500% Test_loss:0.69556, test acc:46.50000\n",
            "epoch 7510| loss:0.69304,acc:50.62500% Test_loss:0.69556, test acc:46.50000\n",
            "epoch 7520| loss:0.69304,acc:50.62500% Test_loss:0.69556, test acc:46.50000\n",
            "epoch 7530| loss:0.69304,acc:50.62500% Test_loss:0.69556, test acc:46.50000\n",
            "epoch 7540| loss:0.69304,acc:50.62500% Test_loss:0.69556, test acc:46.50000\n",
            "epoch 7550| loss:0.69304,acc:50.62500% Test_loss:0.69556, test acc:46.50000\n",
            "epoch 7560| loss:0.69304,acc:50.62500% Test_loss:0.69556, test acc:46.50000\n",
            "epoch 7570| loss:0.69304,acc:50.75000% Test_loss:0.69556, test acc:46.50000\n",
            "epoch 7580| loss:0.69304,acc:50.75000% Test_loss:0.69556, test acc:46.50000\n",
            "epoch 7590| loss:0.69304,acc:50.75000% Test_loss:0.69556, test acc:46.50000\n",
            "epoch 7600| loss:0.69304,acc:50.75000% Test_loss:0.69556, test acc:46.50000\n",
            "epoch 7610| loss:0.69304,acc:50.75000% Test_loss:0.69556, test acc:46.50000\n",
            "epoch 7620| loss:0.69304,acc:50.75000% Test_loss:0.69556, test acc:46.50000\n",
            "epoch 7630| loss:0.69304,acc:50.75000% Test_loss:0.69556, test acc:46.50000\n",
            "epoch 7640| loss:0.69304,acc:50.75000% Test_loss:0.69556, test acc:46.50000\n",
            "epoch 7650| loss:0.69304,acc:50.75000% Test_loss:0.69556, test acc:46.50000\n",
            "epoch 7660| loss:0.69304,acc:50.75000% Test_loss:0.69556, test acc:46.50000\n",
            "epoch 7670| loss:0.69304,acc:50.75000% Test_loss:0.69555, test acc:46.50000\n",
            "epoch 7680| loss:0.69304,acc:50.75000% Test_loss:0.69555, test acc:46.50000\n",
            "epoch 7690| loss:0.69304,acc:50.75000% Test_loss:0.69555, test acc:46.50000\n",
            "epoch 7700| loss:0.69304,acc:50.75000% Test_loss:0.69555, test acc:46.50000\n",
            "epoch 7710| loss:0.69304,acc:50.75000% Test_loss:0.69555, test acc:46.50000\n",
            "epoch 7720| loss:0.69304,acc:50.75000% Test_loss:0.69555, test acc:46.50000\n",
            "epoch 7730| loss:0.69304,acc:50.75000% Test_loss:0.69555, test acc:46.50000\n",
            "epoch 7740| loss:0.69304,acc:50.75000% Test_loss:0.69555, test acc:46.50000\n",
            "epoch 7750| loss:0.69304,acc:50.75000% Test_loss:0.69555, test acc:46.50000\n",
            "epoch 7760| loss:0.69304,acc:50.75000% Test_loss:0.69555, test acc:46.50000\n",
            "epoch 7770| loss:0.69304,acc:50.75000% Test_loss:0.69555, test acc:46.50000\n",
            "epoch 7780| loss:0.69304,acc:50.75000% Test_loss:0.69555, test acc:46.50000\n",
            "epoch 7790| loss:0.69304,acc:50.75000% Test_loss:0.69555, test acc:46.50000\n",
            "epoch 7800| loss:0.69304,acc:50.75000% Test_loss:0.69555, test acc:46.50000\n",
            "epoch 7810| loss:0.69304,acc:50.75000% Test_loss:0.69555, test acc:46.50000\n",
            "epoch 7820| loss:0.69304,acc:50.75000% Test_loss:0.69555, test acc:46.50000\n",
            "epoch 7830| loss:0.69304,acc:50.75000% Test_loss:0.69555, test acc:46.50000\n",
            "epoch 7840| loss:0.69304,acc:50.75000% Test_loss:0.69555, test acc:46.50000\n",
            "epoch 7850| loss:0.69304,acc:50.75000% Test_loss:0.69554, test acc:46.50000\n",
            "epoch 7860| loss:0.69304,acc:50.75000% Test_loss:0.69554, test acc:46.50000\n",
            "epoch 7870| loss:0.69304,acc:50.75000% Test_loss:0.69554, test acc:46.50000\n",
            "epoch 7880| loss:0.69304,acc:50.75000% Test_loss:0.69554, test acc:46.50000\n",
            "epoch 7890| loss:0.69304,acc:50.75000% Test_loss:0.69554, test acc:46.50000\n",
            "epoch 7900| loss:0.69304,acc:50.75000% Test_loss:0.69554, test acc:46.50000\n",
            "epoch 7910| loss:0.69304,acc:50.75000% Test_loss:0.69554, test acc:46.50000\n",
            "epoch 7920| loss:0.69304,acc:50.75000% Test_loss:0.69554, test acc:46.50000\n",
            "epoch 7930| loss:0.69304,acc:50.75000% Test_loss:0.69554, test acc:46.50000\n",
            "epoch 7940| loss:0.69304,acc:50.75000% Test_loss:0.69554, test acc:46.50000\n",
            "epoch 7950| loss:0.69304,acc:50.75000% Test_loss:0.69554, test acc:46.50000\n",
            "epoch 7960| loss:0.69304,acc:50.75000% Test_loss:0.69554, test acc:46.50000\n",
            "epoch 7970| loss:0.69304,acc:50.75000% Test_loss:0.69554, test acc:46.50000\n",
            "epoch 7980| loss:0.69304,acc:50.75000% Test_loss:0.69554, test acc:46.50000\n",
            "epoch 7990| loss:0.69304,acc:50.75000% Test_loss:0.69554, test acc:46.50000\n",
            "epoch 8000| loss:0.69304,acc:50.75000% Test_loss:0.69554, test acc:46.50000\n",
            "epoch 8010| loss:0.69304,acc:50.75000% Test_loss:0.69554, test acc:46.50000\n",
            "epoch 8020| loss:0.69304,acc:50.75000% Test_loss:0.69554, test acc:46.50000\n",
            "epoch 8030| loss:0.69304,acc:50.75000% Test_loss:0.69553, test acc:46.50000\n",
            "epoch 8040| loss:0.69304,acc:50.75000% Test_loss:0.69553, test acc:46.50000\n",
            "epoch 8050| loss:0.69304,acc:50.75000% Test_loss:0.69553, test acc:46.50000\n",
            "epoch 8060| loss:0.69304,acc:50.75000% Test_loss:0.69553, test acc:46.50000\n",
            "epoch 8070| loss:0.69304,acc:50.75000% Test_loss:0.69553, test acc:46.50000\n",
            "epoch 8080| loss:0.69304,acc:50.75000% Test_loss:0.69553, test acc:46.50000\n",
            "epoch 8090| loss:0.69304,acc:50.75000% Test_loss:0.69553, test acc:46.50000\n",
            "epoch 8100| loss:0.69304,acc:50.75000% Test_loss:0.69553, test acc:46.50000\n",
            "epoch 8110| loss:0.69304,acc:50.75000% Test_loss:0.69553, test acc:46.50000\n",
            "epoch 8120| loss:0.69304,acc:50.75000% Test_loss:0.69553, test acc:46.50000\n",
            "epoch 8130| loss:0.69304,acc:50.75000% Test_loss:0.69553, test acc:46.50000\n",
            "epoch 8140| loss:0.69304,acc:50.75000% Test_loss:0.69553, test acc:46.50000\n",
            "epoch 8150| loss:0.69304,acc:50.75000% Test_loss:0.69553, test acc:46.50000\n",
            "epoch 8160| loss:0.69304,acc:50.75000% Test_loss:0.69553, test acc:46.50000\n",
            "epoch 8170| loss:0.69304,acc:50.75000% Test_loss:0.69553, test acc:46.50000\n",
            "epoch 8180| loss:0.69304,acc:50.75000% Test_loss:0.69553, test acc:46.50000\n",
            "epoch 8190| loss:0.69304,acc:50.75000% Test_loss:0.69553, test acc:46.50000\n",
            "epoch 8200| loss:0.69304,acc:50.75000% Test_loss:0.69553, test acc:46.50000\n",
            "epoch 8210| loss:0.69304,acc:50.75000% Test_loss:0.69552, test acc:46.50000\n",
            "epoch 8220| loss:0.69304,acc:50.75000% Test_loss:0.69552, test acc:46.50000\n",
            "epoch 8230| loss:0.69304,acc:50.75000% Test_loss:0.69552, test acc:46.50000\n",
            "epoch 8240| loss:0.69304,acc:50.75000% Test_loss:0.69552, test acc:46.50000\n",
            "epoch 8250| loss:0.69304,acc:50.75000% Test_loss:0.69552, test acc:46.50000\n",
            "epoch 8260| loss:0.69304,acc:50.75000% Test_loss:0.69552, test acc:46.50000\n",
            "epoch 8270| loss:0.69304,acc:50.75000% Test_loss:0.69552, test acc:46.50000\n",
            "epoch 8280| loss:0.69304,acc:50.75000% Test_loss:0.69552, test acc:46.50000\n",
            "epoch 8290| loss:0.69304,acc:50.75000% Test_loss:0.69552, test acc:46.50000\n",
            "epoch 8300| loss:0.69304,acc:50.75000% Test_loss:0.69552, test acc:46.50000\n",
            "epoch 8310| loss:0.69304,acc:50.75000% Test_loss:0.69552, test acc:46.50000\n",
            "epoch 8320| loss:0.69303,acc:50.75000% Test_loss:0.69552, test acc:46.50000\n",
            "epoch 8330| loss:0.69303,acc:50.75000% Test_loss:0.69552, test acc:46.50000\n",
            "epoch 8340| loss:0.69303,acc:50.75000% Test_loss:0.69552, test acc:46.50000\n",
            "epoch 8350| loss:0.69303,acc:50.75000% Test_loss:0.69552, test acc:46.50000\n",
            "epoch 8360| loss:0.69303,acc:50.75000% Test_loss:0.69552, test acc:46.50000\n",
            "epoch 8370| loss:0.69303,acc:50.75000% Test_loss:0.69552, test acc:46.50000\n",
            "epoch 8380| loss:0.69303,acc:50.75000% Test_loss:0.69552, test acc:46.50000\n",
            "epoch 8390| loss:0.69303,acc:50.75000% Test_loss:0.69551, test acc:46.50000\n",
            "epoch 8400| loss:0.69303,acc:50.75000% Test_loss:0.69551, test acc:46.50000\n",
            "epoch 8410| loss:0.69303,acc:50.75000% Test_loss:0.69551, test acc:46.50000\n",
            "epoch 8420| loss:0.69303,acc:50.75000% Test_loss:0.69551, test acc:46.50000\n",
            "epoch 8430| loss:0.69303,acc:50.75000% Test_loss:0.69551, test acc:46.50000\n",
            "epoch 8440| loss:0.69303,acc:50.75000% Test_loss:0.69551, test acc:46.50000\n",
            "epoch 8450| loss:0.69303,acc:50.75000% Test_loss:0.69551, test acc:46.50000\n",
            "epoch 8460| loss:0.69303,acc:50.75000% Test_loss:0.69551, test acc:46.50000\n",
            "epoch 8470| loss:0.69303,acc:50.62500% Test_loss:0.69551, test acc:46.50000\n",
            "epoch 8480| loss:0.69303,acc:50.62500% Test_loss:0.69551, test acc:46.50000\n",
            "epoch 8490| loss:0.69303,acc:50.62500% Test_loss:0.69551, test acc:46.50000\n",
            "epoch 8500| loss:0.69303,acc:50.62500% Test_loss:0.69551, test acc:46.50000\n",
            "epoch 8510| loss:0.69303,acc:50.62500% Test_loss:0.69551, test acc:46.50000\n",
            "epoch 8520| loss:0.69303,acc:50.62500% Test_loss:0.69551, test acc:46.50000\n",
            "epoch 8530| loss:0.69303,acc:50.62500% Test_loss:0.69551, test acc:46.50000\n",
            "epoch 8540| loss:0.69303,acc:50.62500% Test_loss:0.69551, test acc:46.50000\n",
            "epoch 8550| loss:0.69303,acc:50.62500% Test_loss:0.69551, test acc:46.50000\n",
            "epoch 8560| loss:0.69303,acc:50.62500% Test_loss:0.69551, test acc:46.50000\n",
            "epoch 8570| loss:0.69303,acc:50.62500% Test_loss:0.69550, test acc:46.50000\n",
            "epoch 8580| loss:0.69303,acc:50.50000% Test_loss:0.69550, test acc:46.50000\n",
            "epoch 8590| loss:0.69303,acc:50.50000% Test_loss:0.69550, test acc:46.50000\n",
            "epoch 8600| loss:0.69303,acc:50.50000% Test_loss:0.69550, test acc:46.50000\n",
            "epoch 8610| loss:0.69303,acc:50.50000% Test_loss:0.69550, test acc:46.50000\n",
            "epoch 8620| loss:0.69303,acc:50.50000% Test_loss:0.69550, test acc:46.50000\n",
            "epoch 8630| loss:0.69303,acc:50.50000% Test_loss:0.69550, test acc:46.50000\n",
            "epoch 8640| loss:0.69303,acc:50.50000% Test_loss:0.69550, test acc:46.50000\n",
            "epoch 8650| loss:0.69303,acc:50.50000% Test_loss:0.69550, test acc:46.50000\n",
            "epoch 8660| loss:0.69303,acc:50.50000% Test_loss:0.69550, test acc:46.50000\n",
            "epoch 8670| loss:0.69303,acc:50.50000% Test_loss:0.69550, test acc:46.50000\n",
            "epoch 8680| loss:0.69303,acc:50.50000% Test_loss:0.69550, test acc:46.50000\n",
            "epoch 8690| loss:0.69303,acc:50.50000% Test_loss:0.69550, test acc:46.50000\n",
            "epoch 8700| loss:0.69303,acc:50.50000% Test_loss:0.69550, test acc:46.50000\n",
            "epoch 8710| loss:0.69303,acc:50.50000% Test_loss:0.69550, test acc:46.50000\n",
            "epoch 8720| loss:0.69303,acc:50.50000% Test_loss:0.69550, test acc:46.50000\n",
            "epoch 8730| loss:0.69303,acc:50.50000% Test_loss:0.69550, test acc:46.50000\n",
            "epoch 8740| loss:0.69303,acc:50.50000% Test_loss:0.69550, test acc:46.50000\n",
            "epoch 8750| loss:0.69303,acc:50.50000% Test_loss:0.69549, test acc:46.50000\n",
            "epoch 8760| loss:0.69303,acc:50.50000% Test_loss:0.69549, test acc:46.50000\n",
            "epoch 8770| loss:0.69303,acc:50.50000% Test_loss:0.69549, test acc:46.50000\n",
            "epoch 8780| loss:0.69303,acc:50.50000% Test_loss:0.69549, test acc:46.50000\n",
            "epoch 8790| loss:0.69303,acc:50.50000% Test_loss:0.69549, test acc:46.50000\n",
            "epoch 8800| loss:0.69303,acc:50.50000% Test_loss:0.69549, test acc:46.50000\n",
            "epoch 8810| loss:0.69303,acc:50.50000% Test_loss:0.69549, test acc:46.50000\n",
            "epoch 8820| loss:0.69303,acc:50.50000% Test_loss:0.69549, test acc:46.50000\n",
            "epoch 8830| loss:0.69303,acc:50.50000% Test_loss:0.69549, test acc:46.50000\n",
            "epoch 8840| loss:0.69303,acc:50.50000% Test_loss:0.69549, test acc:46.50000\n",
            "epoch 8850| loss:0.69303,acc:50.50000% Test_loss:0.69549, test acc:46.50000\n",
            "epoch 8860| loss:0.69303,acc:50.50000% Test_loss:0.69549, test acc:46.50000\n",
            "epoch 8870| loss:0.69303,acc:50.50000% Test_loss:0.69549, test acc:46.50000\n",
            "epoch 8880| loss:0.69303,acc:50.50000% Test_loss:0.69549, test acc:46.50000\n",
            "epoch 8890| loss:0.69303,acc:50.50000% Test_loss:0.69549, test acc:46.50000\n",
            "epoch 8900| loss:0.69303,acc:50.50000% Test_loss:0.69549, test acc:46.50000\n",
            "epoch 8910| loss:0.69303,acc:50.50000% Test_loss:0.69549, test acc:46.50000\n",
            "epoch 8920| loss:0.69303,acc:50.50000% Test_loss:0.69549, test acc:46.50000\n",
            "epoch 8930| loss:0.69303,acc:50.50000% Test_loss:0.69548, test acc:46.50000\n",
            "epoch 8940| loss:0.69303,acc:50.50000% Test_loss:0.69548, test acc:46.50000\n",
            "epoch 8950| loss:0.69303,acc:50.50000% Test_loss:0.69548, test acc:46.50000\n",
            "epoch 8960| loss:0.69303,acc:50.50000% Test_loss:0.69548, test acc:46.50000\n",
            "epoch 8970| loss:0.69303,acc:50.50000% Test_loss:0.69548, test acc:46.50000\n",
            "epoch 8980| loss:0.69303,acc:50.50000% Test_loss:0.69548, test acc:46.50000\n",
            "epoch 8990| loss:0.69303,acc:50.50000% Test_loss:0.69548, test acc:46.50000\n",
            "epoch 9000| loss:0.69303,acc:50.50000% Test_loss:0.69548, test acc:46.50000\n",
            "epoch 9010| loss:0.69303,acc:50.50000% Test_loss:0.69548, test acc:46.50000\n",
            "epoch 9020| loss:0.69303,acc:50.50000% Test_loss:0.69548, test acc:46.50000\n",
            "epoch 9030| loss:0.69303,acc:50.50000% Test_loss:0.69548, test acc:46.50000\n",
            "epoch 9040| loss:0.69303,acc:50.50000% Test_loss:0.69548, test acc:46.50000\n",
            "epoch 9050| loss:0.69303,acc:50.50000% Test_loss:0.69548, test acc:46.50000\n",
            "epoch 9060| loss:0.69303,acc:50.50000% Test_loss:0.69548, test acc:46.50000\n",
            "epoch 9070| loss:0.69303,acc:50.50000% Test_loss:0.69548, test acc:46.50000\n",
            "epoch 9080| loss:0.69303,acc:50.50000% Test_loss:0.69548, test acc:46.50000\n",
            "epoch 9090| loss:0.69303,acc:50.50000% Test_loss:0.69548, test acc:46.50000\n",
            "epoch 9100| loss:0.69303,acc:50.50000% Test_loss:0.69548, test acc:46.50000\n",
            "epoch 9110| loss:0.69303,acc:50.50000% Test_loss:0.69547, test acc:46.50000\n",
            "epoch 9120| loss:0.69303,acc:50.50000% Test_loss:0.69547, test acc:46.50000\n",
            "epoch 9130| loss:0.69303,acc:50.50000% Test_loss:0.69547, test acc:46.50000\n",
            "epoch 9140| loss:0.69303,acc:50.37500% Test_loss:0.69547, test acc:46.50000\n",
            "epoch 9150| loss:0.69303,acc:50.37500% Test_loss:0.69547, test acc:46.50000\n",
            "epoch 9160| loss:0.69303,acc:50.37500% Test_loss:0.69547, test acc:46.50000\n",
            "epoch 9170| loss:0.69303,acc:50.37500% Test_loss:0.69547, test acc:46.50000\n",
            "epoch 9180| loss:0.69303,acc:50.37500% Test_loss:0.69547, test acc:46.50000\n",
            "epoch 9190| loss:0.69303,acc:50.37500% Test_loss:0.69547, test acc:46.50000\n",
            "epoch 9200| loss:0.69303,acc:50.37500% Test_loss:0.69547, test acc:46.50000\n",
            "epoch 9210| loss:0.69303,acc:50.37500% Test_loss:0.69547, test acc:46.50000\n",
            "epoch 9220| loss:0.69303,acc:50.37500% Test_loss:0.69547, test acc:46.50000\n",
            "epoch 9230| loss:0.69303,acc:50.37500% Test_loss:0.69547, test acc:46.50000\n",
            "epoch 9240| loss:0.69303,acc:50.37500% Test_loss:0.69547, test acc:46.50000\n",
            "epoch 9250| loss:0.69303,acc:50.37500% Test_loss:0.69547, test acc:46.50000\n",
            "epoch 9260| loss:0.69303,acc:50.37500% Test_loss:0.69547, test acc:46.50000\n",
            "epoch 9270| loss:0.69303,acc:50.37500% Test_loss:0.69547, test acc:46.50000\n",
            "epoch 9280| loss:0.69303,acc:50.37500% Test_loss:0.69547, test acc:46.50000\n",
            "epoch 9290| loss:0.69303,acc:50.37500% Test_loss:0.69547, test acc:46.50000\n",
            "epoch 9300| loss:0.69303,acc:50.37500% Test_loss:0.69546, test acc:46.50000\n",
            "epoch 9310| loss:0.69303,acc:50.37500% Test_loss:0.69546, test acc:46.50000\n",
            "epoch 9320| loss:0.69303,acc:50.37500% Test_loss:0.69546, test acc:46.50000\n",
            "epoch 9330| loss:0.69303,acc:50.37500% Test_loss:0.69546, test acc:46.50000\n",
            "epoch 9340| loss:0.69303,acc:50.37500% Test_loss:0.69546, test acc:46.50000\n",
            "epoch 9350| loss:0.69303,acc:50.37500% Test_loss:0.69546, test acc:46.50000\n",
            "epoch 9360| loss:0.69303,acc:50.37500% Test_loss:0.69546, test acc:46.50000\n",
            "epoch 9370| loss:0.69303,acc:50.37500% Test_loss:0.69546, test acc:46.50000\n",
            "epoch 9380| loss:0.69303,acc:50.37500% Test_loss:0.69546, test acc:46.50000\n",
            "epoch 9390| loss:0.69303,acc:50.37500% Test_loss:0.69546, test acc:46.50000\n",
            "epoch 9400| loss:0.69303,acc:50.37500% Test_loss:0.69546, test acc:46.50000\n",
            "epoch 9410| loss:0.69303,acc:50.37500% Test_loss:0.69546, test acc:46.50000\n",
            "epoch 9420| loss:0.69303,acc:50.37500% Test_loss:0.69546, test acc:46.50000\n",
            "epoch 9430| loss:0.69303,acc:50.37500% Test_loss:0.69546, test acc:46.50000\n",
            "epoch 9440| loss:0.69303,acc:50.37500% Test_loss:0.69546, test acc:46.50000\n",
            "epoch 9450| loss:0.69303,acc:50.37500% Test_loss:0.69546, test acc:46.50000\n",
            "epoch 9460| loss:0.69303,acc:50.37500% Test_loss:0.69546, test acc:46.50000\n",
            "epoch 9470| loss:0.69303,acc:50.37500% Test_loss:0.69546, test acc:46.50000\n",
            "epoch 9480| loss:0.69303,acc:50.37500% Test_loss:0.69545, test acc:46.50000\n",
            "epoch 9490| loss:0.69303,acc:50.37500% Test_loss:0.69545, test acc:46.50000\n",
            "epoch 9500| loss:0.69303,acc:50.37500% Test_loss:0.69545, test acc:46.50000\n",
            "epoch 9510| loss:0.69303,acc:50.37500% Test_loss:0.69545, test acc:46.50000\n",
            "epoch 9520| loss:0.69303,acc:50.37500% Test_loss:0.69545, test acc:46.50000\n",
            "epoch 9530| loss:0.69303,acc:50.37500% Test_loss:0.69545, test acc:46.50000\n",
            "epoch 9540| loss:0.69303,acc:50.37500% Test_loss:0.69545, test acc:46.50000\n",
            "epoch 9550| loss:0.69303,acc:50.37500% Test_loss:0.69545, test acc:46.50000\n",
            "epoch 9560| loss:0.69303,acc:50.37500% Test_loss:0.69545, test acc:46.50000\n",
            "epoch 9570| loss:0.69303,acc:50.37500% Test_loss:0.69545, test acc:46.50000\n",
            "epoch 9580| loss:0.69303,acc:50.37500% Test_loss:0.69545, test acc:46.50000\n",
            "epoch 9590| loss:0.69303,acc:50.37500% Test_loss:0.69545, test acc:46.50000\n",
            "epoch 9600| loss:0.69303,acc:50.37500% Test_loss:0.69545, test acc:46.50000\n",
            "epoch 9610| loss:0.69303,acc:50.37500% Test_loss:0.69545, test acc:46.50000\n",
            "epoch 9620| loss:0.69303,acc:50.37500% Test_loss:0.69545, test acc:46.50000\n",
            "epoch 9630| loss:0.69303,acc:50.37500% Test_loss:0.69545, test acc:46.50000\n",
            "epoch 9640| loss:0.69302,acc:50.37500% Test_loss:0.69545, test acc:46.50000\n",
            "epoch 9650| loss:0.69302,acc:50.37500% Test_loss:0.69545, test acc:46.50000\n",
            "epoch 9660| loss:0.69302,acc:50.37500% Test_loss:0.69544, test acc:46.50000\n",
            "epoch 9670| loss:0.69302,acc:50.37500% Test_loss:0.69544, test acc:46.50000\n",
            "epoch 9680| loss:0.69302,acc:50.37500% Test_loss:0.69544, test acc:46.50000\n",
            "epoch 9690| loss:0.69302,acc:50.37500% Test_loss:0.69544, test acc:46.50000\n",
            "epoch 9700| loss:0.69302,acc:50.37500% Test_loss:0.69544, test acc:46.50000\n",
            "epoch 9710| loss:0.69302,acc:50.37500% Test_loss:0.69544, test acc:46.50000\n",
            "epoch 9720| loss:0.69302,acc:50.37500% Test_loss:0.69544, test acc:46.50000\n",
            "epoch 9730| loss:0.69302,acc:50.37500% Test_loss:0.69544, test acc:46.50000\n",
            "epoch 9740| loss:0.69302,acc:50.37500% Test_loss:0.69544, test acc:46.50000\n",
            "epoch 9750| loss:0.69302,acc:50.50000% Test_loss:0.69544, test acc:46.50000\n",
            "epoch 9760| loss:0.69302,acc:50.50000% Test_loss:0.69544, test acc:46.50000\n",
            "epoch 9770| loss:0.69302,acc:50.50000% Test_loss:0.69544, test acc:46.50000\n",
            "epoch 9780| loss:0.69302,acc:50.50000% Test_loss:0.69544, test acc:46.50000\n",
            "epoch 9790| loss:0.69302,acc:50.50000% Test_loss:0.69544, test acc:46.50000\n",
            "epoch 9800| loss:0.69302,acc:50.50000% Test_loss:0.69544, test acc:46.50000\n",
            "epoch 9810| loss:0.69302,acc:50.50000% Test_loss:0.69544, test acc:46.50000\n",
            "epoch 9820| loss:0.69302,acc:50.50000% Test_loss:0.69544, test acc:46.50000\n",
            "epoch 9830| loss:0.69302,acc:50.50000% Test_loss:0.69544, test acc:46.50000\n",
            "epoch 9840| loss:0.69302,acc:50.50000% Test_loss:0.69544, test acc:46.50000\n",
            "epoch 9850| loss:0.69302,acc:50.50000% Test_loss:0.69543, test acc:46.50000\n",
            "epoch 9860| loss:0.69302,acc:50.50000% Test_loss:0.69543, test acc:46.50000\n",
            "epoch 9870| loss:0.69302,acc:50.50000% Test_loss:0.69543, test acc:46.50000\n",
            "epoch 9880| loss:0.69302,acc:50.50000% Test_loss:0.69543, test acc:46.50000\n",
            "epoch 9890| loss:0.69302,acc:50.50000% Test_loss:0.69543, test acc:46.50000\n",
            "epoch 9900| loss:0.69302,acc:50.50000% Test_loss:0.69543, test acc:46.50000\n",
            "epoch 9910| loss:0.69302,acc:50.50000% Test_loss:0.69543, test acc:46.50000\n",
            "epoch 9920| loss:0.69302,acc:50.50000% Test_loss:0.69543, test acc:46.50000\n",
            "epoch 9930| loss:0.69302,acc:50.50000% Test_loss:0.69543, test acc:46.50000\n",
            "epoch 9940| loss:0.69302,acc:50.50000% Test_loss:0.69543, test acc:46.50000\n",
            "epoch 9950| loss:0.69302,acc:50.50000% Test_loss:0.69543, test acc:46.50000\n",
            "epoch 9960| loss:0.69302,acc:50.50000% Test_loss:0.69543, test acc:46.50000\n",
            "epoch 9970| loss:0.69302,acc:50.50000% Test_loss:0.69543, test acc:46.50000\n",
            "epoch 9980| loss:0.69302,acc:50.50000% Test_loss:0.69543, test acc:46.50000\n",
            "epoch 9990| loss:0.69302,acc:50.50000% Test_loss:0.69543, test acc:46.50000\n"
          ]
        }
      ]
    },
    {
      "cell_type": "code",
      "source": [
        "loss_fn"
      ],
      "metadata": {
        "colab": {
          "base_uri": "https://localhost:8080/"
        },
        "id": "pZPoSfrKVxW2",
        "outputId": "1fc46bc4-d11b-4632-cdec-7fa17af037d1"
      },
      "execution_count": 213,
      "outputs": [
        {
          "output_type": "execute_result",
          "data": {
            "text/plain": [
              "BCEWithLogitsLoss()"
            ]
          },
          "metadata": {},
          "execution_count": 213
        }
      ]
    },
    {
      "cell_type": "code",
      "source": [
        "loss_fn_without_logits=nn.BCELoss()\n",
        "loss_fn_without_logits"
      ],
      "metadata": {
        "colab": {
          "base_uri": "https://localhost:8080/"
        },
        "id": "RD-0-LgfVyn8",
        "outputId": "fddc4d94-6b86-498e-f8ff-90e18d2fa467"
      },
      "execution_count": 214,
      "outputs": [
        {
          "output_type": "execute_result",
          "data": {
            "text/plain": [
              "BCELoss()"
            ]
          },
          "metadata": {},
          "execution_count": 214
        }
      ]
    },
    {
      "cell_type": "code",
      "source": [],
      "metadata": {
        "id": "8ViqIa9JV52C"
      },
      "execution_count": 214,
      "outputs": []
    }
  ]
}