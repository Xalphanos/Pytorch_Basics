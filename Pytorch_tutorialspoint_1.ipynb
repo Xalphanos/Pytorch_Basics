{
  "nbformat": 4,
  "nbformat_minor": 0,
  "metadata": {
    "colab": {
      "provenance": [],
      "gpuType": "T4",
      "authorship_tag": "ABX9TyMIaLAfsBLAvgMfazjRlrTu",
      "include_colab_link": true
    },
    "kernelspec": {
      "name": "python3",
      "display_name": "Python 3"
    },
    "language_info": {
      "name": "python"
    }
  },
  "cells": [
    {
      "cell_type": "markdown",
      "metadata": {
        "id": "view-in-github",
        "colab_type": "text"
      },
      "source": [
        "<a href=\"https://colab.research.google.com/github/Xalphanos/Pytorch_Basics/blob/main/Pytorch_tutorialspoint_1.ipynb\" target=\"_parent\"><img src=\"https://colab.research.google.com/assets/colab-badge.svg\" alt=\"Open In Colab\"/></a>"
      ]
    },
    {
      "cell_type": "code",
      "execution_count": 2,
      "metadata": {
        "colab": {
          "base_uri": "https://localhost:8080/"
        },
        "id": "nFdMxND5I6XE",
        "outputId": "17deb647-f926-4ee0-a973-2783229de574"
      },
      "outputs": [
        {
          "output_type": "stream",
          "name": "stdout",
          "text": [
            "2.8.0+cu126\n"
          ]
        }
      ],
      "source": [
        "import numpy as np\n",
        "import torch\n",
        "import matplotlib.pyplot as plt\n",
        "import pandas as pd\n",
        "print(torch.__version__)\n"
      ]
    },
    {
      "cell_type": "markdown",
      "source": [
        "### Introduction to Tensors\n",
        "\n",
        "we intorduce it by using syntax torch.tensor(7)\n",
        "\n"
      ],
      "metadata": {
        "id": "03NGoP31LJjO"
      }
    },
    {
      "cell_type": "code",
      "source": [
        "scalar=torch.tensor(7)\n",
        "scalar"
      ],
      "metadata": {
        "colab": {
          "base_uri": "https://localhost:8080/"
        },
        "id": "0ZFLIM8WLM2e",
        "outputId": "e36a54f5-ae7d-465f-a93a-3314494584ec"
      },
      "execution_count": 3,
      "outputs": [
        {
          "output_type": "execute_result",
          "data": {
            "text/plain": [
              "tensor(7)"
            ]
          },
          "metadata": {},
          "execution_count": 3
        }
      ]
    },
    {
      "cell_type": "code",
      "source": [
        "scalar.ndim\n",
        "# to find the dimensions of the tensor given to us\n"
      ],
      "metadata": {
        "colab": {
          "base_uri": "https://localhost:8080/"
        },
        "id": "i7-h2qktLtlB",
        "outputId": "2e7023ef-0e9a-4ab8-a08c-f7ccc7b52a3e"
      },
      "execution_count": 4,
      "outputs": [
        {
          "output_type": "execute_result",
          "data": {
            "text/plain": [
              "0"
            ]
          },
          "metadata": {},
          "execution_count": 4
        }
      ]
    },
    {
      "cell_type": "code",
      "source": [
        "scalar.item()"
      ],
      "metadata": {
        "colab": {
          "base_uri": "https://localhost:8080/"
        },
        "id": "pcE2rJg6Lv-7",
        "outputId": "cae06d12-a39e-45b8-986f-e8ce43332590"
      },
      "execution_count": 5,
      "outputs": [
        {
          "output_type": "execute_result",
          "data": {
            "text/plain": [
              "7"
            ]
          },
          "metadata": {},
          "execution_count": 5
        }
      ]
    },
    {
      "cell_type": "code",
      "source": [
        "matrix=torch.tensor([[1,2],\n",
        "                     [3,4]])\n",
        "print(matrix.shape)\n",
        "print(matrix.ndim)\n"
      ],
      "metadata": {
        "colab": {
          "base_uri": "https://localhost:8080/"
        },
        "id": "ufUjVBbQL3p3",
        "outputId": "8b2f840b-b72c-4a7e-863e-f1347ca85463"
      },
      "execution_count": 6,
      "outputs": [
        {
          "output_type": "stream",
          "name": "stdout",
          "text": [
            "torch.Size([2, 2])\n",
            "2\n"
          ]
        }
      ]
    },
    {
      "cell_type": "code",
      "source": [
        "#Tensor\n",
        "\n",
        "TENSOR=torch.tensor([[[1,2,3],\n",
        "                      [3,6,9],\n",
        "                      [2,4,5]]])\n",
        "print(TENSOR.ndim)\n",
        "print(TENSOR.shape)\n"
      ],
      "metadata": {
        "colab": {
          "base_uri": "https://localhost:8080/"
        },
        "id": "fIrxYK2fNk8S",
        "outputId": "52972ef7-634f-4248-ccb5-269f51162aab"
      },
      "execution_count": 7,
      "outputs": [
        {
          "output_type": "stream",
          "name": "stdout",
          "text": [
            "3\n",
            "torch.Size([1, 3, 3])\n"
          ]
        }
      ]
    },
    {
      "cell_type": "markdown",
      "source": [
        "### Random tensors\n",
        "\n",
        "Random tensors importent beaucse the way neural networks learn is that they start with tensors full of random numbers and then adjust those random number to better represent the data"
      ],
      "metadata": {
        "id": "o5FC9VFXQsiS"
      }
    },
    {
      "cell_type": "code",
      "source": [
        "# Create a random tensor of size (2,4)\n",
        "\n",
        "random_tensor=torch.rand(10,10,4)\n",
        "random_tensor"
      ],
      "metadata": {
        "colab": {
          "base_uri": "https://localhost:8080/"
        },
        "id": "AQWN5zgaQ61d",
        "outputId": "3d0b879a-8601-49e9-c863-3ab0f5f3f8cf"
      },
      "execution_count": 8,
      "outputs": [
        {
          "output_type": "execute_result",
          "data": {
            "text/plain": [
              "tensor([[[7.4623e-01, 6.5135e-01, 8.6408e-01, 1.3570e-01],\n",
              "         [6.4711e-01, 5.3953e-01, 4.6403e-01, 2.2850e-01],\n",
              "         [3.2851e-02, 1.5912e-01, 8.5055e-02, 8.8389e-01],\n",
              "         [3.0625e-02, 5.5771e-01, 6.1790e-01, 5.1645e-01],\n",
              "         [2.6625e-01, 8.4033e-01, 6.4726e-01, 4.4459e-02],\n",
              "         [1.9629e-01, 5.5865e-01, 1.9071e-02, 2.4798e-01],\n",
              "         [1.7406e-01, 8.2733e-01, 4.9149e-01, 3.0468e-01],\n",
              "         [8.0871e-01, 9.4898e-01, 2.7481e-01, 4.9081e-01],\n",
              "         [9.4402e-02, 9.4217e-01, 8.5931e-01, 2.1056e-01],\n",
              "         [2.9485e-01, 2.6809e-01, 9.1657e-01, 8.1117e-01]],\n",
              "\n",
              "        [[2.5288e-01, 5.8054e-01, 4.7315e-01, 6.2538e-02],\n",
              "         [3.6880e-01, 8.7879e-01, 4.4597e-01, 8.5607e-01],\n",
              "         [5.5988e-01, 6.2509e-01, 1.9637e-01, 6.2810e-01],\n",
              "         [6.6885e-01, 4.2545e-01, 6.3575e-01, 1.4418e-01],\n",
              "         [7.8739e-01, 9.4879e-02, 2.4515e-01, 6.3625e-01],\n",
              "         [4.0807e-01, 8.6360e-01, 3.1356e-01, 7.8210e-01],\n",
              "         [1.1799e-01, 6.3359e-01, 2.7773e-01, 4.2566e-01],\n",
              "         [8.1687e-01, 6.6915e-01, 7.6421e-03, 9.2254e-01],\n",
              "         [6.8560e-01, 7.8029e-01, 9.6725e-01, 6.2638e-01],\n",
              "         [6.7961e-01, 2.7068e-01, 9.4342e-01, 2.5157e-01]],\n",
              "\n",
              "        [[5.9017e-01, 3.1693e-01, 7.6792e-01, 6.5933e-01],\n",
              "         [4.0627e-01, 1.7644e-01, 2.4894e-01, 9.9300e-01],\n",
              "         [1.5959e-01, 9.3562e-02, 7.5990e-01, 7.1070e-01],\n",
              "         [5.5008e-01, 4.6166e-01, 5.5059e-01, 7.4697e-01],\n",
              "         [1.9915e-01, 5.4678e-02, 9.1697e-01, 7.1254e-01],\n",
              "         [1.2227e-01, 6.9325e-02, 4.1053e-01, 5.3923e-01],\n",
              "         [4.0302e-01, 4.3470e-02, 6.9317e-01, 7.3508e-01],\n",
              "         [5.0634e-01, 5.2251e-01, 4.9508e-01, 3.0956e-01],\n",
              "         [8.0398e-01, 2.8853e-02, 2.1088e-01, 3.1204e-01],\n",
              "         [1.5965e-01, 3.9134e-01, 6.3801e-01, 1.1304e-01]],\n",
              "\n",
              "        [[3.6669e-01, 3.8390e-01, 4.6905e-01, 5.9469e-01],\n",
              "         [5.1230e-03, 7.3285e-01, 2.2095e-01, 8.4691e-01],\n",
              "         [6.3526e-01, 8.9403e-01, 5.1225e-02, 5.6355e-01],\n",
              "         [1.7516e-01, 1.0264e-01, 2.1011e-01, 7.9357e-01],\n",
              "         [7.0035e-01, 6.3734e-01, 5.3763e-02, 3.7197e-01],\n",
              "         [5.8273e-01, 3.2521e-01, 5.5386e-01, 9.5955e-02],\n",
              "         [6.2444e-01, 1.1705e-01, 7.0958e-01, 3.8320e-01],\n",
              "         [4.4164e-01, 9.6952e-01, 1.4435e-01, 5.2581e-01],\n",
              "         [5.4384e-01, 6.4320e-01, 5.3769e-01, 8.2717e-01],\n",
              "         [5.7506e-01, 3.2951e-01, 8.7902e-01, 2.5088e-01]],\n",
              "\n",
              "        [[2.2093e-02, 8.3901e-01, 5.9849e-01, 9.7686e-01],\n",
              "         [5.2384e-01, 6.4273e-02, 1.3879e-01, 5.6226e-01],\n",
              "         [6.1775e-01, 9.2943e-01, 3.3531e-01, 2.2759e-01],\n",
              "         [1.4914e-02, 2.6501e-01, 9.5381e-01, 4.6097e-01],\n",
              "         [3.2259e-01, 8.3748e-01, 6.8112e-01, 3.6224e-02],\n",
              "         [5.9117e-01, 9.1144e-01, 1.5518e-01, 7.5253e-01],\n",
              "         [7.0296e-01, 5.6626e-01, 2.6348e-01, 7.6733e-01],\n",
              "         [1.2789e-01, 4.3812e-01, 1.8623e-01, 7.7591e-01],\n",
              "         [6.8688e-01, 2.7237e-01, 6.8229e-01, 2.5953e-01],\n",
              "         [4.3026e-01, 6.8972e-01, 8.1071e-01, 4.5432e-01]],\n",
              "\n",
              "        [[7.9661e-01, 2.5882e-01, 2.2743e-01, 5.6667e-01],\n",
              "         [7.7208e-01, 5.9353e-01, 2.6804e-02, 7.0202e-01],\n",
              "         [3.7515e-01, 1.9447e-01, 7.5983e-01, 9.2395e-02],\n",
              "         [8.4537e-01, 2.4359e-01, 1.6350e-01, 1.0262e-01],\n",
              "         [4.3729e-01, 5.1575e-01, 4.3192e-01, 7.3637e-01],\n",
              "         [2.4883e-01, 5.8157e-01, 4.9636e-01, 9.7319e-01],\n",
              "         [8.9235e-01, 7.4172e-01, 4.8471e-01, 8.4147e-01],\n",
              "         [9.9527e-01, 9.1740e-01, 8.8291e-01, 5.4245e-01],\n",
              "         [6.5465e-02, 3.1392e-01, 5.6671e-01, 8.8404e-02],\n",
              "         [8.3096e-01, 6.4477e-02, 5.1126e-01, 1.1519e-01]],\n",
              "\n",
              "        [[6.7062e-01, 1.3445e-01, 6.0417e-01, 5.4932e-01],\n",
              "         [9.9383e-01, 6.0670e-01, 3.7206e-01, 7.5964e-02],\n",
              "         [6.5872e-01, 2.3431e-01, 5.3188e-01, 2.1771e-01],\n",
              "         [2.3962e-01, 3.3281e-01, 6.2812e-01, 5.0851e-01],\n",
              "         [2.8381e-01, 1.5921e-01, 5.2028e-01, 9.3049e-01],\n",
              "         [3.0181e-02, 7.6210e-01, 1.8686e-01, 6.7218e-02],\n",
              "         [9.4730e-01, 2.0997e-01, 5.0708e-01, 9.5760e-01],\n",
              "         [4.8952e-01, 3.0658e-03, 3.9493e-01, 2.9637e-01],\n",
              "         [6.9412e-01, 1.3237e-02, 7.5304e-01, 5.6322e-01],\n",
              "         [8.7551e-01, 5.4130e-01, 9.0925e-01, 7.6831e-01]],\n",
              "\n",
              "        [[1.4440e-01, 5.6325e-01, 2.9091e-01, 7.4008e-01],\n",
              "         [2.5056e-01, 4.4041e-01, 2.7457e-01, 5.3184e-01],\n",
              "         [3.3062e-02, 9.9789e-01, 8.8219e-01, 4.4378e-01],\n",
              "         [5.0842e-01, 4.5341e-01, 4.7418e-01, 4.5511e-01],\n",
              "         [7.8107e-03, 5.1845e-01, 6.5779e-02, 6.5356e-01],\n",
              "         [3.8682e-01, 5.3906e-01, 9.7184e-01, 1.6208e-01],\n",
              "         [9.3804e-01, 9.9103e-02, 5.1872e-01, 4.5852e-01],\n",
              "         [2.0452e-01, 3.6324e-01, 4.3566e-01, 7.3870e-01],\n",
              "         [1.1327e-01, 8.3027e-01, 2.2822e-01, 2.3498e-01],\n",
              "         [1.3002e-02, 5.1733e-01, 8.5499e-01, 5.2374e-01]],\n",
              "\n",
              "        [[3.7142e-01, 7.5256e-01, 2.9067e-01, 4.5206e-01],\n",
              "         [9.4726e-01, 1.7866e-01, 8.4433e-01, 3.5829e-01],\n",
              "         [9.0635e-01, 8.6622e-01, 4.2697e-01, 6.0456e-01],\n",
              "         [3.3044e-02, 3.0580e-01, 8.4979e-01, 7.6616e-04],\n",
              "         [8.1554e-01, 5.5389e-01, 2.4141e-01, 2.8216e-01],\n",
              "         [8.5736e-01, 6.5995e-01, 4.1022e-01, 8.1152e-03],\n",
              "         [5.8275e-01, 6.6914e-01, 7.7454e-01, 7.0754e-01],\n",
              "         [4.0706e-01, 4.7893e-01, 5.2873e-01, 7.5128e-02],\n",
              "         [3.0470e-01, 5.6332e-01, 7.5306e-01, 7.6109e-01],\n",
              "         [9.6753e-01, 5.4118e-01, 3.0806e-01, 2.9094e-01]],\n",
              "\n",
              "        [[4.1317e-01, 8.4931e-01, 4.0014e-01, 3.8053e-03],\n",
              "         [1.1314e-02, 6.3175e-01, 1.4574e-01, 4.6096e-01],\n",
              "         [2.2511e-01, 1.2280e-01, 7.0524e-01, 7.6572e-01],\n",
              "         [6.5842e-01, 7.4031e-01, 6.0084e-01, 6.8379e-01],\n",
              "         [1.9992e-01, 1.4995e-01, 3.6865e-01, 9.8519e-01],\n",
              "         [9.3519e-01, 9.6538e-02, 7.5005e-01, 1.2646e-01],\n",
              "         [1.2402e-02, 4.5172e-01, 8.6177e-01, 1.9605e-01],\n",
              "         [2.0007e-01, 3.5658e-01, 5.5099e-03, 8.8656e-01],\n",
              "         [3.3226e-01, 7.6791e-01, 4.1056e-01, 3.5454e-01],\n",
              "         [5.7005e-02, 6.8529e-01, 7.5491e-01, 7.0173e-01]]])"
            ]
          },
          "metadata": {},
          "execution_count": 8
        }
      ]
    },
    {
      "cell_type": "code",
      "source": [
        "random_tensor.ndim\n"
      ],
      "metadata": {
        "colab": {
          "base_uri": "https://localhost:8080/"
        },
        "id": "JFwPxX6MRIv_",
        "outputId": "2d0cc57f-66cd-4a28-ce0c-1b455a30a058"
      },
      "execution_count": 9,
      "outputs": [
        {
          "output_type": "execute_result",
          "data": {
            "text/plain": [
              "3"
            ]
          },
          "metadata": {},
          "execution_count": 9
        }
      ]
    },
    {
      "cell_type": "code",
      "source": [
        "# Create a random tensor with similar shape to an image tensor\n",
        "\n",
        "random_image_tensor=torch.rand(size=(224,224,3))#height, width and color channels RG and B\n",
        "print(random_image_tensor.shape)\n",
        "print(random_image_tensor.ndim)"
      ],
      "metadata": {
        "colab": {
          "base_uri": "https://localhost:8080/"
        },
        "id": "Yp3NLIf2RWDx",
        "outputId": "ffea5de4-b241-453e-b3fc-9134e4a8088f"
      },
      "execution_count": 10,
      "outputs": [
        {
          "output_type": "stream",
          "name": "stdout",
          "text": [
            "torch.Size([224, 224, 3])\n",
            "3\n"
          ]
        }
      ]
    },
    {
      "cell_type": "code",
      "source": [
        "rand1=torch.rand(size=(3,4,56,7))\n",
        "rand1.ndim"
      ],
      "metadata": {
        "colab": {
          "base_uri": "https://localhost:8080/"
        },
        "id": "KvHHa1orULt4",
        "outputId": "2df13937-6995-4014-cc0a-755ee8d98aa9"
      },
      "execution_count": 11,
      "outputs": [
        {
          "output_type": "execute_result",
          "data": {
            "text/plain": [
              "4"
            ]
          },
          "metadata": {},
          "execution_count": 11
        }
      ]
    },
    {
      "cell_type": "code",
      "source": [
        "rand1.shape"
      ],
      "metadata": {
        "colab": {
          "base_uri": "https://localhost:8080/"
        },
        "id": "8-7MghToUvXw",
        "outputId": "bdb6755c-4eef-41ac-bdf2-c1943cd246a5"
      },
      "execution_count": 12,
      "outputs": [
        {
          "output_type": "execute_result",
          "data": {
            "text/plain": [
              "torch.Size([3, 4, 56, 7])"
            ]
          },
          "metadata": {},
          "execution_count": 12
        }
      ]
    },
    {
      "cell_type": "markdown",
      "source": [
        "# Creating a range of tensors and similar"
      ],
      "metadata": {
        "id": "fZUzK1QzVsnr"
      }
    },
    {
      "cell_type": "code",
      "source": [
        "one_2_ten=torch.arange(1,11)\n",
        "one_2_ten"
      ],
      "metadata": {
        "colab": {
          "base_uri": "https://localhost:8080/"
        },
        "id": "-hoppwArVxvE",
        "outputId": "4bca3e6b-d17a-4fc9-bc91-a8031a8237b6"
      },
      "execution_count": 13,
      "outputs": [
        {
          "output_type": "execute_result",
          "data": {
            "text/plain": [
              "tensor([ 1,  2,  3,  4,  5,  6,  7,  8,  9, 10])"
            ]
          },
          "metadata": {},
          "execution_count": 13
        }
      ]
    },
    {
      "cell_type": "code",
      "source": [
        "sequence=torch.arange(start=0,end=1000,step=90)\n",
        "sequence"
      ],
      "metadata": {
        "colab": {
          "base_uri": "https://localhost:8080/"
        },
        "id": "FioVyqfhWG-u",
        "outputId": "965d51af-91d9-4661-ad3c-1eff91d06871"
      },
      "execution_count": 14,
      "outputs": [
        {
          "output_type": "execute_result",
          "data": {
            "text/plain": [
              "tensor([  0,  90, 180, 270, 360, 450, 540, 630, 720, 810, 900, 990])"
            ]
          },
          "metadata": {},
          "execution_count": 14
        }
      ]
    },
    {
      "cell_type": "code",
      "source": [
        "#tensor-like\n",
        "ten_zeroes=torch.ones_like(input=sequence)\n",
        "ten_zeroes"
      ],
      "metadata": {
        "colab": {
          "base_uri": "https://localhost:8080/"
        },
        "id": "ka52-j2dxzNz",
        "outputId": "5e2c9be3-88a5-4f98-929a-f555fcdd1e88"
      },
      "execution_count": 15,
      "outputs": [
        {
          "output_type": "execute_result",
          "data": {
            "text/plain": [
              "tensor([1, 1, 1, 1, 1, 1, 1, 1, 1, 1, 1, 1])"
            ]
          },
          "metadata": {},
          "execution_count": 15
        }
      ]
    },
    {
      "cell_type": "markdown",
      "source": [
        "### Tensor Datatypes\n"
      ],
      "metadata": {
        "id": "7dOWiu26yHA9"
      }
    },
    {
      "cell_type": "code",
      "source": [
        "float_32_tensor=torch.tensor([3.0,6.0,9.0],\n",
        "                              dtype=None,\n",
        "                             device=None,#what device your tensor is on\n",
        "                             requires_grad=False)# if we are tracking the gradients of the tensor or not)"
      ],
      "metadata": {
        "id": "d3Zi9EjVyKng"
      },
      "execution_count": 16,
      "outputs": []
    },
    {
      "cell_type": "markdown",
      "source": [],
      "metadata": {
        "id": "fAMrKhmgyh6x"
      }
    },
    {
      "cell_type": "code",
      "source": [
        "float_32_tensor.dtype"
      ],
      "metadata": {
        "colab": {
          "base_uri": "https://localhost:8080/"
        },
        "id": "XEU7QoFGyqvT",
        "outputId": "91717a23-c216-4325-b1f6-b46fc145f697"
      },
      "execution_count": 17,
      "outputs": [
        {
          "output_type": "execute_result",
          "data": {
            "text/plain": [
              "torch.float32"
            ]
          },
          "metadata": {},
          "execution_count": 17
        }
      ]
    },
    {
      "cell_type": "code",
      "source": [
        "float_16_tensor= float_32_tensor.type(torch.float16)# converting the tensor from 32 to float 16"
      ],
      "metadata": {
        "id": "MhMhziikyuGr"
      },
      "execution_count": 18,
      "outputs": []
    },
    {
      "cell_type": "code",
      "source": [
        "float_16_tensor"
      ],
      "metadata": {
        "colab": {
          "base_uri": "https://localhost:8080/"
        },
        "id": "QKnEBXJw0C_r",
        "outputId": "00fb9d13-c55b-42d2-843e-3e375b52462b"
      },
      "execution_count": 19,
      "outputs": [
        {
          "output_type": "execute_result",
          "data": {
            "text/plain": [
              "tensor([3., 6., 9.], dtype=torch.float16)"
            ]
          },
          "metadata": {},
          "execution_count": 19
        }
      ]
    },
    {
      "cell_type": "markdown",
      "source": [
        "# Tensor multiplication"
      ],
      "metadata": {
        "id": "na63uJBz2pEL"
      }
    },
    {
      "cell_type": "code",
      "source": [
        "\n",
        "sometensor=torch.rand(3,4)\n",
        "sometensor"
      ],
      "metadata": {
        "colab": {
          "base_uri": "https://localhost:8080/"
        },
        "id": "EoPT_IZ12sa4",
        "outputId": "d26b4590-3129-41fc-fe27-9d4238ae1bca"
      },
      "execution_count": 20,
      "outputs": [
        {
          "output_type": "execute_result",
          "data": {
            "text/plain": [
              "tensor([[0.6718, 0.4537, 0.1077, 0.3926],\n",
              "        [0.7226, 0.0328, 0.8045, 0.7033],\n",
              "        [0.4793, 0.9714, 0.8635, 0.2978]])"
            ]
          },
          "metadata": {},
          "execution_count": 20
        }
      ]
    },
    {
      "cell_type": "code",
      "source": [
        "print(sometensor)\n",
        "print(f\"Datatype of tensor: {sometensor.dtype}\")\n",
        "print(f\"Shape of tensor: {sometensor.shape}\")\n",
        "print(f\"Device tensor is on: {sometensor.device}\")"
      ],
      "metadata": {
        "colab": {
          "base_uri": "https://localhost:8080/"
        },
        "id": "kzfMgE4u2wPY",
        "outputId": "c52109bf-0581-4ce4-eeae-08232f5f27d1"
      },
      "execution_count": 21,
      "outputs": [
        {
          "output_type": "stream",
          "name": "stdout",
          "text": [
            "tensor([[0.6718, 0.4537, 0.1077, 0.3926],\n",
            "        [0.7226, 0.0328, 0.8045, 0.7033],\n",
            "        [0.4793, 0.9714, 0.8635, 0.2978]])\n",
            "Datatype of tensor: torch.float32\n",
            "Shape of tensor: torch.Size([3, 4])\n",
            "Device tensor is on: cpu\n"
          ]
        }
      ]
    },
    {
      "cell_type": "markdown",
      "source": [
        "# We will do some airthmetic operations on the tensor\n"
      ],
      "metadata": {
        "id": "cMdO9UeP3nxo"
      }
    },
    {
      "cell_type": "code",
      "source": [
        "tensor=torch.tensor([1,2,3])\n",
        "tensor+100"
      ],
      "metadata": {
        "colab": {
          "base_uri": "https://localhost:8080/"
        },
        "id": "xsi4d8Wv3sEJ",
        "outputId": "e4e2dcf5-0443-45dd-b706-1f78bd638ec8"
      },
      "execution_count": 22,
      "outputs": [
        {
          "output_type": "execute_result",
          "data": {
            "text/plain": [
              "tensor([101, 102, 103])"
            ]
          },
          "metadata": {},
          "execution_count": 22
        }
      ]
    },
    {
      "cell_type": "code",
      "source": [
        "tensor=tensor*10\n",
        "tensor"
      ],
      "metadata": {
        "colab": {
          "base_uri": "https://localhost:8080/"
        },
        "id": "Kp8w1abG3xa1",
        "outputId": "0e182cc1-d642-4125-e556-6b6854205840"
      },
      "execution_count": 23,
      "outputs": [
        {
          "output_type": "execute_result",
          "data": {
            "text/plain": [
              "tensor([10, 20, 30])"
            ]
          },
          "metadata": {},
          "execution_count": 23
        }
      ]
    },
    {
      "cell_type": "code",
      "source": [
        "torch.mul(tensor,11)"
      ],
      "metadata": {
        "colab": {
          "base_uri": "https://localhost:8080/"
        },
        "id": "vJZPubIr4FNa",
        "outputId": "8f5db35c-1847-429e-9e54-2b8aa92f4185"
      },
      "execution_count": 24,
      "outputs": [
        {
          "output_type": "execute_result",
          "data": {
            "text/plain": [
              "tensor([110, 220, 330])"
            ]
          },
          "metadata": {},
          "execution_count": 24
        }
      ]
    },
    {
      "cell_type": "markdown",
      "source": [
        "# Most importent basic concepts of these couse that is natrix multiplication basically whole of the couse is based on that so please pay a little bit attendtion to what matrix multiplication actually is\n"
      ],
      "metadata": {
        "id": "jSXtZ4dvqnbz"
      }
    },
    {
      "cell_type": "code",
      "source": [
        "# Element wise multipliction\n",
        "tensor"
      ],
      "metadata": {
        "colab": {
          "base_uri": "https://localhost:8080/"
        },
        "id": "YoE64Bayq33h",
        "outputId": "6f018cc6-5394-4706-815b-bb6d3e2d861a"
      },
      "execution_count": 25,
      "outputs": [
        {
          "output_type": "execute_result",
          "data": {
            "text/plain": [
              "tensor([10, 20, 30])"
            ]
          },
          "metadata": {},
          "execution_count": 25
        }
      ]
    },
    {
      "cell_type": "code",
      "source": [
        "print(f\"element wise multiplication equals: {tensor * tensor}\")"
      ],
      "metadata": {
        "colab": {
          "base_uri": "https://localhost:8080/"
        },
        "id": "Ry7Fw_CBrMp4",
        "outputId": "7037b984-de5b-4dad-a873-f802eb3ffdd3"
      },
      "execution_count": 26,
      "outputs": [
        {
          "output_type": "stream",
          "name": "stdout",
          "text": [
            "element wise multiplication equals: tensor([100, 400, 900])\n"
          ]
        }
      ]
    },
    {
      "cell_type": "code",
      "source": [
        "#Matrix multiplication\n",
        "%%time\n",
        "torch.matmul(tensor,tensor)"
      ],
      "metadata": {
        "colab": {
          "base_uri": "https://localhost:8080/"
        },
        "id": "72NzVkwHrXNs",
        "outputId": "7dfe5c14-76d8-4c87-8b16-a483e601983e"
      },
      "execution_count": 27,
      "outputs": [
        {
          "output_type": "stream",
          "name": "stdout",
          "text": [
            "CPU times: user 0 ns, sys: 741 µs, total: 741 µs\n",
            "Wall time: 16.5 ms\n"
          ]
        },
        {
          "output_type": "execute_result",
          "data": {
            "text/plain": [
              "tensor(1400)"
            ]
          },
          "metadata": {},
          "execution_count": 27
        }
      ]
    },
    {
      "cell_type": "code",
      "source": [
        "%%time\n",
        "value=0 # SEE THE DIFFERENCE IN TIME WHEN USING DIFFERENT ELEMENTS\n",
        "for i in range(len(tensor)):\n",
        "  value+= tensor[i]* tensor[i]\n",
        "print(value)\n"
      ],
      "metadata": {
        "colab": {
          "base_uri": "https://localhost:8080/"
        },
        "id": "_fzr_KSHvNvA",
        "outputId": "b9763007-a268-4e9f-cf11-63d05a3043a8"
      },
      "execution_count": 28,
      "outputs": [
        {
          "output_type": "stream",
          "name": "stdout",
          "text": [
            "tensor(1400)\n",
            "CPU times: user 1.41 ms, sys: 0 ns, total: 1.41 ms\n",
            "Wall time: 1.41 ms\n"
          ]
        }
      ]
    },
    {
      "cell_type": "code",
      "source": [
        "#shapes for matrix multiplicatijon\n",
        "\n",
        "\n",
        "tensor_A=torch.tensor([[1,3],\n",
        "                      [3,4],\n",
        "                      [5,6]])\n",
        "\n",
        "tensor_B=torch.tensor([[1,3],\n",
        "                      [3,4],\n",
        "                      [5,6]])\n",
        "\n",
        "torch.matmul(tensor_A.T, tensor_B)\n"
      ],
      "metadata": {
        "colab": {
          "base_uri": "https://localhost:8080/"
        },
        "id": "AHbBuEjjvX9Z",
        "outputId": "4f62fa3e-9103-4400-9108-75c989ecb427"
      },
      "execution_count": 29,
      "outputs": [
        {
          "output_type": "execute_result",
          "data": {
            "text/plain": [
              "tensor([[35, 45],\n",
              "        [45, 61]])"
            ]
          },
          "metadata": {},
          "execution_count": 29
        }
      ]
    },
    {
      "cell_type": "markdown",
      "source": [
        "#Findinghte min, max, sum etc(tensor operations and aggregation)"
      ],
      "metadata": {
        "id": "Ys6YusuN6X9P"
      }
    },
    {
      "cell_type": "code",
      "source": [
        "x=torch.arange(0,100,10)\n",
        "x"
      ],
      "metadata": {
        "colab": {
          "base_uri": "https://localhost:8080/"
        },
        "id": "MXKlOcvJ6c_A",
        "outputId": "ed869ecc-d9d4-4401-fe62-ce4751cfa139"
      },
      "execution_count": 30,
      "outputs": [
        {
          "output_type": "execute_result",
          "data": {
            "text/plain": [
              "tensor([ 0, 10, 20, 30, 40, 50, 60, 70, 80, 90])"
            ]
          },
          "metadata": {},
          "execution_count": 30
        }
      ]
    },
    {
      "cell_type": "code",
      "source": [
        "print(f\"the min value is {torch.min(x)}\")\n",
        "print(f\"the max value is {torch.max(x)}\")\n",
        "print(f\"the mean value is {torch.mean(x.type(torch.float32))}\")\n",
        "print(f\"the mean value is {torch.sum(x)}\")\n",
        "\n",
        "# mean requires a float32 datatype to work\n"
      ],
      "metadata": {
        "colab": {
          "base_uri": "https://localhost:8080/"
        },
        "id": "DfEKZb3Q6iVS",
        "outputId": "de0cf733-c94c-4c76-90fc-6947816fd95e"
      },
      "execution_count": 31,
      "outputs": [
        {
          "output_type": "stream",
          "name": "stdout",
          "text": [
            "the min value is 0\n",
            "the max value is 90\n",
            "the mean value is 45.0\n",
            "the mean value is 450\n"
          ]
        }
      ]
    },
    {
      "cell_type": "code",
      "source": [
        "print(f\"the  positonal min value is {torch.argmin(x)}\")# positional tensor whch has the least value"
      ],
      "metadata": {
        "colab": {
          "base_uri": "https://localhost:8080/"
        },
        "id": "JVFrcjRH6nAL",
        "outputId": "94ec2c9d-1023-4d8b-9d2f-97a7c0a841fd"
      },
      "execution_count": 32,
      "outputs": [
        {
          "output_type": "stream",
          "name": "stdout",
          "text": [
            "the  positonal min value is 0\n"
          ]
        }
      ]
    },
    {
      "cell_type": "code",
      "source": [
        "x.argmax()"
      ],
      "metadata": {
        "colab": {
          "base_uri": "https://localhost:8080/"
        },
        "id": "Kft0OvJt9MxX",
        "outputId": "d3d8f62b-c171-456c-f826-abb597f5477d"
      },
      "execution_count": 33,
      "outputs": [
        {
          "output_type": "execute_result",
          "data": {
            "text/plain": [
              "tensor(9)"
            ]
          },
          "metadata": {},
          "execution_count": 33
        }
      ]
    },
    {
      "cell_type": "markdown",
      "source": [
        "## Reshaping ,stacking, squeezing and unsqueezing tensors\n",
        "\n",
        "* Reshaping an input tensor to a desired shape\n",
        "* View= viewing that tensor from a different perspective or an angle\n",
        "\n",
        "* Stacking = combining multiple tensors in top of each other (vertical stack) or side by side (horizontal stack)\n",
        "\n",
        "* Squeeze - Removes alll '1' dimensions from a tensor\n",
        "\n",
        "* Unsqueeze - adds a '1' dimension to a target tensor\n",
        "\n",
        "* Permute- Return a view of the input with the dimensions permutted(swapped) in a certain way.\n",
        "\n"
      ],
      "metadata": {
        "id": "woRSCV36-jki"
      }
    },
    {
      "cell_type": "code",
      "source": [
        "# creating and working on the tensor\n",
        "\n",
        "import torch\n",
        "x=torch.arange(0.,10.)\n",
        "\n",
        "x , x.shape,x.ndim"
      ],
      "metadata": {
        "colab": {
          "base_uri": "https://localhost:8080/"
        },
        "id": "MzkketBC_NWs",
        "outputId": "760a1f19-049c-4acf-b4f7-96d846ef96e7"
      },
      "execution_count": 34,
      "outputs": [
        {
          "output_type": "execute_result",
          "data": {
            "text/plain": [
              "(tensor([0., 1., 2., 3., 4., 5., 6., 7., 8., 9.]), torch.Size([10]), 1)"
            ]
          },
          "metadata": {},
          "execution_count": 34
        }
      ]
    },
    {
      "cell_type": "code",
      "source": [
        "x_reshaped=x.reshape(1,10)\n",
        "x_reshaped, x_reshaped.shape"
      ],
      "metadata": {
        "colab": {
          "base_uri": "https://localhost:8080/"
        },
        "id": "mHRXK7P-CDkz",
        "outputId": "f080fad7-3224-4018-91d4-9c29eed7fc8e"
      },
      "execution_count": 35,
      "outputs": [
        {
          "output_type": "execute_result",
          "data": {
            "text/plain": [
              "(tensor([[0., 1., 2., 3., 4., 5., 6., 7., 8., 9.]]), torch.Size([1, 10]))"
            ]
          },
          "metadata": {},
          "execution_count": 35
        }
      ]
    },
    {
      "cell_type": "code",
      "source": [
        "x_reshaped=x.reshape(10,1)\n",
        "x_reshaped, x_reshaped.shape"
      ],
      "metadata": {
        "colab": {
          "base_uri": "https://localhost:8080/"
        },
        "id": "rEPcPooOCWf6",
        "outputId": "c782bcc5-d039-4c64-b57e-9370e4f1033a"
      },
      "execution_count": 36,
      "outputs": [
        {
          "output_type": "execute_result",
          "data": {
            "text/plain": [
              "(tensor([[0.],\n",
              "         [1.],\n",
              "         [2.],\n",
              "         [3.],\n",
              "         [4.],\n",
              "         [5.],\n",
              "         [6.],\n",
              "         [7.],\n",
              "         [8.],\n",
              "         [9.]]),\n",
              " torch.Size([10, 1]))"
            ]
          },
          "metadata": {},
          "execution_count": 36
        }
      ]
    },
    {
      "cell_type": "code",
      "source": [
        "#change the shape\n",
        "\n",
        "\n",
        "x_reshaped=x.reshape(2,5)\n",
        "x_reshaped, x_reshaped.shape"
      ],
      "metadata": {
        "colab": {
          "base_uri": "https://localhost:8080/"
        },
        "id": "gBucslKDCb96",
        "outputId": "59a19b5f-811b-4b38-a93c-32806daa1042"
      },
      "execution_count": 37,
      "outputs": [
        {
          "output_type": "execute_result",
          "data": {
            "text/plain": [
              "(tensor([[0., 1., 2., 3., 4.],\n",
              "         [5., 6., 7., 8., 9.]]),\n",
              " torch.Size([2, 5]))"
            ]
          },
          "metadata": {},
          "execution_count": 37
        }
      ]
    },
    {
      "cell_type": "code",
      "source": [
        "# change the view\n",
        "\n",
        "z=x.view(1,10)\n",
        "z[:,0]=5\n",
        "z,z.shape\n"
      ],
      "metadata": {
        "colab": {
          "base_uri": "https://localhost:8080/"
        },
        "id": "QYH1EMfrC49x",
        "outputId": "e54f14c6-2731-4149-ef9b-190e68dfe793"
      },
      "execution_count": 38,
      "outputs": [
        {
          "output_type": "execute_result",
          "data": {
            "text/plain": [
              "(tensor([[5., 1., 2., 3., 4., 5., 6., 7., 8., 9.]]), torch.Size([1, 10]))"
            ]
          },
          "metadata": {},
          "execution_count": 38
        }
      ]
    },
    {
      "cell_type": "code",
      "source": [
        "#stack tensors on top of each other\n",
        "x_stacked=torch.stack([x,x,x,x,x,x],dim=1)\n",
        "x_stacked"
      ],
      "metadata": {
        "colab": {
          "base_uri": "https://localhost:8080/"
        },
        "id": "1jgAOSErGRIM",
        "outputId": "5d69ffdc-ea67-45ba-dc38-0d980ddb37a6"
      },
      "execution_count": 39,
      "outputs": [
        {
          "output_type": "execute_result",
          "data": {
            "text/plain": [
              "tensor([[5., 5., 5., 5., 5., 5.],\n",
              "        [1., 1., 1., 1., 1., 1.],\n",
              "        [2., 2., 2., 2., 2., 2.],\n",
              "        [3., 3., 3., 3., 3., 3.],\n",
              "        [4., 4., 4., 4., 4., 4.],\n",
              "        [5., 5., 5., 5., 5., 5.],\n",
              "        [6., 6., 6., 6., 6., 6.],\n",
              "        [7., 7., 7., 7., 7., 7.],\n",
              "        [8., 8., 8., 8., 8., 8.],\n",
              "        [9., 9., 9., 9., 9., 9.]])"
            ]
          },
          "metadata": {},
          "execution_count": 39
        }
      ]
    },
    {
      "cell_type": "code",
      "source": [
        "#torch.squeeze removes the dim 1 from all the tensors\n",
        "x_reshape=x_reshaped.reshape(1,10)"
      ],
      "metadata": {
        "id": "piDvvTdxMtPj"
      },
      "execution_count": 40,
      "outputs": []
    },
    {
      "cell_type": "code",
      "source": [
        "x_reshape.shape"
      ],
      "metadata": {
        "colab": {
          "base_uri": "https://localhost:8080/"
        },
        "id": "-opNrxemNDdY",
        "outputId": "a0381424-95f8-46bb-ef7e-d2c1e2ee7595"
      },
      "execution_count": 41,
      "outputs": [
        {
          "output_type": "execute_result",
          "data": {
            "text/plain": [
              "torch.Size([1, 10])"
            ]
          },
          "metadata": {},
          "execution_count": 41
        }
      ]
    },
    {
      "cell_type": "code",
      "source": [
        "x_reshape=x_reshape.squeeze(dim=0)"
      ],
      "metadata": {
        "id": "CdZuv_plNFol"
      },
      "execution_count": 42,
      "outputs": []
    },
    {
      "cell_type": "code",
      "source": [
        "# unsqueeze adds a single dim to a sqeezed sensor\n",
        "prev_tensor=x_reshape\n",
        "unsqueezed_tensor=prev_tensor.unsqueeze(dim=0)\n",
        "\n",
        "print(f\"befroe unsqueezing {prev_tensor.shape} after it {unsqueezed_tensor.shape} \")\n"
      ],
      "metadata": {
        "colab": {
          "base_uri": "https://localhost:8080/"
        },
        "id": "j9kQfg8UNKXS",
        "outputId": "26bde804-be17-49c3-d093-04fee9e9547e"
      },
      "execution_count": 43,
      "outputs": [
        {
          "output_type": "stream",
          "name": "stdout",
          "text": [
            "befroe unsqueezing torch.Size([10]) after it torch.Size([1, 10]) \n"
          ]
        }
      ]
    },
    {
      "cell_type": "code",
      "source": [
        "x_original= torch.rand(size=(224,224,3))\n",
        "\n",
        "x_permuted=x_original.permute(2,0,1)\n",
        "\n",
        "print(f\"x_original{x_original.shape} x_permuted {x_permuted.shape}\")"
      ],
      "metadata": {
        "colab": {
          "base_uri": "https://localhost:8080/"
        },
        "id": "KG7avDTQR3aN",
        "outputId": "dc358be6-990b-46c7-8d0f-d58172b3624c"
      },
      "execution_count": 44,
      "outputs": [
        {
          "output_type": "stream",
          "name": "stdout",
          "text": [
            "x_originaltorch.Size([224, 224, 3]) x_permuted torch.Size([3, 224, 224])\n"
          ]
        }
      ]
    },
    {
      "cell_type": "markdown",
      "source": [
        "# Indexing done on the tensors this will likely be an east topic comparitively\n"
      ],
      "metadata": {
        "id": "n_uiPohqXPTU"
      }
    },
    {
      "cell_type": "code",
      "source": [
        "import torch\n",
        "x= torch.arange(1,10).reshape(1,3,3)\n",
        "x,x.shape\n"
      ],
      "metadata": {
        "colab": {
          "base_uri": "https://localhost:8080/"
        },
        "id": "Kk0yrLktXV7t",
        "outputId": "429a49e8-7607-4e6e-a6c8-f3d40910948d"
      },
      "execution_count": 45,
      "outputs": [
        {
          "output_type": "execute_result",
          "data": {
            "text/plain": [
              "(tensor([[[1, 2, 3],\n",
              "          [4, 5, 6],\n",
              "          [7, 8, 9]]]),\n",
              " torch.Size([1, 3, 3]))"
            ]
          },
          "metadata": {},
          "execution_count": 45
        }
      ]
    },
    {
      "cell_type": "code",
      "source": [
        "y=torch.arange(1,28).reshape(3,3,3)\n",
        "y,y.shape"
      ],
      "metadata": {
        "colab": {
          "base_uri": "https://localhost:8080/"
        },
        "id": "kgNc462BXicj",
        "outputId": "7c0f8206-aa0b-4289-b08a-b4c2fa524367"
      },
      "execution_count": 46,
      "outputs": [
        {
          "output_type": "execute_result",
          "data": {
            "text/plain": [
              "(tensor([[[ 1,  2,  3],\n",
              "          [ 4,  5,  6],\n",
              "          [ 7,  8,  9]],\n",
              " \n",
              "         [[10, 11, 12],\n",
              "          [13, 14, 15],\n",
              "          [16, 17, 18]],\n",
              " \n",
              "         [[19, 20, 21],\n",
              "          [22, 23, 24],\n",
              "          [25, 26, 27]]]),\n",
              " torch.Size([3, 3, 3]))"
            ]
          },
          "metadata": {},
          "execution_count": 46
        }
      ]
    },
    {
      "cell_type": "code",
      "source": [
        "x[0]"
      ],
      "metadata": {
        "colab": {
          "base_uri": "https://localhost:8080/"
        },
        "id": "OO8uv1byZqCf",
        "outputId": "18137bf0-aa3d-48ea-fe47-bfaab0517037"
      },
      "execution_count": 47,
      "outputs": [
        {
          "output_type": "execute_result",
          "data": {
            "text/plain": [
              "tensor([[1, 2, 3],\n",
              "        [4, 5, 6],\n",
              "        [7, 8, 9]])"
            ]
          },
          "metadata": {},
          "execution_count": 47
        }
      ]
    },
    {
      "cell_type": "code",
      "source": [
        "x[0][0]"
      ],
      "metadata": {
        "colab": {
          "base_uri": "https://localhost:8080/"
        },
        "id": "uRnFB2SAZ48S",
        "outputId": "e5b8005b-8164-4c7b-85be-15e4a3557037"
      },
      "execution_count": 48,
      "outputs": [
        {
          "output_type": "execute_result",
          "data": {
            "text/plain": [
              "tensor([1, 2, 3])"
            ]
          },
          "metadata": {},
          "execution_count": 48
        }
      ]
    },
    {
      "cell_type": "code",
      "source": [
        "x[0][0][0]"
      ],
      "metadata": {
        "colab": {
          "base_uri": "https://localhost:8080/"
        },
        "id": "YUZ7sI0rZ81O",
        "outputId": "d0e86f12-d028-4694-ea0b-c200953326dc"
      },
      "execution_count": 49,
      "outputs": [
        {
          "output_type": "execute_result",
          "data": {
            "text/plain": [
              "tensor(1)"
            ]
          },
          "metadata": {},
          "execution_count": 49
        }
      ]
    },
    {
      "cell_type": "code",
      "source": [
        "x[:,:,1]"
      ],
      "metadata": {
        "colab": {
          "base_uri": "https://localhost:8080/"
        },
        "id": "wbEN2Z0maGgd",
        "outputId": "74d81699-adfe-486e-bed9-c0b6a81380d7"
      },
      "execution_count": 50,
      "outputs": [
        {
          "output_type": "execute_result",
          "data": {
            "text/plain": [
              "tensor([[2, 5, 8]])"
            ]
          },
          "metadata": {},
          "execution_count": 50
        }
      ]
    },
    {
      "cell_type": "code",
      "source": [
        "x[:,1,1]"
      ],
      "metadata": {
        "colab": {
          "base_uri": "https://localhost:8080/"
        },
        "id": "a-9ebjEHad4m",
        "outputId": "cbec22c7-397d-4609-a221-b7e25ad45d35"
      },
      "execution_count": 51,
      "outputs": [
        {
          "output_type": "execute_result",
          "data": {
            "text/plain": [
              "tensor([5])"
            ]
          },
          "metadata": {},
          "execution_count": 51
        }
      ]
    },
    {
      "cell_type": "code",
      "source": [
        "x[0,0,:]"
      ],
      "metadata": {
        "colab": {
          "base_uri": "https://localhost:8080/"
        },
        "id": "zKLxYUexayVw",
        "outputId": "4b0bfc57-bb84-4e91-979e-3a87d1363cce"
      },
      "execution_count": 52,
      "outputs": [
        {
          "output_type": "execute_result",
          "data": {
            "text/plain": [
              "tensor([1, 2, 3])"
            ]
          },
          "metadata": {},
          "execution_count": 52
        }
      ]
    },
    {
      "cell_type": "markdown",
      "source": [
        "# pytorch tensors and nyumpy\n",
        "\n",
        "scientific python numerical computing library\n",
        "\n"
      ],
      "metadata": {
        "id": "ELb9vqgYdjYR"
      }
    },
    {
      "cell_type": "code",
      "source": [
        "import torch\n",
        "import numpy as np\n",
        "\n",
        "array= np.arange(1.0,8.0)\n",
        "tensor=torch.from_numpy(array).type(torch.float32)# when coverting from numpy to pytorch, pytorch reflects numpys default datatype float64\n",
        "\n",
        "array , tensor"
      ],
      "metadata": {
        "id": "oIk1FMo8dqyF",
        "colab": {
          "base_uri": "https://localhost:8080/"
        },
        "outputId": "93abfc80-a6f1-4189-dfe7-8477333caa2b"
      },
      "execution_count": 53,
      "outputs": [
        {
          "output_type": "execute_result",
          "data": {
            "text/plain": [
              "(array([1., 2., 3., 4., 5., 6., 7.]), tensor([1., 2., 3., 4., 5., 6., 7.]))"
            ]
          },
          "metadata": {},
          "execution_count": 53
        }
      ]
    },
    {
      "cell_type": "code",
      "source": [
        "tensor.dtype"
      ],
      "metadata": {
        "colab": {
          "base_uri": "https://localhost:8080/"
        },
        "id": "V6vNHHLJT1KP",
        "outputId": "7fb5e224-36ad-47d2-b05a-0e30a2abae62"
      },
      "execution_count": 54,
      "outputs": [
        {
          "output_type": "execute_result",
          "data": {
            "text/plain": [
              "torch.float32"
            ]
          },
          "metadata": {},
          "execution_count": 54
        }
      ]
    },
    {
      "cell_type": "code",
      "source": [
        "#change the vlaue of array\n",
        "array=array+1\n",
        "array, tensor# tnesor remains unchanged from the original array\n"
      ],
      "metadata": {
        "colab": {
          "base_uri": "https://localhost:8080/"
        },
        "id": "jaG44S0RUD8j",
        "outputId": "6c37c5fd-1cb0-427a-afde-76b9a90c0a91"
      },
      "execution_count": 55,
      "outputs": [
        {
          "output_type": "execute_result",
          "data": {
            "text/plain": [
              "(array([2., 3., 4., 5., 6., 7., 8.]), tensor([1., 2., 3., 4., 5., 6., 7.]))"
            ]
          },
          "metadata": {},
          "execution_count": 55
        }
      ]
    },
    {
      "cell_type": "code",
      "source": [
        "# now reversing the roles we go from tensor to numpy\n",
        "\n",
        "tensor=torch.ones(7)\n",
        "numpy_tensor=tensor.numpy()\n",
        "tensor, numpy_tensor"
      ],
      "metadata": {
        "colab": {
          "base_uri": "https://localhost:8080/"
        },
        "id": "4hpdMkxwUVKl",
        "outputId": "643c5431-02a0-4c76-af87-c9aba0fbfc26"
      },
      "execution_count": 57,
      "outputs": [
        {
          "output_type": "execute_result",
          "data": {
            "text/plain": [
              "(tensor([1., 1., 1., 1., 1., 1., 1.]),\n",
              " array([1., 1., 1., 1., 1., 1., 1.], dtype=float32))"
            ]
          },
          "metadata": {},
          "execution_count": 57
        }
      ]
    },
    {
      "cell_type": "code",
      "source": [
        "numpy_tensor.dtype"
      ],
      "metadata": {
        "colab": {
          "base_uri": "https://localhost:8080/"
        },
        "id": "XmJLPvE3U0Gr",
        "outputId": "20eda0d4-2a52-49dc-84b1-3f0e99a8fdc0"
      },
      "execution_count": 58,
      "outputs": [
        {
          "output_type": "execute_result",
          "data": {
            "text/plain": [
              "dtype('float32')"
            ]
          },
          "metadata": {},
          "execution_count": 58
        }
      ]
    },
    {
      "cell_type": "code",
      "source": [
        "#change the tensor, what happens to numpy tensor\n",
        "tensor= tensor+1\n",
        "tensor,numpy_tensor# same behaviour as the previous one"
      ],
      "metadata": {
        "colab": {
          "base_uri": "https://localhost:8080/"
        },
        "id": "dGgCPqlUUcK8",
        "outputId": "415651e9-423a-4849-cdc1-04978f9e56c6"
      },
      "execution_count": 59,
      "outputs": [
        {
          "output_type": "execute_result",
          "data": {
            "text/plain": [
              "(tensor([2., 2., 2., 2., 2., 2., 2.]),\n",
              " array([1., 1., 1., 1., 1., 1., 1.], dtype=float32))"
            ]
          },
          "metadata": {},
          "execution_count": 59
        }
      ]
    },
    {
      "cell_type": "markdown",
      "source": [
        "# Reproducability in pytorch\n",
        "trying to take out the random out of random\n",
        "In short how a neural network works\n",
        "* start with random numbers -> tensor operations -> update those random numbers to make them similar to the desired output -> again -> again -> again\n",
        "\n",
        "to reduce randomness comes the concept of random seed\n",
        "\n",
        "Essentially what random seed does is \"flavor\" the randomness\n",
        "\n"
      ],
      "metadata": {
        "id": "FhchVfD_VEmC"
      }
    },
    {
      "cell_type": "code",
      "source": [
        "import torch\n",
        "\n",
        "random_tensorA=torch.rand(3,4)\n",
        "random_tensorB=torch.rand(3,4)\n",
        "\n",
        "print(random_tensorA)\n",
        "print(random_tensorB)\n",
        "print(random_tensorA==random_tensorB)\n",
        "\n"
      ],
      "metadata": {
        "colab": {
          "base_uri": "https://localhost:8080/"
        },
        "id": "5drE3RbGVkHk",
        "outputId": "6f71f291-0d3c-4bd3-aae8-78ec901a94e8"
      },
      "execution_count": 60,
      "outputs": [
        {
          "output_type": "execute_result",
          "data": {
            "text/plain": [
              "tensor([[0.0305, 0.9722, 0.0358],\n",
              "        [0.2017, 0.4095, 0.0434],\n",
              "        [0.8630, 0.3056, 0.3245]])"
            ]
          },
          "metadata": {},
          "execution_count": 60
        }
      ]
    },
    {
      "cell_type": "code",
      "source": [],
      "metadata": {
        "id": "7dQ_5yOcVmns"
      },
      "execution_count": null,
      "outputs": []
    }
  ]
}